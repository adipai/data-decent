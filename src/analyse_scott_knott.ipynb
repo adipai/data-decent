{
  "nbformat": 4,
  "nbformat_minor": 0,
  "metadata": {
    "colab": {
      "provenance": [],
      "authorship_tag": "ABX9TyOhPktbfQb72c2SiKdcmZjx",
      "include_colab_link": true
    },
    "kernelspec": {
      "name": "python3",
      "display_name": "Python 3"
    },
    "language_info": {
      "name": "python"
    }
  },
  "cells": [
    {
      "cell_type": "markdown",
      "metadata": {
        "id": "view-in-github",
        "colab_type": "text"
      },
      "source": [
        "<a href=\"https://colab.research.google.com/github/adipai/data-decent/blob/main/analyse_scott_knott.ipynb\" target=\"_parent\"><img src=\"https://colab.research.google.com/assets/colab-badge.svg\" alt=\"Open In Colab\"/></a>"
      ]
    },
    {
      "cell_type": "code",
      "execution_count": 1,
      "metadata": {
        "colab": {
          "base_uri": "https://localhost:8080/"
        },
        "id": "vE6pLY6TzHr-",
        "outputId": "68e131e3-77c1-4412-837b-2074d820cbd8"
      },
      "outputs": [
        {
          "output_type": "stream",
          "name": "stdout",
          "text": [
            "{'gaussian_copula_0.2': {0: 2, 1: 1}, 'No_Sampling_0.0': {0: 3}, 'gaussian_copula_0.4': {0: 3}, 'gaussian_copula_0.8': {0: 2, 1: 1}, 'gaussian_copula_1.0': {0: 2, 1: 1}, 'gaussian_copula_0.6': {0: 3}, 'intelligent_pruning0.7_0.2': {0: 3}, 'random_pruning_0.2': {0: 2, 1: 1}, 'intelligent_pruning0.5_0.2': {0: 3}, 'intelligent_pruning0.9_0.2': {0: 3}, 'intelligent_pruning0.9_0.4': {0: 2, 2: 1}, 'intelligent_pruning1.0_0.2': {0: 2, 1: 1}, 'intelligent_pruning1.0_0.4': {0: 2, 2: 1}, 'random_pruning_0.4': {0: 2, 1: 1}, 'intelligent_pruning0.5_0.4': {0: 2, 1: 1}, 'intelligent_pruning0.7_0.4': {1: 2, 0: 1}, 'intelligent_pruning0.9_0.6': {1: 1, 0: 1, 2: 1}, 'intelligent_pruning1.0_0.6': {1: 2, 0: 1}, 'random_pruning_0.6': {1: 2, 0: 1}, 'svm_smote_0.2': {1: 3}, 'intelligent_pruning0.5_0.6': {1: 1, 0: 1, 3: 1}, 'intelligent_pruning0.7_0.6': {1: 1, 0: 1, 2: 1}, 'intelligent_pruning0.9_0.8': {1: 1, 0: 1, 3: 1}, 'intelligent_pruning1.0_0.8': {1: 1, 0: 1, 3: 1}, 'random_oversampling_0.2': {1: 1, 0: 2}, 'smote_0.2': {1: 1, 0: 1, 3: 1}, 'svm_smote_0.4': {1: 2, 2: 1}, 'RRP_0.2': {1: 2, 0: 1}, 'random_oversampling_0.4': {2: 1, 1: 2}, 'random_pruning_0.8': {2: 1, 0: 1, 3: 1}, 'intelligent_pruning0.5_0.8': {2: 1, 0: 1, 5: 1}, 'intelligent_pruning0.7_0.8': {2: 1, 0: 1, 3: 1}, 'random_oversampling_0.6': {3: 1, 1: 1, 0: 1}, 'RRP_0.4': {3: 1, 1: 2}, 'random_oversampling_0.8': {3: 1, 2: 1, 1: 1}, 'random_oversampling_1.0': {3: 2, 1: 1}, 'RRP_0.6': {4: 1, 1: 2}, 'svm_smote_0.6': {4: 1, 1: 1, 3: 1}, 'RRP_0.8': {4: 1, 1: 2}, 'RRP_1.0': {4: 1, 2: 1, 1: 1}, 'smote_0.4': {4: 1, 1: 1, 3: 1}, 'svm_smote_0.8': {5: 1, 2: 2}, 'svm_smote_1.0': {5: 1, 3: 1, 2: 1}, 'smote_0.6': {5: 1, 4: 2}, 'smote_0.8': {6: 1, 5: 1, 4: 1}, 'intelligent_pruning0.5_1.0': {6: 1, 2: 1, 4: 1}, 'intelligent_pruning0.7_1.0': {6: 1, 2: 1, 4: 1}, 'intelligent_pruning0.9_1.0': {6: 1, 2: 1, 4: 1}, 'intelligent_pruning1.0_1.0': {6: 1, 2: 1, 4: 1}, 'smote_1.0': {7: 1, 6: 1, 4: 1}, 'random_pruning_1.0': {8: 1, 7: 1, 5: 1}}\n"
          ]
        }
      ],
      "source": [
        "import os\n",
        "\n",
        "def process_file(file_path, algo_dict):\n",
        "    with open(file_path, 'r') as file:\n",
        "        for line in file:\n",
        "            if line.startswith('#'):\n",
        "                continue\n",
        "            columns = line.strip().split(',')\n",
        "            rank = int(columns[0].strip())\n",
        "            algo_name = columns[1].strip()\n",
        "            if algo_name not in algo_dict:\n",
        "                algo_dict[algo_name] = {rank: 1}\n",
        "            else:\n",
        "                if rank not in algo_dict[algo_name]:\n",
        "                    algo_dict[algo_name][rank] = 1\n",
        "                else:\n",
        "                    algo_dict[algo_name][rank] += 1\n",
        "\n",
        "def count_algorithms(folder_path):\n",
        "    algo_dict = {}\n",
        "    for filename in os.listdir(folder_path):\n",
        "        if filename.endswith('.txt'):\n",
        "            file_path = os.path.join(folder_path, filename)\n",
        "            process_file(file_path, algo_dict)\n",
        "    return algo_dict\n",
        "\n",
        "# Make a folder called 'Data' in which you add all the sk txt files\n",
        "folder_path = 'data/'\n",
        "result = count_algorithms(folder_path)\n",
        "print(result)\n"
      ]
    }
  ]
}