{
  "nbformat": 4,
  "nbformat_minor": 0,
  "metadata": {
    "colab": {
      "provenance": [],
      "include_colab_link": true
    },
    "kernelspec": {
      "name": "python3",
      "display_name": "Python 3"
    },
    "language_info": {
      "name": "python"
    }
  },
  "cells": [
    {
      "cell_type": "markdown",
      "metadata": {
        "id": "view-in-github",
        "colab_type": "text"
      },
      "source": [
        "<a href=\"https://colab.research.google.com/github/adipai/data-decent/blob/main/src/analyse_scott_knott.ipynb\" target=\"_parent\"><img src=\"https://colab.research.google.com/assets/colab-badge.svg\" alt=\"Open In Colab\"/></a>"
      ]
    },
    {
      "cell_type": "code",
      "execution_count": 1,
      "metadata": {
        "id": "vE6pLY6TzHr-"
      },
      "outputs": [],
      "source": [
        "import os\n",
        "import re\n",
        "\n",
        "# Define regex patterns for each algorithm\n",
        "patterns = {\n",
        "    'RRP': r'RRP_(\\d+\\.\\d+),\\s+(\\d+\\.\\d+)',\n",
        "    'intelligent_pruning': r'intelligent_pruning(\\d+\\.\\d+_\\d+\\.\\d+),\\s+(\\d+\\.\\d+),\\s+(\\d+\\.\\d+)',\n",
        "    'random_pruning': r'random_pruning_(\\d+\\.\\d+),\\s+(\\d+\\.\\d+)',\n",
        "    'svm': r'svm_(?!smote)(\\d+\\.\\d+),\\s+(\\d+\\.\\d+)',\n",
        "    'svm_smote': r'svm_smote_(\\d+\\.\\d+),\\s+(\\d+\\.\\d+)',\n",
        "    'random_oversampling': r'random_oversampling_(\\d+\\.\\d+),\\s+(\\d+\\.\\d+)',\n",
        "    'gaussian_copula': r'gaussian_copula_(\\d+\\.\\d+),\\s+(\\d+\\.\\d+)',\n",
        "    'no_sampling': r'No_Sampling_(\\d+\\.\\d+),\\s+(\\d+\\.\\d+)'\n",
        "}\n",
        "\n",
        "# Function to count occurrences of algorithms for rank 0 in a file and track top value\n",
        "def count_algorithms(file_path, counts, top_values):\n",
        "    with open(file_path, 'r') as file:\n",
        "        lines = file.readlines()\n",
        "    for line in lines:\n",
        "        if line.startswith(' 0,'):\n",
        "            for algorithm, pattern in patterns.items():\n",
        "                match = re.search(pattern, line)\n",
        "                if match:\n",
        "                    counts[algorithm] += 1\n",
        "                    value = float(match.group(2))\n",
        "                    if top_values[algorithm] is None or value > top_values[algorithm]:\n",
        "                        top_values[algorithm] = value\n",
        "\n",
        "    return counts, top_values\n",
        "\n",
        "# Get a list of all .txt files in the data folder\n",
        "data_folder = 'data/'\n",
        "txt_files = [f for f in os.listdir(data_folder) if f.endswith('.txt')]\n",
        "\n",
        "# Count occurrences of algorithms for rank 0 in each file\n",
        "algo_counts_files = []\n",
        "values_dataset = dict()\n",
        "for txt_file in txt_files:\n",
        "    file_path = os.path.join(data_folder, txt_file)\n",
        "    # Initialize counts dictionary\n",
        "    counts = {\n",
        "        'RRP': 0,\n",
        "        'intelligent_pruning': 0,\n",
        "        'random_pruning': 0,\n",
        "        'svm': 0,\n",
        "        'svm_smote': 0,\n",
        "        'random_oversampling': 0,\n",
        "        'gaussian_copula': 0,\n",
        "        'no_sampling':0\n",
        "    }\n",
        "    top_values = {\n",
        "        'RRP': None,\n",
        "        'intelligent_pruning': None,\n",
        "        'random_pruning': None,\n",
        "        'svm': None,\n",
        "        'svm_smote': None,\n",
        "        'random_oversampling': None,\n",
        "        'gaussian_copula': None,\n",
        "        'no_sampling':None\n",
        "    }\n",
        "    counts, top_values = count_algorithms(file_path, counts, top_values)\n",
        "    algo_counts_files.append(counts)\n",
        "    start = txt_file.index(\"knotty_\") + len(\"knotty_\")\n",
        "    end = txt_file.index(\".txt\")\n",
        "    dataset_name = txt_file[start:end]\n",
        "\n",
        "    values_dataset[dataset_name] = top_values\n",
        "\n",
        "avg_wins_algo = {\n",
        "    'RRP': 0,\n",
        "    'intelligent_pruning': 0,\n",
        "    'random_pruning': 0,\n",
        "    'svm': 0,\n",
        "    'svm_smote': 0,\n",
        "    'random_oversampling': 0,\n",
        "    'gaussian_copula': 0,\n",
        "    'no_sampling':0\n",
        "}\n",
        "for algo_counts_file in algo_counts_files:\n",
        "  for algo_name, algo_counts in algo_counts_file.items():\n",
        "    avg_wins_algo[algo_name] += algo_counts\n",
        "\n",
        "\n",
        "for algo_name, algo_avg_wins in avg_wins_algo.items():\n",
        "  avg_wins_algo[algo_name] = int(avg_wins_algo[algo_name] / len(avg_wins_algo))\n",
        "\n"
      ]
    },
    {
      "cell_type": "code",
      "source": [
        "print(values_dataset)"
      ],
      "metadata": {
        "id": "WkaDc3DUQ0X-",
        "outputId": "b480678f-b3d4-4a70-a880-e880d293d260",
        "colab": {
          "base_uri": "https://localhost:8080/"
        }
      },
      "execution_count": 2,
      "outputs": [
        {
          "output_type": "stream",
          "name": "stdout",
          "text": [
            "{'churn': {'RRP': 0.82, 'intelligent_pruning': 0.82, 'random_pruning': 0.87, 'svm': None, 'svm_smote': None, 'random_oversampling': 0.8, 'gaussian_copula': 0.84, 'no_sampling': None}, 'defect_mylyn': {'RRP': 0.58, 'intelligent_pruning': 0.58, 'random_pruning': None, 'svm': None, 'svm_smote': None, 'random_oversampling': 0.56, 'gaussian_copula': None, 'no_sampling': None}, 'js_vuln': {'RRP': None, 'intelligent_pruning': None, 'random_pruning': None, 'svm': None, 'svm_smote': 0.6, 'random_oversampling': 0.58, 'gaussian_copula': None, 'no_sampling': None}, 'Moodle_Vuln': {'RRP': None, 'intelligent_pruning': 0.43, 'random_pruning': 0.43, 'svm': None, 'svm_smote': None, 'random_oversampling': None, 'gaussian_copula': None, 'no_sampling': None}, 'eclipse_PDE': {'RRP': None, 'intelligent_pruning': 0.64, 'random_pruning': 0.59, 'svm': None, 'svm_smote': None, 'random_oversampling': None, 'gaussian_copula': None, 'no_sampling': None}, 'breast_cancer': {'RRP': None, 'intelligent_pruning': 0.61, 'random_pruning': 0.53, 'svm': None, 'svm_smote': None, 'random_oversampling': None, 'gaussian_copula': None, 'no_sampling': None}, 'eclipse_JDT': {'RRP': 0.7, 'intelligent_pruning': 0.72, 'random_pruning': 0.68, 'svm': None, 'svm_smote': None, 'random_oversampling': None, 'gaussian_copula': None, 'no_sampling': None}, 'ambari_vuln': {'RRP': None, 'intelligent_pruning': None, 'random_pruning': 0.6, 'svm': None, 'svm_smote': None, 'random_oversampling': None, 'gaussian_copula': None, 'no_sampling': None}}\n"
          ]
        }
      ]
    },
    {
      "cell_type": "code",
      "source": [
        "columns = ['breast_cancer', 'churn', 'js_vuln', 'ambari_vuln', 'eclipse_JDT','eclipse_PDE', 'Moodle_Vuln', 'defect_mylyn']\n",
        "\n",
        "# Create a new dictionary with sorted keys\n",
        "sorted_values_dataset = {key: values_dataset[key] for key in columns if key in values_dataset}\n",
        "\n",
        "# print(sorted_values_dataset)\n",
        "# Define the algorithm order\n",
        "algorithm_order = ['random_oversampling', 'svm', 'svm_smote', 'gaussian_copula', 'RRP', 'no_sampling', 'random_pruning', 'intelligent_pruning']\n",
        "\n",
        "# Sort the inner dictionaries based on the algorithm order\n",
        "sorted_values_dataset = {key: {k: values_dataset[key][k] for k in algorithm_order if k in values_dataset[key]} for key in values_dataset}\n",
        "\n",
        "print(sorted_values_dataset)\n"
      ],
      "metadata": {
        "id": "OpLmykegIyBn",
        "outputId": "2386105c-5ad9-41c6-fdd0-0e95ebd01c7f",
        "colab": {
          "base_uri": "https://localhost:8080/"
        }
      },
      "execution_count": 3,
      "outputs": [
        {
          "output_type": "stream",
          "name": "stdout",
          "text": [
            "{'churn': {'random_oversampling': 0.8, 'svm': None, 'svm_smote': None, 'gaussian_copula': 0.84, 'RRP': 0.82, 'no_sampling': None, 'random_pruning': 0.87, 'intelligent_pruning': 0.82}, 'defect_mylyn': {'random_oversampling': 0.56, 'svm': None, 'svm_smote': None, 'gaussian_copula': None, 'RRP': 0.58, 'no_sampling': None, 'random_pruning': None, 'intelligent_pruning': 0.58}, 'js_vuln': {'random_oversampling': 0.58, 'svm': None, 'svm_smote': 0.6, 'gaussian_copula': None, 'RRP': None, 'no_sampling': None, 'random_pruning': None, 'intelligent_pruning': None}, 'Moodle_Vuln': {'random_oversampling': None, 'svm': None, 'svm_smote': None, 'gaussian_copula': None, 'RRP': None, 'no_sampling': None, 'random_pruning': 0.43, 'intelligent_pruning': 0.43}, 'eclipse_PDE': {'random_oversampling': None, 'svm': None, 'svm_smote': None, 'gaussian_copula': None, 'RRP': None, 'no_sampling': None, 'random_pruning': 0.59, 'intelligent_pruning': 0.64}, 'breast_cancer': {'random_oversampling': None, 'svm': None, 'svm_smote': None, 'gaussian_copula': None, 'RRP': None, 'no_sampling': None, 'random_pruning': 0.53, 'intelligent_pruning': 0.61}, 'eclipse_JDT': {'random_oversampling': None, 'svm': None, 'svm_smote': None, 'gaussian_copula': None, 'RRP': 0.7, 'no_sampling': None, 'random_pruning': 0.68, 'intelligent_pruning': 0.72}, 'ambari_vuln': {'random_oversampling': None, 'svm': None, 'svm_smote': None, 'gaussian_copula': None, 'RRP': None, 'no_sampling': None, 'random_pruning': 0.6, 'intelligent_pruning': None}}\n"
          ]
        }
      ]
    },
    {
      "cell_type": "code",
      "source": [
        "import pandas as pd\n",
        "# Create the DataFrame\n",
        "df = pd.DataFrame(sorted_values_dataset)\n",
        "\n",
        "# Sort the columns of the DataFrame\n",
        "df = df.reindex(columns=columns)\n",
        "\n",
        "print(df)"
      ],
      "metadata": {
        "id": "LzBybfMyTql8",
        "outputId": "6f9d1626-5214-4ccc-942d-53ab80ffc370",
        "colab": {
          "base_uri": "https://localhost:8080/"
        }
      },
      "execution_count": 4,
      "outputs": [
        {
          "output_type": "stream",
          "name": "stdout",
          "text": [
            "                     breast_cancer  churn  js_vuln  ambari_vuln  eclipse_JDT  \\\n",
            "random_oversampling            NaN   0.80     0.58          NaN          NaN   \n",
            "svm                            NaN    NaN      NaN          NaN          NaN   \n",
            "svm_smote                      NaN    NaN     0.60          NaN          NaN   \n",
            "gaussian_copula                NaN   0.84      NaN          NaN          NaN   \n",
            "RRP                            NaN   0.82      NaN          NaN         0.70   \n",
            "no_sampling                    NaN    NaN      NaN          NaN          NaN   \n",
            "random_pruning                0.53   0.87      NaN          0.6         0.68   \n",
            "intelligent_pruning           0.61   0.82      NaN          NaN         0.72   \n",
            "\n",
            "                     eclipse_PDE  Moodle_Vuln  defect_mylyn  \n",
            "random_oversampling          NaN          NaN          0.56  \n",
            "svm                          NaN          NaN           NaN  \n",
            "svm_smote                    NaN          NaN           NaN  \n",
            "gaussian_copula              NaN          NaN           NaN  \n",
            "RRP                          NaN          NaN          0.58  \n",
            "no_sampling                  NaN          NaN           NaN  \n",
            "random_pruning              0.59         0.43           NaN  \n",
            "intelligent_pruning         0.64         0.43          0.58  \n"
          ]
        }
      ]
    },
    {
      "cell_type": "code",
      "source": [
        "print(avg_wins_algo)"
      ],
      "metadata": {
        "id": "XhkETQxfWNGt",
        "outputId": "c57ff9db-ab5f-4ac1-f046-6e1b7c83ab57",
        "colab": {
          "base_uri": "https://localhost:8080/"
        }
      },
      "execution_count": 5,
      "outputs": [
        {
          "output_type": "stream",
          "name": "stdout",
          "text": [
            "{'RRP': 0, 'intelligent_pruning': 1, 'random_pruning': 0, 'svm': 0, 'svm_smote': 0, 'random_oversampling': 0, 'gaussian_copula': 0, 'no_sampling': 0}\n"
          ]
        }
      ]
    }
  ]
}