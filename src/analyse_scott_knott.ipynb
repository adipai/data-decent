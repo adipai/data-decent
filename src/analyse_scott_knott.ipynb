{
  "nbformat": 4,
  "nbformat_minor": 0,
  "metadata": {
    "colab": {
      "provenance": [],
      "include_colab_link": true
    },
    "kernelspec": {
      "name": "python3",
      "display_name": "Python 3"
    },
    "language_info": {
      "name": "python"
    }
  },
  "cells": [
    {
      "cell_type": "markdown",
      "metadata": {
        "id": "view-in-github",
        "colab_type": "text"
      },
      "source": [
        "<a href=\"https://colab.research.google.com/github/adipai/data-decent/blob/main/src/analyse_scott_knott.ipynb\" target=\"_parent\"><img src=\"https://colab.research.google.com/assets/colab-badge.svg\" alt=\"Open In Colab\"/></a>"
      ]
    },
    {
      "cell_type": "code",
      "execution_count": 48,
      "metadata": {
        "id": "vE6pLY6TzHr-"
      },
      "outputs": [],
      "source": [
        "import os\n",
        "import re\n",
        "\n",
        "# Define regex patterns for each algorithm\n",
        "patterns = {\n",
        "    'RRP': r'RRP_(\\d+\\.\\d+),\\s+(\\d+\\.\\d+)',\n",
        "    'intelligent_pruning': r'intelligent_pruning(\\d+\\.\\d+_\\d+\\.\\d+),\\s+(\\d+\\.\\d+),\\s+(\\d+\\.\\d+)',\n",
        "    'random_pruning': r'random_pruning_(\\d+\\.\\d+),\\s+(\\d+\\.\\d+)',\n",
        "    'smote': r'smote_(\\d+\\.\\d+),\\s+(\\d+\\.\\d+)',\n",
        "    'svm_smote': r'svm_smote_(\\d+\\.\\d+),\\s+(\\d+\\.\\d+)',\n",
        "    'random_oversampling': r'random_oversampling_(\\d+\\.\\d+),\\s+(\\d+\\.\\d+)',\n",
        "    'gaussian_copula': r'gaussian_copula_(\\d+\\.\\d+),\\s+(\\d+\\.\\d+)',\n",
        "    'no_sampling': r'No_Sampling_(\\d+\\.\\d+),\\s+(\\d+\\.\\d+)'\n",
        "}\n",
        "\n",
        "# Function to count occurrences of algorithms for rank 0 in a file and track top value\n",
        "def count_algorithms(file_path, counts, top_values):\n",
        "    with open(file_path, 'r') as file:\n",
        "        lines = file.readlines()\n",
        "    for line in lines:\n",
        "        if line.startswith(' 0,'):\n",
        "            for algorithm, pattern in patterns.items():\n",
        "                match = re.search(pattern, line)\n",
        "                if match:\n",
        "                    counts[algorithm] += 1\n",
        "                    value = float(match.group(2))\n",
        "                    if top_values[algorithm] is None or value > top_values[algorithm]:\n",
        "                        top_values[algorithm] = value\n",
        "\n",
        "    return counts, top_values\n",
        "\n",
        "# Get a list of all .txt files in the data folder\n",
        "data_folder = 'data/'\n",
        "txt_files = [f for f in os.listdir(data_folder) if f.endswith('.txt')]\n",
        "\n",
        "# Count occurrences of algorithms for rank 0 in each file\n",
        "algo_counts_files = []\n",
        "values_dataset = dict()\n",
        "for txt_file in txt_files:\n",
        "    file_path = os.path.join(data_folder, txt_file)\n",
        "    # Initialize counts dictionary\n",
        "    counts = {\n",
        "        'RRP': 0,\n",
        "        'intelligent_pruning': 0,\n",
        "        'random_pruning': 0,\n",
        "        'smote': 0,\n",
        "        'svm_smote': 0,\n",
        "        'random_oversampling': 0,\n",
        "        'gaussian_copula': 0,\n",
        "        'no_sampling':0\n",
        "    }\n",
        "    top_values = {\n",
        "        'RRP': None,\n",
        "        'intelligent_pruning': None,\n",
        "        'random_pruning': None,\n",
        "        'smote': None,\n",
        "        'svm_smote': None,\n",
        "        'random_oversampling': None,\n",
        "        'gaussian_copula': None,\n",
        "        'no_sampling':None\n",
        "    }\n",
        "    counts, top_values = count_algorithms(file_path, counts, top_values)\n",
        "    algo_counts_files.append(counts)\n",
        "    start = txt_file.index(\"knotty_\") + len(\"knotty_\")\n",
        "    end = txt_file.index(\".txt\")\n",
        "    dataset_name = txt_file[start:end]\n",
        "\n",
        "    values_dataset[dataset_name] = top_values\n",
        "\n",
        "avg_wins_algo = {\n",
        "    'RRP': 0,\n",
        "    'intelligent_pruning': 0,\n",
        "    'random_pruning': 0,\n",
        "    'smote': 0,\n",
        "    'svm_smote': 0,\n",
        "    'random_oversampling': 0,\n",
        "    'gaussian_copula': 0,\n",
        "    'no_sampling':0\n",
        "}\n",
        "\n",
        "for file_contents in algo_counts_files:\n",
        "  for algo_name, algo_counts in file_contents.items():\n",
        "    if(algo_counts == None):\n",
        "      continue\n",
        "    avg_wins_algo[algo_name] += algo_counts\n",
        "\n",
        "\n",
        "for algo_name, algo_avg_wins in avg_wins_algo.items():\n",
        "  avg_wins_algo[algo_name] = avg_wins_algo[algo_name] / len(algo_counts_files)\n"
      ]
    },
    {
      "cell_type": "code",
      "source": [
        "columns = ['breast_cancer', 'churn', 'js_vuln', 'ambari_vuln', 'eclipse_JDT','eclipse_PDE', 'Moodle_Vuln', 'defect_mylyn']\n",
        "\n",
        "# Create a new dictionary with sorted keys\n",
        "sorted_values_dataset = {key: values_dataset[key] for key in columns if key in values_dataset}\n",
        "\n",
        "# print(sorted_values_dataset)\n",
        "# Define the algorithm order\n",
        "algorithm_order = ['random_oversampling', 'smote', 'svm_smote', 'gaussian_copula', 'RRP', 'no_sampling', 'random_pruning', 'intelligent_pruning']\n",
        "\n",
        "# Sort the inner dictionaries based on the algorithm order\n",
        "sorted_values_dataset = {key: {k: values_dataset[key][k] for k in algorithm_order if k in values_dataset[key]} for key in values_dataset}\n",
        "\n",
        "print(sorted_values_dataset)\n"
      ],
      "metadata": {
        "id": "OpLmykegIyBn",
        "outputId": "f4935092-dd43-41ea-db7b-d07fbfdd0cdd",
        "colab": {
          "base_uri": "https://localhost:8080/"
        }
      },
      "execution_count": 49,
      "outputs": [
        {
          "output_type": "stream",
          "name": "stdout",
          "text": [
            "{'churn': {'random_oversampling': 0.27, 'smote': 0.26, 'svm_smote': 0.26, 'gaussian_copula': 0.26, 'RRP': 0.27, 'no_sampling': 0.26, 'random_pruning': 0.26, 'intelligent_pruning': 0.27}, 'js_vuln': {'random_oversampling': 0.29, 'smote': 0.29, 'svm_smote': 0.29, 'gaussian_copula': 0.29, 'RRP': 0.29, 'no_sampling': 0.29, 'random_pruning': 0.29, 'intelligent_pruning': 0.29}, 'Moodle_Vuln': {'random_oversampling': 0.06, 'smote': 0.06, 'svm_smote': None, 'gaussian_copula': 0.05, 'RRP': None, 'no_sampling': None, 'random_pruning': 0.05, 'intelligent_pruning': 0.05}, 'breast_cancer': {'random_oversampling': 0.35, 'smote': 0.38, 'svm_smote': 0.34, 'gaussian_copula': 0.34, 'RRP': None, 'no_sampling': 0.34, 'random_pruning': 0.35, 'intelligent_pruning': 0.44}, 'defect_mylyn': {'random_oversampling': 0.31, 'smote': 0.31, 'svm_smote': 0.31, 'gaussian_copula': 0.31, 'RRP': 0.3, 'no_sampling': 0.31, 'random_pruning': 0.31, 'intelligent_pruning': 0.31}, 'eclipse_JDT': {'random_oversampling': 0.47, 'smote': 0.48, 'svm_smote': 0.48, 'gaussian_copula': 0.47, 'RRP': 0.47, 'no_sampling': 0.45, 'random_pruning': 0.46, 'intelligent_pruning': 0.47}, 'eclipse_PDE': {'random_oversampling': 0.28, 'smote': 0.28, 'svm_smote': 0.28, 'gaussian_copula': 0.26, 'RRP': None, 'no_sampling': 0.26, 'random_pruning': 0.28, 'intelligent_pruning': 0.29}, 'ambari_vuln': {'random_oversampling': None, 'smote': None, 'svm_smote': None, 'gaussian_copula': 0.08, 'RRP': None, 'no_sampling': None, 'random_pruning': 0.08, 'intelligent_pruning': 0.08}}\n"
          ]
        }
      ]
    },
    {
      "cell_type": "code",
      "source": [
        "import pandas as pd\n",
        "# Create the DataFrame\n",
        "df = pd.DataFrame(sorted_values_dataset)\n",
        "\n",
        "# Sort the columns of the DataFrame\n",
        "df = df.reindex(columns=columns)\n",
        "\n",
        "print(df)"
      ],
      "metadata": {
        "id": "LzBybfMyTql8",
        "outputId": "c77ec98c-7079-478f-867f-f443577b8ab8",
        "colab": {
          "base_uri": "https://localhost:8080/"
        }
      },
      "execution_count": 50,
      "outputs": [
        {
          "output_type": "stream",
          "name": "stdout",
          "text": [
            "                     breast_cancer  churn  js_vuln  ambari_vuln  eclipse_JDT  \\\n",
            "random_oversampling           0.35   0.27     0.29          NaN         0.47   \n",
            "smote                         0.38   0.26     0.29          NaN         0.48   \n",
            "svm_smote                     0.34   0.26     0.29          NaN         0.48   \n",
            "gaussian_copula               0.34   0.26     0.29         0.08         0.47   \n",
            "RRP                            NaN   0.27     0.29          NaN         0.47   \n",
            "no_sampling                   0.34   0.26     0.29          NaN         0.45   \n",
            "random_pruning                0.35   0.26     0.29         0.08         0.46   \n",
            "intelligent_pruning           0.44   0.27     0.29         0.08         0.47   \n",
            "\n",
            "                     eclipse_PDE  Moodle_Vuln  defect_mylyn  \n",
            "random_oversampling         0.28         0.06          0.31  \n",
            "smote                       0.28         0.06          0.31  \n",
            "svm_smote                   0.28          NaN          0.31  \n",
            "gaussian_copula             0.26         0.05          0.31  \n",
            "RRP                          NaN          NaN          0.30  \n",
            "no_sampling                 0.26          NaN          0.31  \n",
            "random_pruning              0.28         0.05          0.31  \n",
            "intelligent_pruning         0.29         0.05          0.31  \n"
          ]
        }
      ]
    },
    {
      "cell_type": "code",
      "source": [
        "print(avg_wins_algo)"
      ],
      "metadata": {
        "id": "XhkETQxfWNGt",
        "outputId": "7a8c9239-1482-48bb-f69b-9531163c7af5",
        "colab": {
          "base_uri": "https://localhost:8080/"
        }
      },
      "execution_count": 51,
      "outputs": [
        {
          "output_type": "stream",
          "name": "stdout",
          "text": [
            "{'RRP': 2.5, 'intelligent_pruning': 18.0, 'random_pruning': 4.5, 'smote': 7.625, 'svm_smote': 3.75, 'random_oversampling': 3.875, 'gaussian_copula': 4.5, 'no_sampling': 0.75}\n"
          ]
        }
      ]
    }
  ]
}