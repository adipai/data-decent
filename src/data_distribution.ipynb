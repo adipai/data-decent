{
  "nbformat": 4,
  "nbformat_minor": 0,
  "metadata": {
    "colab": {
      "provenance": [],
      "authorship_tag": "ABX9TyNOaBupbI/gNWnBrJspQCLc",
      "include_colab_link": true
    },
    "kernelspec": {
      "name": "python3",
      "display_name": "Python 3"
    },
    "language_info": {
      "name": "python"
    }
  },
  "cells": [
    {
      "cell_type": "markdown",
      "metadata": {
        "id": "view-in-github",
        "colab_type": "text"
      },
      "source": [
        "<a href=\"https://colab.research.google.com/github/adipai/data-decent/blob/main/src/data_distribution.ipynb\" target=\"_parent\"><img src=\"https://colab.research.google.com/assets/colab-badge.svg\" alt=\"Open In Colab\"/></a>"
      ]
    },
    {
      "cell_type": "code",
      "execution_count": null,
      "metadata": {
        "colab": {
          "base_uri": "https://localhost:8080/"
        },
        "id": "ZaFYMFWQ7tUN",
        "outputId": "69ac810a-673b-40d3-a875-b0bf1fae3d21"
      },
      "outputs": [
        {
          "output_type": "stream",
          "name": "stdout",
          "text": [
            "Requirement already satisfied: pmlb in /usr/local/lib/python3.10/dist-packages (1.0.1.post3)\n",
            "Requirement already satisfied: pandas>=1.0.5 in /usr/local/lib/python3.10/dist-packages (from pmlb) (2.0.3)\n",
            "Requirement already satisfied: requests>=2.24.0 in /usr/local/lib/python3.10/dist-packages (from pmlb) (2.31.0)\n",
            "Requirement already satisfied: pyyaml>=5.3.1 in /usr/local/lib/python3.10/dist-packages (from pmlb) (6.0.1)\n",
            "Requirement already satisfied: python-dateutil>=2.8.2 in /usr/local/lib/python3.10/dist-packages (from pandas>=1.0.5->pmlb) (2.8.2)\n",
            "Requirement already satisfied: pytz>=2020.1 in /usr/local/lib/python3.10/dist-packages (from pandas>=1.0.5->pmlb) (2023.4)\n",
            "Requirement already satisfied: tzdata>=2022.1 in /usr/local/lib/python3.10/dist-packages (from pandas>=1.0.5->pmlb) (2024.1)\n",
            "Requirement already satisfied: numpy>=1.21.0 in /usr/local/lib/python3.10/dist-packages (from pandas>=1.0.5->pmlb) (1.25.2)\n",
            "Requirement already satisfied: charset-normalizer<4,>=2 in /usr/local/lib/python3.10/dist-packages (from requests>=2.24.0->pmlb) (3.3.2)\n",
            "Requirement already satisfied: idna<4,>=2.5 in /usr/local/lib/python3.10/dist-packages (from requests>=2.24.0->pmlb) (3.6)\n",
            "Requirement already satisfied: urllib3<3,>=1.21.1 in /usr/local/lib/python3.10/dist-packages (from requests>=2.24.0->pmlb) (2.0.7)\n",
            "Requirement already satisfied: certifi>=2017.4.17 in /usr/local/lib/python3.10/dist-packages (from requests>=2.24.0->pmlb) (2024.2.2)\n",
            "Requirement already satisfied: six>=1.5 in /usr/local/lib/python3.10/dist-packages (from python-dateutil>=2.8.2->pandas>=1.0.5->pmlb) (1.16.0)\n"
          ]
        }
      ],
      "source": [
        "!pip install pmlb"
      ]
    },
    {
      "cell_type": "code",
      "source": [
        "!unzip data.zip"
      ],
      "metadata": {
        "colab": {
          "base_uri": "https://localhost:8080/"
        },
        "id": "EtxDXGj478oQ",
        "outputId": "0a1d5fa6-d679-49ce-96d2-1034a4b55cc4"
      },
      "execution_count": null,
      "outputs": [
        {
          "output_type": "stream",
          "name": "stdout",
          "text": [
            "Archive:  data.zip\n",
            "replace data/README.md? [y]es, [n]o, [A]ll, [N]one, [r]ename: "
          ]
        }
      ]
    },
    {
      "cell_type": "code",
      "source": [
        "# All imports here\n",
        "import pandas as pd\n",
        "import numpy as np\n",
        "\n",
        "from pmlb import fetch_data\n",
        "from scipy.io import arff"
      ],
      "metadata": {
        "id": "L8dIJ2Oc76JS"
      },
      "execution_count": null,
      "outputs": []
    },
    {
      "cell_type": "code",
      "source": [
        "df = fetch_data('breast_cancer')\n",
        "print(\"#Rows: \", len(df))\n",
        "print(\"#Columns: \", len(df.columns))\n",
        "print(\"Class-Distribution: \", int((np.unique(df.iloc[:,-1], return_counts=True)[1][0]/len(df))*100), 100-int((np.unique(df.iloc[:,-1], return_counts=True)[1][0]/len(df))*100))"
      ],
      "metadata": {
        "colab": {
          "base_uri": "https://localhost:8080/"
        },
        "id": "mvypt6Ph8jv6",
        "outputId": "8d24c8aa-c7ca-465b-85c2-9a7bdf2e6f18"
      },
      "execution_count": null,
      "outputs": [
        {
          "output_type": "stream",
          "name": "stdout",
          "text": [
            "#Rows:  286\n",
            "#Columns:  10\n",
            "Class-Distribution:  70 30\n"
          ]
        }
      ]
    },
    {
      "cell_type": "code",
      "source": [
        "df = fetch_data('churn')\n",
        "print(\"#Rows: \", len(df))\n",
        "print(\"#Columns: \", len(df.columns))\n",
        "print(\"Class-Distribution: \", int((np.unique(df.iloc[:,-1], return_counts=True)[1][0]/len(df))*100), 100-int((np.unique(df.iloc[:,-1], return_counts=True)[1][0]/len(df))*100))"
      ],
      "metadata": {
        "colab": {
          "base_uri": "https://localhost:8080/"
        },
        "id": "oAHBTyFv9r30",
        "outputId": "a0905122-bba2-42ff-d280-5f66d9e185ca"
      },
      "execution_count": null,
      "outputs": [
        {
          "output_type": "stream",
          "name": "stdout",
          "text": [
            "#Rows:  5000\n",
            "#Columns:  21\n",
            "Class-Distribution:  85 15\n"
          ]
        }
      ]
    },
    {
      "cell_type": "code",
      "source": [
        "\n",
        "project = \"Defect_Eclipse_JDT_Core\"\n",
        "fname = \"_\".join(project.split(\"_\")[1:])\n",
        "data_path = f\"data/imbalance_defects_prediction/7_CK_NET_PROC/input/{fname}--CK_NET_PROC.arff\"\n",
        "data = arff.loadarff(data_path)\n",
        "df = pd.DataFrame(data[0])\n",
        "df['isBug'] = df['isBug'].astype('str')\n",
        "d = {'YES': 1, 'NO': 0}  # Remove the byte string prefix 'b'\n",
        "df['isBug'] = df['isBug'].map(d).fillna(df['isBug'])\n",
        "print(df['isBug'])\n",
        "print(\"before drop duplicates\", df.shape[0])\n",
        "df = df.drop_duplicates()\n",
        "df.reset_index(inplace=True, drop=True)\n",
        "print(\"after drop duplicates\", df.shape[0])\n",
        "print(\"#Rows: \", len(df))\n",
        "print(\"#Columns: \", len(df.columns))\n",
        "print(\"Class-Distribution: \", int((np.unique(df.iloc[:,-1], return_counts=True)[1][0]/len(df))*100), 100-int((np.unique(df.iloc[:,-1], return_counts=True)[1][0]/len(df))*100))"
      ],
      "metadata": {
        "colab": {
          "base_uri": "https://localhost:8080/"
        },
        "id": "JwaQ7DzN9RtF",
        "outputId": "201ce973-9aac-4670-e177-1fc7b8603770"
      },
      "execution_count": null,
      "outputs": [
        {
          "output_type": "stream",
          "name": "stdout",
          "text": [
            "0      0\n",
            "1      0\n",
            "2      0\n",
            "3      0\n",
            "4      0\n",
            "      ..\n",
            "992    0\n",
            "993    0\n",
            "994    0\n",
            "995    0\n",
            "996    0\n",
            "Name: isBug, Length: 997, dtype: int64\n",
            "before drop duplicates 997\n",
            "after drop duplicates 997\n",
            "#Rows:  997\n",
            "#Columns:  82\n",
            "Class-Distribution:  79 21\n"
          ]
        }
      ]
    },
    {
      "cell_type": "code",
      "source": [
        "\n",
        "project = \"Defect_Eclipse_PDE_UI\"\n",
        "fname = \"_\".join(project.split(\"_\")[1:])\n",
        "data_path = f\"data/imbalance_defects_prediction/7_CK_NET_PROC/input/{fname}--CK_NET_PROC.arff\"\n",
        "data = arff.loadarff(data_path)\n",
        "df = pd.DataFrame(data[0])\n",
        "df['isBug'] = df['isBug'].astype('str')\n",
        "d = {'YES': 1, 'NO': 0}  # Remove the byte string prefix 'b'\n",
        "df['isBug'] = df['isBug'].map(d).fillna(df['isBug'])\n",
        "print(df['isBug'])\n",
        "print(\"before drop duplicates\", df.shape[0])\n",
        "df = df.drop_duplicates()\n",
        "df.reset_index(inplace=True, drop=True)\n",
        "print(\"after drop duplicates\", df.shape[0])\n",
        "\n",
        "print(\"#Rows: \", len(df))\n",
        "print(\"#Columns: \", len(df.columns))\n",
        "print(\"Class-Distribution: \", int((np.unique(df.iloc[:,-1], return_counts=True)[1][0]/len(df))*100), 100-int((np.unique(df.iloc[:,-1], return_counts=True)[1][0]/len(df))*100))"
      ],
      "metadata": {
        "colab": {
          "base_uri": "https://localhost:8080/"
        },
        "id": "LE43z00V9SIJ",
        "outputId": "7383ead9-be2e-42ec-cb8f-23a6cd438e2f"
      },
      "execution_count": null,
      "outputs": [
        {
          "output_type": "stream",
          "name": "stdout",
          "text": [
            "0       1\n",
            "1       0\n",
            "2       0\n",
            "3       1\n",
            "4       0\n",
            "       ..\n",
            "1492    0\n",
            "1493    0\n",
            "1494    0\n",
            "1495    0\n",
            "1496    0\n",
            "Name: isBug, Length: 1497, dtype: int64\n",
            "before drop duplicates 1497\n",
            "after drop duplicates 1497\n",
            "#Rows:  1497\n",
            "#Columns:  82\n",
            "Class-Distribution:  86 14\n"
          ]
        }
      ]
    },
    {
      "cell_type": "code",
      "source": [
        "\n",
        "project = \"Defect_Mylyn\"\n",
        "fname = \"_\".join(project.split(\"_\")[1:])\n",
        "data_path = f\"data/imbalance_defects_prediction/7_CK_NET_PROC/input/{fname}--CK_NET_PROC.arff\"\n",
        "data = arff.loadarff(data_path)\n",
        "df = pd.DataFrame(data[0])\n",
        "df['isBug'] = df['isBug'].astype('str')\n",
        "d = {'b\\'YES\\'': 1, 'b\\'NO\\'': 0}\n",
        "df['isBug'] = df['isBug'].astype(str).map(d).fillna(df['isBug'])\n",
        "df['isBug'] = df['isBug'].map({'YES': 1.0, 'NO': 0.0})\n",
        "print(\"before drop duplicates\", df.shape[0])\n",
        "df = df.drop_duplicates()\n",
        "df.reset_index(inplace=True, drop=True)\n",
        "print(\"after drop duplicates\", df.shape[0])\n",
        "print(\"#Rows: \", len(df))\n",
        "print(\"#Columns: \", len(df.columns))\n",
        "print(\"Class-Distribution: \", int((np.unique(df.iloc[:,-1], return_counts=True)[1][0]/len(df))*100), 100-int((np.unique(df.iloc[:,-1], return_counts=True)[1][0]/len(df))*100))"
      ],
      "metadata": {
        "colab": {
          "base_uri": "https://localhost:8080/"
        },
        "id": "85AcEL3o9cIW",
        "outputId": "d543f56f-9956-45d8-9590-e0f077971247"
      },
      "execution_count": null,
      "outputs": [
        {
          "output_type": "stream",
          "name": "stdout",
          "text": [
            "before drop duplicates 1862\n",
            "after drop duplicates 1861\n",
            "#Rows:  1861\n",
            "#Columns:  82\n",
            "Class-Distribution:  86 14\n"
          ]
        }
      ]
    },
    {
      "cell_type": "code",
      "source": [
        "data_path = f\"data/Vulnerable_Files/moodle-2_0_0-metrics.arff\"\n",
        "data = arff.loadarff(data_path)\n",
        "df = pd.DataFrame(data[0])\n",
        "df['IsVulnerable'] = df['IsVulnerable'].astype('str')\n",
        "d = {'b\\'yes\\'': 1, 'b\\'no\\'': 0}\n",
        "df['IsVulnerable'] = df['IsVulnerable'].astype(str).map(d).fillna(df['IsVulnerable'])\n",
        "df['IsVulnerable'] = df['IsVulnerable'].map({'yes': 1.0, 'no': 0.0})\n",
        "# df.drop(['loc', 'nOutgoingExternFlsCalled', 'nOutgoingExternCallsUniq'], inplace=True, axis=1)\n",
        "print(\"before drop duplicates\", df.shape[0])\n",
        "df = df.drop_duplicates()\n",
        "df.reset_index(inplace=True, drop=True)\n",
        "print(\"after drop duplicates\", df.shape[0])\n",
        "print(\"#Rows: \", len(df))\n",
        "print(\"#Columns: \", len(df.columns))\n",
        "print(\"Class-Distribution: \", int((np.unique(df.iloc[:,-1], return_counts=True)[1][0]/len(df))*100), 100-int((np.unique(df.iloc[:,-1], return_counts=True)[1][0]/len(df))*100))"
      ],
      "metadata": {
        "colab": {
          "base_uri": "https://localhost:8080/"
        },
        "id": "rbpIQG_V9g0a",
        "outputId": "f40960f1-5d89-4bd6-d48c-e4306f14bc3c"
      },
      "execution_count": null,
      "outputs": [
        {
          "output_type": "stream",
          "name": "stdout",
          "text": [
            "before drop duplicates 2942\n",
            "after drop duplicates 2056\n",
            "#Rows:  2056\n",
            "#Columns:  14\n",
            "Class-Distribution:  98 2\n"
          ]
        }
      ]
    },
    {
      "cell_type": "code",
      "source": [
        "train_data_path = f\"data/Bug_Reports/ambari-train.csv\"\n",
        "test_data_path = f\"data/Bug_Reports/ambari-test.csv\"\n",
        "train_df = pd.read_csv(train_data_path)\n",
        "test_df = pd.read_csv(test_data_path)\n",
        "\n",
        "df = pd.concat([train_df, test_df])\n",
        "print(\"#Rows: \", len(df))\n",
        "print(\"#Columns: \", len(df.columns))\n",
        "print(\"Class-Distribution: \", int((np.unique(df.iloc[:,-1], return_counts=True)[1][0]/len(df))*100), 100-int((np.unique(df.iloc[:,-1], return_counts=True)[1][0]/len(df))*100))"
      ],
      "metadata": {
        "colab": {
          "base_uri": "https://localhost:8080/"
        },
        "id": "1RqA3zfo9lVc",
        "outputId": "ed4fe867-1019-4b0e-f6c3-0589c9686717"
      },
      "execution_count": null,
      "outputs": [
        {
          "output_type": "stream",
          "name": "stdout",
          "text": [
            "#Rows:  1000\n",
            "#Columns:  102\n",
            "Class-Distribution:  97 3\n"
          ]
        }
      ]
    },
    {
      "cell_type": "code",
      "source": [
        "\n",
        "data_path = f\"data/JavaScript_Vulnerability/JSVulnerabilityDataSet-1.0.csv\"\n",
        "df = pd.read_csv(data_path)\n",
        "drop_columns = [\"name\", \"longname\", \"path\", \"full_repo_path\", \"line\", \"column\", \"endline\", \"endcolumn\"]\n",
        "df = df.drop(drop_columns, axis=1)\n",
        "print(\"before drop duplicates\", df.shape[0])\n",
        "df = df.drop_duplicates()\n",
        "df.reset_index(inplace=True, drop=True)\n",
        "print(\"after drop duplicates\", df.shape[0])\n",
        "print(\"#Rows: \", len(df))\n",
        "print(\"#Columns: \", len(df.columns))\n",
        "print(\"Class-Distribution: \", int((np.unique(df.iloc[:,-1], return_counts=True)[1][0]/len(df))*100), 100-int((np.unique(df.iloc[:,-1], return_counts=True)[1][0]/len(df))*100))"
      ],
      "metadata": {
        "colab": {
          "base_uri": "https://localhost:8080/"
        },
        "id": "n61S0tx49wGo",
        "outputId": "932d118b-bc4f-4813-e2fb-0f3851608793"
      },
      "execution_count": null,
      "outputs": [
        {
          "output_type": "stream",
          "name": "stdout",
          "text": [
            "before drop duplicates 12125\n",
            "after drop duplicates 6271\n",
            "#Rows:  6271\n",
            "#Columns:  36\n",
            "Class-Distribution:  85 15\n"
          ]
        }
      ]
    }
  ]
}