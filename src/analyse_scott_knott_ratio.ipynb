{
  "nbformat": 4,
  "nbformat_minor": 0,
  "metadata": {
    "colab": {
      "provenance": [],
      "include_colab_link": true
    },
    "kernelspec": {
      "name": "python3",
      "display_name": "Python 3"
    },
    "language_info": {
      "name": "python"
    }
  },
  "cells": [
    {
      "cell_type": "markdown",
      "metadata": {
        "id": "view-in-github",
        "colab_type": "text"
      },
      "source": [
        "<a href=\"https://colab.research.google.com/github/adipai/data-decent/blob/main/src/analyse_scott_knott_ratio.ipynb\" target=\"_parent\"><img src=\"https://colab.research.google.com/assets/colab-badge.svg\" alt=\"Open In Colab\"/></a>"
      ]
    },
    {
      "cell_type": "code",
      "execution_count": 44,
      "metadata": {
        "id": "vE6pLY6TzHr-",
        "colab": {
          "base_uri": "https://localhost:8080/"
        },
        "outputId": "3bf11700-4338-4434-d052-5dc9a0fddb11"
      },
      "outputs": [
        {
          "output_type": "stream",
          "name": "stdout",
          "text": [
            " 0, intelligent_pruning0.7_1.0,  0.72,  0.02,                     |        ---*       ,  0.53,  0.77\n",
            "\n",
            " 0, intelligent_pruning0.9_1.0,  0.72,  0.02,                     |        ---*       ,  0.53,  0.77\n",
            "\n",
            " 0, intelligent_pruning1.0_1.0,  0.72,  0.02,                     |        ---*       ,  0.53,  0.77\n",
            "\n",
            " 0,              RRP_1.0,  0.38,  0.08,                     |       ---*--      ,  0.03,  0.48\n",
            "\n",
            " 0,            smote_1.0,  0.38,  0.05,                     |      ----*        ,  0.03,  0.48\n",
            "\n",
            " 0, random_oversampling_1.0,  0.37,  0.07,                     |    -----*-        ,  0.03,  0.48\n",
            "\n",
            " 0,        svm_smote_1.0,  0.36,  0.07,                     |    ----*--        ,  0.03,  0.48\n",
            "\n",
            " 0,        svm_smote_1.0,  0.36,  0.07,                     |    ----*--        ,  0.03,  0.48\n",
            "\n",
            " 0,   random_pruning_1.0,  0.08,  0.04,       ---*          |                   ,  0.00,  0.33\n",
            "\n",
            " 0,            smote_1.0,  0.06,  0.05,         ------*-----|                   ,  0.00,  0.15\n",
            "\n",
            " 0,   random_pruning_1.0,  0.05,  0.02,            --*---   |                   ,  0.00,  0.15\n",
            "\n",
            " 0, intelligent_pruning0.9_1.0,  0.05,  0.04,       -------*----  |                   ,  0.00,  0.15\n",
            "\n",
            " 0, intelligent_pruning0.5_1.0,  0.47,  0.09,                -----|*--                ,  0.24,  0.67\n",
            "\n",
            " 0,              RRP_1.0,  0.46,  0.14,           ----------*---                ,  0.24,  0.67\n",
            "\n",
            " 0, intelligent_pruning0.7_1.0,  0.46,  0.11,             --------*--                 ,  0.24,  0.67\n",
            "\n",
            " 0, intelligent_pruning0.9_1.0,  0.44,  0.12,           ---------*|                   ,  0.24,  0.67\n",
            "\n",
            " 0, intelligent_pruning1.0_1.0,  0.44,  0.11,           ---------*|                   ,  0.24,  0.67\n",
            "\n",
            " 0, random_oversampling_1.0,  0.44,  0.07,               ----*-|                   ,  0.24,  0.67\n",
            "\n",
            " 0,   random_pruning_1.0,  0.43,  0.11,             ------*-|-                  ,  0.24,  0.67\n",
            "\n",
            " 0,            smote_1.0,  0.42,  0.12,        ----------*  |                   ,  0.24,  0.67\n",
            "\n",
            " 0,        svm_smote_1.0,  0.41,  0.16,          -------*---|---                ,  0.24,  0.67\n",
            "\n",
            " 0,        svm_smote_1.0,  0.41,  0.16,          -------*---|---                ,  0.24,  0.67\n",
            "\n",
            " 0,  gaussian_copula_1.0,  0.40,  0.11,         -------*--- |                   ,  0.24,  0.67\n",
            "\n",
            " 0, intelligent_pruning0.7_1.0,  0.57,  0.06,                    -|---*-              ,  0.35,  0.71\n",
            "\n",
            " 0,        svm_smote_1.0,  0.57,  0.08,                    -|---*---            ,  0.35,  0.71\n",
            "\n",
            " 0,        svm_smote_1.0,  0.57,  0.08,                    -|---*---            ,  0.35,  0.71\n",
            "\n",
            " 0, intelligent_pruning0.5_1.0,  0.56,  0.09,                  ---|--*----            ,  0.35,  0.71\n",
            "\n",
            " 0,              RRP_1.0,  0.55,  0.05,                  ---|*--                ,  0.35,  0.71\n",
            "\n",
            " 0, intelligent_pruning0.7_1.0,  0.40,  0.04,                     |        --*-       ,  0.00,  0.51\n",
            "\n",
            " 0, random_oversampling_1.0,  0.40,  0.08,                     |       ---*--      ,  0.00,  0.51\n",
            "\n",
            " 0,        svm_smote_1.0,  0.39,  0.06,                     |      ---*         ,  0.00,  0.51\n",
            "\n",
            " 0,        svm_smote_1.0,  0.39,  0.06,                     |      ---*         ,  0.00,  0.51\n",
            "\n",
            " 0,   random_pruning_1.0,  0.39,  0.06,                     |     ----*         ,  0.00,  0.51\n",
            "\n",
            " 0, intelligent_pruning0.9_1.0,  0.39,  0.05,                     |      ---*         ,  0.00,  0.51\n",
            "\n"
          ]
        }
      ],
      "source": [
        "import os\n",
        "import re\n",
        "curr = '1.0'\n",
        "\n",
        "# Define regex patterns for each algorithm\n",
        "patterns = {\n",
        "    'RRP': r'RRP_(\\d+\\.\\d+),\\s+(\\d+\\.\\d+)',\n",
        "    'intelligent_pruning': r'intelligent_pruning(\\d+\\.\\d+_\\d+\\.\\d+),\\s+(\\d+\\.\\d+),\\s+(\\d+\\.\\d+)',\n",
        "    'random_pruning': r'random_pruning_(\\d+\\.\\d+),\\s+(\\d+\\.\\d+)',\n",
        "    'smote': r'smote_(\\d+\\.\\d+),\\s+(\\d+\\.\\d+)',\n",
        "    'svm_smote': r'svm_smote_(\\d+\\.\\d+),\\s+(\\d+\\.\\d+)',\n",
        "    'random_oversampling': r'random_oversampling_(\\d+\\.\\d+),\\s+(\\d+\\.\\d+)',\n",
        "    'gaussian_copula': r'gaussian_copula_(\\d+\\.\\d+),\\s+(\\d+\\.\\d+)',\n",
        "    'no_sampling': r'No_Sampling_(\\d+\\.\\d+),\\s+(\\d+\\.\\d+)'\n",
        "}\n",
        "\n",
        "# Function to count occurrences of algorithms for rank 0 in a file and track top value\n",
        "def count_algorithms(file_path, counts, top_values):\n",
        "    with open(file_path, 'r') as file:\n",
        "        lines = file.readlines()\n",
        "    for line in lines:\n",
        "        if line.startswith(' 0,'):\n",
        "            for algorithm, pattern in patterns.items():\n",
        "                match = re.search(pattern, line)\n",
        "                if match:\n",
        "                    if not match.group(1).endswith(curr):\n",
        "                      continue\n",
        "                    print(line)\n",
        "                    counts[algorithm] += 1\n",
        "                    value = float(match.group(2))\n",
        "                    if top_values[algorithm] is None or value > top_values[algorithm]:\n",
        "                        top_values[algorithm] = value\n",
        "\n",
        "    return counts, top_values\n",
        "\n",
        "# Get a list of all .txt files in the data folder\n",
        "data_folder = 'data/'\n",
        "txt_files = [f for f in os.listdir(data_folder) if f.endswith('.txt')]\n",
        "\n",
        "# Count occurrences of algorithms for rank 0 in each file\n",
        "algo_counts_files = []\n",
        "values_dataset = dict()\n",
        "for txt_file in txt_files:\n",
        "    file_path = os.path.join(data_folder, txt_file)\n",
        "    # Initialize counts dictionary\n",
        "    counts = {\n",
        "        'RRP': 0,\n",
        "        'intelligent_pruning': 0,\n",
        "        'random_pruning': 0,\n",
        "        'smote': 0,\n",
        "        'svm_smote': 0,\n",
        "        'random_oversampling': 0,\n",
        "        'gaussian_copula': 0,\n",
        "        'no_sampling':0\n",
        "    }\n",
        "    top_values = {\n",
        "        'RRP': None,\n",
        "        'intelligent_pruning': None,\n",
        "        'random_pruning': None,\n",
        "        'smote': None,\n",
        "        'svm_smote': None,\n",
        "        'random_oversampling': None,\n",
        "        'gaussian_copula': None,\n",
        "        'no_sampling':None\n",
        "    }\n",
        "    counts, top_values = count_algorithms(file_path, counts, top_values)\n",
        "    algo_counts_files.append(counts)\n",
        "    start = txt_file.index(\"knotty_\") + len(\"knotty_\")\n",
        "    end = txt_file.index(\".txt\")\n",
        "    dataset_name = txt_file[start:end]\n",
        "\n",
        "    values_dataset[dataset_name] = top_values\n",
        "\n",
        "avg_wins_algo = {\n",
        "    'RRP': 0,\n",
        "    'intelligent_pruning': 0,\n",
        "    'random_pruning': 0,\n",
        "    'smote': 0,\n",
        "    'svm_smote': 0,\n",
        "    'random_oversampling': 0,\n",
        "    'gaussian_copula': 0,\n",
        "    'no_sampling':0\n",
        "}\n",
        "\n",
        "for file_contents in algo_counts_files:\n",
        "  for algo_name, algo_counts in file_contents.items():\n",
        "    if(algo_counts == None):\n",
        "      continue\n",
        "    avg_wins_algo[algo_name] += algo_counts\n",
        "\n",
        "\n",
        "for algo_name, algo_avg_wins in avg_wins_algo.items():\n",
        "  avg_wins_algo[algo_name] = avg_wins_algo[algo_name] / len(algo_counts_files)\n"
      ]
    },
    {
      "cell_type": "code",
      "source": [
        "columns = ['breast_cancer', 'churn', 'js_vuln', 'ambari_vuln', 'eclipse_JDT','eclipse_PDE', 'Moodle_Vuln', 'defect_mylyn']\n",
        "\n",
        "# Create a new dictionary with sorted keys\n",
        "sorted_values_dataset = {key: values_dataset[key] for key in columns if key in values_dataset}\n",
        "\n",
        "# print(sorted_values_dataset)\n",
        "# Define the algorithm order\n",
        "algorithm_order = ['random_oversampling', 'smote', 'svm_smote', 'gaussian_copula', 'RRP', 'no_sampling', 'random_pruning', 'intelligent_pruning']\n",
        "\n",
        "# Sort the inner dictionaries based on the algorithm order\n",
        "sorted_values_dataset = {key: {k: values_dataset[key][k] for k in algorithm_order if k in values_dataset[key]} for key in values_dataset}\n",
        "\n",
        "print(sorted_values_dataset)\n"
      ],
      "metadata": {
        "id": "OpLmykegIyBn",
        "outputId": "6b088b17-953f-4b73-c462-cf43d7997394",
        "colab": {
          "base_uri": "https://localhost:8080/"
        }
      },
      "execution_count": 45,
      "outputs": [
        {
          "output_type": "stream",
          "name": "stdout",
          "text": [
            "{'churn': {'random_oversampling': None, 'smote': None, 'svm_smote': None, 'gaussian_copula': None, 'RRP': None, 'no_sampling': None, 'random_pruning': None, 'intelligent_pruning': 0.72}, 'defect_mylyn': {'random_oversampling': 0.37, 'smote': 0.38, 'svm_smote': 0.36, 'gaussian_copula': None, 'RRP': 0.38, 'no_sampling': None, 'random_pruning': None, 'intelligent_pruning': None}, 'ambari_vuln': {'random_oversampling': None, 'smote': None, 'svm_smote': None, 'gaussian_copula': None, 'RRP': None, 'no_sampling': None, 'random_pruning': 0.08, 'intelligent_pruning': None}, 'js_vuln': {'random_oversampling': None, 'smote': None, 'svm_smote': None, 'gaussian_copula': None, 'RRP': None, 'no_sampling': None, 'random_pruning': None, 'intelligent_pruning': None}, 'Moodle_Vuln': {'random_oversampling': None, 'smote': 0.06, 'svm_smote': None, 'gaussian_copula': None, 'RRP': None, 'no_sampling': None, 'random_pruning': 0.05, 'intelligent_pruning': 0.05}, 'breast_cancer': {'random_oversampling': 0.44, 'smote': 0.42, 'svm_smote': 0.41, 'gaussian_copula': 0.4, 'RRP': 0.46, 'no_sampling': None, 'random_pruning': 0.43, 'intelligent_pruning': 0.47}, 'eclipse_JDT': {'random_oversampling': None, 'smote': 0.57, 'svm_smote': 0.57, 'gaussian_copula': None, 'RRP': 0.55, 'no_sampling': None, 'random_pruning': None, 'intelligent_pruning': 0.57}, 'eclipse_PDE': {'random_oversampling': 0.4, 'smote': 0.39, 'svm_smote': 0.39, 'gaussian_copula': None, 'RRP': None, 'no_sampling': None, 'random_pruning': 0.39, 'intelligent_pruning': 0.4}}\n"
          ]
        }
      ]
    },
    {
      "cell_type": "code",
      "source": [
        "import pandas as pd\n",
        "# Create the DataFrame\n",
        "df = pd.DataFrame(sorted_values_dataset)\n",
        "\n",
        "# Sort the columns of the DataFrame\n",
        "df = df.reindex(columns=columns)\n",
        "\n",
        "print(df)"
      ],
      "metadata": {
        "id": "LzBybfMyTql8",
        "outputId": "6826fe53-3f5c-4608-c70c-e12a5ba08578",
        "colab": {
          "base_uri": "https://localhost:8080/"
        }
      },
      "execution_count": 46,
      "outputs": [
        {
          "output_type": "stream",
          "name": "stdout",
          "text": [
            "                     breast_cancer  churn js_vuln  ambari_vuln  eclipse_JDT  \\\n",
            "random_oversampling           0.44    NaN    None          NaN          NaN   \n",
            "smote                         0.42    NaN    None          NaN         0.57   \n",
            "svm_smote                     0.41    NaN    None          NaN         0.57   \n",
            "gaussian_copula               0.40    NaN    None          NaN          NaN   \n",
            "RRP                           0.46    NaN    None          NaN         0.55   \n",
            "no_sampling                    NaN    NaN    None          NaN          NaN   \n",
            "random_pruning                0.43    NaN    None         0.08          NaN   \n",
            "intelligent_pruning           0.47   0.72    None          NaN         0.57   \n",
            "\n",
            "                     eclipse_PDE  Moodle_Vuln  defect_mylyn  \n",
            "random_oversampling         0.40          NaN          0.37  \n",
            "smote                       0.39         0.06          0.38  \n",
            "svm_smote                   0.39          NaN          0.36  \n",
            "gaussian_copula              NaN          NaN           NaN  \n",
            "RRP                          NaN          NaN          0.38  \n",
            "no_sampling                  NaN          NaN           NaN  \n",
            "random_pruning              0.39         0.05           NaN  \n",
            "intelligent_pruning         0.40         0.05           NaN  \n"
          ]
        }
      ]
    },
    {
      "cell_type": "code",
      "source": [
        "print(avg_wins_algo)"
      ],
      "metadata": {
        "id": "XhkETQxfWNGt",
        "outputId": "f4905b3e-c93e-41d0-cf76-f2cb35666157",
        "colab": {
          "base_uri": "https://localhost:8080/"
        }
      },
      "execution_count": 47,
      "outputs": [
        {
          "output_type": "stream",
          "name": "stdout",
          "text": [
            "{'RRP': 0.375, 'intelligent_pruning': 1.5, 'random_pruning': 0.5, 'smote': 0.875, 'svm_smote': 0.5, 'random_oversampling': 0.375, 'gaussian_copula': 0.125, 'no_sampling': 0.0}\n"
          ]
        }
      ]
    },
    {
      "cell_type": "code",
      "source": [],
      "metadata": {
        "id": "51XN4n8YO1y3"
      },
      "execution_count": 40,
      "outputs": []
    }
  ]
}