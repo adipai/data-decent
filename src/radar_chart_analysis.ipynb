{
  "nbformat": 4,
  "nbformat_minor": 0,
  "metadata": {
    "colab": {
      "provenance": [],
      "authorship_tag": "ABX9TyOX/9AAhFfix3FYYCHy3IHB",
      "include_colab_link": true
    },
    "kernelspec": {
      "name": "python3",
      "display_name": "Python 3"
    },
    "language_info": {
      "name": "python"
    }
  },
  "cells": [
    {
      "cell_type": "markdown",
      "metadata": {
        "id": "view-in-github",
        "colab_type": "text"
      },
      "source": [
        "<a href=\"https://colab.research.google.com/github/adipai/data-decent/blob/main/src/radar_chart_analysis.ipynb\" target=\"_parent\"><img src=\"https://colab.research.google.com/assets/colab-badge.svg\" alt=\"Open In Colab\"/></a>"
      ]
    },
    {
      "cell_type": "code",
      "execution_count": 6,
      "metadata": {
        "colab": {
          "base_uri": "https://localhost:8080/"
        },
        "id": "Y_BDniGByle2",
        "outputId": "59af4ef6-b04e-420b-81c7-107e165755c6"
      },
      "outputs": [
        {
          "output_type": "stream",
          "name": "stdout",
          "text": [
            "[[2.5 ]\n",
            " [1.87]\n",
            " [0.62]\n",
            " [2.12]\n",
            " [5.87]]\n",
            "Original data: [2.5, 1.87, 0.62, 2.12, 5.87]\n",
            "Scaled data: [0.35809524 0.23809524 0.         0.28571429 1.        ]\n"
          ]
        }
      ],
      "source": [
        "from sklearn.preprocessing import MinMaxScaler\n",
        "import numpy as np\n",
        "data = [2.5, 1.87, 0.62, 2.12, 5.87]\n",
        "# Reshape the 1D list into a 2D array\n",
        "data_2d = np.array(data).reshape(-1, 1)\n",
        "\n",
        "print(data_2d)\n",
        "# Initialize MinMaxScaler\n",
        "scaler = MinMaxScaler()\n",
        "\n",
        "# Fit scaler on the data and transform the data\n",
        "scaled_data = scaler.fit_transform(data_2d)\n",
        "\n",
        "# Reshape the scaled data back to 1D\n",
        "scaled_data_1d = scaled_data.flatten()\n",
        "\n",
        "print(\"Original data:\", data)\n",
        "print(\"Scaled data:\", scaled_data_1d)"
      ]
    },
    {
      "cell_type": "code",
      "source": [
        "data = {286: {'intelligent_pruning': 59.01844501495361, 'random_pruning': 5.460619926452637, 'sdv-g': 1622.8352069854736, 'smote': 2.196788787841797, 'random_oversampling': 1.0900020599365234, 'svm_smote': 8.58914852142334, 'rrp': 95.22678852081299}, 997: {'intelligent_pruning': 95.4871416091919, 'random_pruning': 5.331110954284668, 'sdv-g': 842.5477981567383, 'smote': 2.133822441101074, 'random_oversampling': 0.9755611419677734, 'svm_smote': 9.566092491149902, 'rrp': 57.805562019348145}, 1000: {'intelligent_pruning': 16.538405418395996, 'random_pruning': 3.30352783203125, 'sdv-g': 834.526538848877, 'smote': 2.173137664794922, 'random_oversampling': 0.9879589080810547, 'svm_smote': 15.22519588470459, 'rrp': 98.43182563781738}, 1497: {'intelligent_pruning': 17.177867889404297, 'random_pruning': 3.210926055908203, 'sdv-g': 890.0584697723389, 'smote': 2.2032737731933594, 'random_oversampling': 1.0004997253417969, 'svm_smote': 9.135198593139648, 'rrp': 58.11002254486084}, 1861: {'intelligent_pruning': 14.074373245239258, 'random_pruning': 3.6943674087524414, 'sdv-g': 912.0782852172852, 'smote': 2.184438705444336, 'random_oversampling': 1.00860595703125, 'svm_smote': 8.731436729431152, 'rrp': 54.30612564086914}, 2056: {'intelligent_pruning': 17.989373207092285, 'random_pruning': 3.316020965576172, 'sdv-g': 894.7564125061035, 'smote': 2.207803726196289, 'random_oversampling': 1.1093854904174805, 'svm_smote': 9.082746505737305, 'rrp': 55.437278747558594}, 5000: {'intelligent_pruning': 14.352083206176758, 'random_pruning': 4.733872413635254, 'sdv-g': 910.1720333099365, 'smote': 2.3290157318115234, 'random_oversampling': 1.114511489868164, 'svm_smote': 9.115171432495117, 'rrp': 66.141676902771}, 6271: {'intelligent_pruning': 49.68008995056152, 'random_pruning': 6.0977935791015625, 'sdv-g': 832.7664136886597, 'smote': 2.543807029724121, 'random_oversampling': 1.1741399765014648, 'svm_smote': 10.098004341125488, 'rrp': 55.145955085754395}}\n",
        "\n",
        "# Extract the values for the specified keys\n",
        "svm_smote_values = [data[key]['svm_smote'] for key in data]\n",
        "intelligent_pruning_values = [data[key]['intelligent_pruning'] for key in data]\n",
        "random_oversampling_values = [data[key]['random_oversampling'] for key in data]\n",
        "sdv_g_values = [data[key]['sdv-g'] for key in data]\n",
        "RRP_values = [data[key]['rrp'] for key in data]\n",
        "\n",
        "# Calculate the geometric means\n",
        "geometric_mean_svm_smote = np.prod(svm_smote_values) ** (1 / len(svm_smote_values))\n",
        "geometric_mean_intelligent_pruning = np.prod(intelligent_pruning_values) ** (1 / len(intelligent_pruning_values))\n",
        "geometric_mean_random_oversampling = np.prod(random_oversampling_values) ** (1 / len(random_oversampling_values))\n",
        "geometric_mean_sdv_g = np.prod(sdv_g_values) ** (1 / len(sdv_g_values))\n",
        "geometric_mean_RRP = np.prod(RRP_values) ** (1 / len(RRP_values))\n",
        "\n",
        "print(\"Geometric Mean (svm_smote):\", geometric_mean_svm_smote)\n",
        "print(\"Geometric Mean (intelligent_pruning):\", geometric_mean_intelligent_pruning)\n",
        "print(\"Geometric Mean (random_oversampling):\", geometric_mean_random_oversampling)\n",
        "print(\"Geometric Mean (sdv-g):\", geometric_mean_sdv_g)\n",
        "print(\"Geometric Mean (RRP):\", geometric_mean_RRP)\n",
        "\n",
        "time_arr = [geometric_mean_random_oversampling, geometric_mean_svm_smote, geometric_mean_sdv_g, geometric_mean_RRP, geometric_mean_intelligent_pruning]\n",
        "data_2d = np.array(time_arr).reshape(-1, 1)\n",
        "\n",
        "# Initialize MinMaxScaler\n",
        "scaler = MinMaxScaler()\n",
        "\n",
        "# Fit scaler on the data and transform the data\n",
        "scaled_data = scaler.fit_transform(data_2d)\n",
        "\n",
        "# Reshape the scaled data back to 1D\n",
        "scaled_data_time = [1]*5 -scaled_data.flatten()\n",
        "print(scaled_data_time)\n",
        "\n",
        "\n",
        "storage_arr = [0.8*33118, 0.8*33118, 0.8*33118, 0.8*33118, 0.8*4818]\n",
        "# Reshape the 1D list into a 2D array\n",
        "data_2d = np.array(storage_arr).reshape(-1, 1)\n",
        "\n",
        "# Initialize MinMaxScaler\n",
        "scaler = MinMaxScaler()\n",
        "\n",
        "# Fit scaler on the data and transform the data\n",
        "scaled_data = scaler.fit_transform(data_2d)\n",
        "\n",
        "# Reshape the scaled data back to 1D\n",
        "scaled_data_storage = [1]*5 - scaled_data.flatten()\n",
        "print(scaled_data_storage)\n",
        "\n",
        "scalable_arr = (scaled_data_storage + scaled_data_time)/2\n",
        "print(scalable_arr)\n",
        "data_2d = np.array(scalable_arr).reshape(-1, 1)\n",
        "\n",
        "# Initialize MinMaxScaler\n",
        "scaler = MinMaxScaler()\n",
        "\n",
        "# Fit scaler on the data and transform the data\n",
        "scaled_data = scaler.fit_transform(data_2d)\n",
        "\n",
        "# Reshape the scaled data back to 1D\n",
        "scaled_scalable = scaled_data.flatten()\n",
        "print(scaled_scalable)\n"
      ],
      "metadata": {
        "colab": {
          "base_uri": "https://localhost:8080/"
        },
        "id": "hprcmoApy1DU",
        "outputId": "30ef486c-7218-45f9-f6f7-6e67e4a87a11"
      },
      "execution_count": 22,
      "outputs": [
        {
          "output_type": "stream",
          "name": "stdout",
          "text": [
            "Geometric Mean (svm_smote): 9.77594182776659\n",
            "Geometric Mean (intelligent_pruning): 27.07804122635236\n",
            "Geometric Mean (random_oversampling): 1.0553724740592534\n",
            "Geometric Mean (sdv-g): 943.5478085948708\n",
            "Geometric Mean (RRP): 65.66657531971279\n",
            "[1.         0.99074733 0.         0.93144645 0.97238952]\n",
            "[1.11022302e-16 1.11022302e-16 1.11022302e-16 1.11022302e-16\n",
            " 1.00000000e+00]\n",
            "[5.00000000e-01 4.95373666e-01 5.55111512e-17 4.65723225e-01\n",
            " 9.86194760e-01]\n",
            "[0.50699925 0.50230815 0.         0.47224265 1.        ]\n"
          ]
        }
      ]
    },
    {
      "cell_type": "code",
      "source": [],
      "metadata": {
        "id": "To5f3pHY4I9u"
      },
      "execution_count": null,
      "outputs": []
    }
  ]
}