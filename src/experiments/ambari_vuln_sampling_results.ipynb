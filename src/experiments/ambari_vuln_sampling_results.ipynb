{
  "nbformat": 4,
  "nbformat_minor": 0,
  "metadata": {
    "colab": {
      "provenance": [],
      "include_colab_link": true
    },
    "kernelspec": {
      "name": "python3",
      "display_name": "Python 3"
    },
    "language_info": {
      "name": "python"
    }
  },
  "cells": [
    {
      "cell_type": "markdown",
      "metadata": {
        "id": "view-in-github",
        "colab_type": "text"
      },
      "source": [
        "<a href=\"https://colab.research.google.com/github/adipai/data-decent/blob/main/src/experiments/ambari_vuln_sampling_results.ipynb\" target=\"_parent\"><img src=\"https://colab.research.google.com/assets/colab-badge.svg\" alt=\"Open In Colab\"/></a>"
      ]
    },
    {
      "cell_type": "code",
      "source": [
        "!unzip data.zip"
      ],
      "metadata": {
        "id": "jUSzegeVFEKM"
      },
      "execution_count": null,
      "outputs": []
    },
    {
      "cell_type": "code",
      "source": [
        "!pip install sdv"
      ],
      "metadata": {
        "id": "COAFe5iG-02V"
      },
      "execution_count": null,
      "outputs": []
    },
    {
      "cell_type": "code",
      "source": [
        "!pip install DataSynthesizer"
      ],
      "metadata": {
        "colab": {
          "base_uri": "https://localhost:8080/"
        },
        "id": "uBcGtW-pIGJ4",
        "outputId": "e0f53871-11da-4f47-caec-f636807ca1ee"
      },
      "execution_count": 3,
      "outputs": [
        {
          "output_type": "stream",
          "name": "stdout",
          "text": [
            "Collecting DataSynthesizer\n",
            "  Downloading DataSynthesizer-0.1.13-py2.py3-none-any.whl (24 kB)\n",
            "Requirement already satisfied: numpy>=1.18.5 in /usr/local/lib/python3.10/dist-packages (from DataSynthesizer) (1.25.2)\n",
            "Requirement already satisfied: pandas>=1.0.5 in /usr/local/lib/python3.10/dist-packages (from DataSynthesizer) (2.0.3)\n",
            "Requirement already satisfied: scikit-learn>=0.23.1 in /usr/local/lib/python3.10/dist-packages (from DataSynthesizer) (1.2.2)\n",
            "Requirement already satisfied: matplotlib>=3.2.2 in /usr/local/lib/python3.10/dist-packages (from DataSynthesizer) (3.7.1)\n",
            "Requirement already satisfied: seaborn>=0.10.1 in /usr/local/lib/python3.10/dist-packages (from DataSynthesizer) (0.13.1)\n",
            "Requirement already satisfied: python-dateutil>=2.8.1 in /usr/local/lib/python3.10/dist-packages (from DataSynthesizer) (2.8.2)\n",
            "Requirement already satisfied: contourpy>=1.0.1 in /usr/local/lib/python3.10/dist-packages (from matplotlib>=3.2.2->DataSynthesizer) (1.2.1)\n",
            "Requirement already satisfied: cycler>=0.10 in /usr/local/lib/python3.10/dist-packages (from matplotlib>=3.2.2->DataSynthesizer) (0.12.1)\n",
            "Requirement already satisfied: fonttools>=4.22.0 in /usr/local/lib/python3.10/dist-packages (from matplotlib>=3.2.2->DataSynthesizer) (4.50.0)\n",
            "Requirement already satisfied: kiwisolver>=1.0.1 in /usr/local/lib/python3.10/dist-packages (from matplotlib>=3.2.2->DataSynthesizer) (1.4.5)\n",
            "Requirement already satisfied: packaging>=20.0 in /usr/local/lib/python3.10/dist-packages (from matplotlib>=3.2.2->DataSynthesizer) (24.0)\n",
            "Requirement already satisfied: pillow>=6.2.0 in /usr/local/lib/python3.10/dist-packages (from matplotlib>=3.2.2->DataSynthesizer) (9.4.0)\n",
            "Requirement already satisfied: pyparsing>=2.3.1 in /usr/local/lib/python3.10/dist-packages (from matplotlib>=3.2.2->DataSynthesizer) (3.1.2)\n",
            "Requirement already satisfied: pytz>=2020.1 in /usr/local/lib/python3.10/dist-packages (from pandas>=1.0.5->DataSynthesizer) (2023.4)\n",
            "Requirement already satisfied: tzdata>=2022.1 in /usr/local/lib/python3.10/dist-packages (from pandas>=1.0.5->DataSynthesizer) (2024.1)\n",
            "Requirement already satisfied: six>=1.5 in /usr/local/lib/python3.10/dist-packages (from python-dateutil>=2.8.1->DataSynthesizer) (1.16.0)\n",
            "Requirement already satisfied: scipy>=1.3.2 in /usr/local/lib/python3.10/dist-packages (from scikit-learn>=0.23.1->DataSynthesizer) (1.11.4)\n",
            "Requirement already satisfied: joblib>=1.1.1 in /usr/local/lib/python3.10/dist-packages (from scikit-learn>=0.23.1->DataSynthesizer) (1.3.2)\n",
            "Requirement already satisfied: threadpoolctl>=2.0.0 in /usr/local/lib/python3.10/dist-packages (from scikit-learn>=0.23.1->DataSynthesizer) (3.4.0)\n",
            "Installing collected packages: DataSynthesizer\n",
            "Successfully installed DataSynthesizer-0.1.13\n"
          ]
        }
      ]
    },
    {
      "cell_type": "code",
      "source": [
        "# All imports here\n",
        "import pandas as pd\n",
        "import numpy as np\n",
        "from sklearn.impute import SimpleImputer\n",
        "from sklearn.preprocessing import StandardScaler\n",
        "\n",
        "import matplotlib.pyplot as plt\n",
        "import seaborn as sns\n",
        "import random\n",
        "import time\n",
        "from scipy.io import arff\n",
        "from sdv.datasets.local import load_csvs\n",
        "from sdv.metadata import SingleTableMetadata\n",
        "from sdv.single_table import GaussianCopulaSynthesizer\n",
        "from DataSynthesizer.DataDescriber import DataDescriber\n",
        "from DataSynthesizer.DataGenerator import DataGenerator\n",
        "from DataSynthesizer.lib.utils import display_bayesian_network\n",
        "from imblearn.over_sampling import SMOTE\n",
        "from imblearn.over_sampling import SVMSMOTE\n",
        "from imblearn.over_sampling import RandomOverSampler\n",
        "from collections import defaultdict\n",
        "from sklearn.model_selection import train_test_split\n",
        "from sklearn.linear_model import LogisticRegression\n",
        "from sklearn.svm import SVC\n",
        "from sklearn.tree import DecisionTreeClassifier\n",
        "from sklearn.cluster import KMeans\n",
        "from sklearn.metrics import accuracy_score, precision_score, recall_score, f1_score, roc_curve, auc, confusion_matrix"
      ],
      "metadata": {
        "id": "Lza8MeLYchI2"
      },
      "execution_count": 4,
      "outputs": []
    },
    {
      "cell_type": "markdown",
      "source": [
        "## Data preprocessing"
      ],
      "metadata": {
        "id": "KH_s6WhMv_Vg"
      }
    },
    {
      "cell_type": "code",
      "source": [
        "def preprocess_data_train(X_train):\n",
        "    # Count missing values before handling missing data\n",
        "    missing_before = np.isnan(X_train).sum()\n",
        "\n",
        "    # Handle missing data\n",
        "    imputer = SimpleImputer(strategy='mean')\n",
        "    X_train = imputer.fit_transform(X_train)\n",
        "\n",
        "    # Count missing values after handling missing data\n",
        "    missing_after = np.isnan(X_train).sum()\n",
        "\n",
        "    # Normalize numeric columns\n",
        "    scaler = StandardScaler()\n",
        "    X_train = scaler.fit_transform(X_train)\n",
        "\n",
        "    return X_train, scaler, imputer\n",
        "\n",
        "def preprocess_data_test(X_test, scaler, imputer):\n",
        "    # Count missing values before handling missing data\n",
        "    missing_before = np.isnan(X_test).sum()\n",
        "\n",
        "    # Handle missing data\n",
        "    X_test = imputer.transform(X_test)\n",
        "\n",
        "    # Count missing values after handling missing data\n",
        "    missing_after = np.isnan(X_test).sum()\n",
        "\n",
        "    # Normalize numeric columns\n",
        "    X_test = scaler.transform(X_test)\n",
        "\n",
        "    return X_test"
      ],
      "metadata": {
        "id": "A9ept3j9vmUy"
      },
      "execution_count": 5,
      "outputs": []
    },
    {
      "cell_type": "markdown",
      "source": [
        "## Experiments"
      ],
      "metadata": {
        "id": "3Rjlt8zr4vyO"
      }
    },
    {
      "cell_type": "markdown",
      "source": [
        "### Dataset : JavaScript Vulnerbalities"
      ],
      "metadata": {
        "id": "p22RSGg043d5"
      }
    },
    {
      "cell_type": "code",
      "source": [
        "train_data_path = f\"data/Bug_Reports/ambari-train.csv\"\n",
        "test_data_path = f\"data/Bug_Reports/ambari-test.csv\"\n",
        "train_df = pd.read_csv(train_data_path)\n",
        "test_df = pd.read_csv(test_data_path)\n",
        "X_train = train_df.iloc[:, :-1]\n",
        "y_train = train_df.iloc[:, -1]\n",
        "X_test = test_df.iloc[:, :-1]\n",
        "y_test = test_df.iloc[:, -1]"
      ],
      "metadata": {
        "id": "wyi4iWJFwIhU"
      },
      "execution_count": 6,
      "outputs": []
    },
    {
      "cell_type": "markdown",
      "source": [
        "## Training and testing using ML models"
      ],
      "metadata": {
        "id": "gGu1Qxej4WAA"
      }
    },
    {
      "cell_type": "code",
      "source": [
        "# Generic function to test synthetic data using LR, SVM, DT\n",
        "\n",
        "def evaluate_models(X_train, X_test, y_train, y_test, random_state=42):\n",
        "\n",
        "    # Initialize classifiers\n",
        "    classifiers = {\n",
        "        \"Logistic Regression\": LogisticRegression(random_state=random_state),\n",
        "        \"SVM\": SVC(random_state=random_state),\n",
        "        \"Decision Tree\": DecisionTreeClassifier(random_state=random_state)\n",
        "    }\n",
        "\n",
        "    # Results dictionary to store evaluation metrics\n",
        "    results = {}\n",
        "\n",
        "    # Iterate over classifiers\n",
        "    for name, clf in classifiers.items():\n",
        "        # Fit classifier\n",
        "        clf.fit(X_train, y_train)\n",
        "\n",
        "        # Predictions\n",
        "        y_pred = clf.predict(X_test)\n",
        "\n",
        "        # Evaluation metrics\n",
        "        accuracy = accuracy_score(y_test, y_pred)\n",
        "        precision = precision_score(y_test, y_pred)\n",
        "        recall = recall_score(y_test, y_pred)\n",
        "        f1 = f1_score(y_test, y_pred)\n",
        "\n",
        "        # AUC-ROC\n",
        "        if hasattr(clf, \"predict_proba\"):\n",
        "            y_prob = clf.predict_proba(X_test)[:,1]\n",
        "        else:\n",
        "            y_prob = clf.decision_function(X_test)\n",
        "        fpr, tpr, thresholds = roc_curve(y_test, y_prob)\n",
        "        roc_auc = auc(fpr, tpr)\n",
        "\n",
        "        # Confusion matrix\n",
        "        cm = confusion_matrix(y_test, y_pred)\n",
        "\n",
        "        # Store results\n",
        "        results[name] = {\n",
        "            \"Accuracy\": accuracy,\n",
        "            \"Precision\": precision,\n",
        "            \"Recall\": recall,\n",
        "            \"F1 Score\": f1,\n",
        "            \"ROC AUC\": roc_auc,\n",
        "            \"Confusion Matrix\": cm\n",
        "        }\n",
        "\n",
        "        # Plot AUC-ROC curve\n",
        "        plt.figure(figsize=(8, 6))\n",
        "        plt.plot(fpr, tpr, label=f'{name} (AUC = {roc_auc:.2f})')\n",
        "        plt.plot([0, 1], [0, 1], 'k--')\n",
        "        plt.xlabel('False Positive Rate')\n",
        "        plt.ylabel('True Positive Rate')\n",
        "        plt.title(f'{name} - AUC-ROC Curve')\n",
        "        plt.legend(loc='lower right')\n",
        "        plt.savefig(f'{name}_auc_roc_curve.png', dpi=300)\n",
        "        plt.close()\n",
        "\n",
        "        # Plot confusion matrix\n",
        "        plt.figure(figsize=(8, 6))\n",
        "        sns.heatmap(cm, annot=True, fmt='d', cmap='Blues')\n",
        "        plt.xlabel('Predicted')\n",
        "        plt.ylabel('True')\n",
        "        plt.title(f'{name} - Confusion Matrix')\n",
        "        plt.savefig(f'{name}_confusion_matrix.png', dpi=300)\n",
        "        plt.close()\n",
        "\n",
        "    return results"
      ],
      "metadata": {
        "id": "SULk39gP2SUj"
      },
      "execution_count": 7,
      "outputs": []
    },
    {
      "cell_type": "code",
      "source": [
        "results = evaluate_models(X_train, X_test, y_train, y_test)"
      ],
      "metadata": {
        "id": "adNKyUsSLi6r",
        "colab": {
          "base_uri": "https://localhost:8080/"
        },
        "outputId": "de6a1367-49a7-476f-93c1-2b610628d26f"
      },
      "execution_count": 8,
      "outputs": [
        {
          "output_type": "stream",
          "name": "stderr",
          "text": [
            "/usr/local/lib/python3.10/dist-packages/sklearn/linear_model/_logistic.py:458: ConvergenceWarning: lbfgs failed to converge (status=1):\n",
            "STOP: TOTAL NO. of ITERATIONS REACHED LIMIT.\n",
            "\n",
            "Increase the number of iterations (max_iter) or scale the data as shown in:\n",
            "    https://scikit-learn.org/stable/modules/preprocessing.html\n",
            "Please also refer to the documentation for alternative solver options:\n",
            "    https://scikit-learn.org/stable/modules/linear_model.html#logistic-regression\n",
            "  n_iter_i = _check_optimize_result(\n",
            "/usr/local/lib/python3.10/dist-packages/sklearn/metrics/_classification.py:1344: UndefinedMetricWarning: Precision is ill-defined and being set to 0.0 due to no predicted samples. Use `zero_division` parameter to control this behavior.\n",
            "  _warn_prf(average, modifier, msg_start, len(result))\n"
          ]
        }
      ]
    },
    {
      "cell_type": "code",
      "source": [
        "print(results)"
      ],
      "metadata": {
        "colab": {
          "base_uri": "https://localhost:8080/"
        },
        "id": "AAAzoxMlLpjk",
        "outputId": "213e282b-1c99-4f5f-a160-8af0d3644421"
      },
      "execution_count": 9,
      "outputs": [
        {
          "output_type": "stream",
          "name": "stdout",
          "text": [
            "{'Logistic Regression': {'Accuracy': 0.978, 'Precision': 0.25, 'Recall': 0.2857142857142857, 'F1 Score': 0.26666666666666666, 'ROC AUC': 0.755722978846711, 'Confusion Matrix': array([[487,   6],\n",
            "       [  5,   2]])}, 'SVM': {'Accuracy': 0.986, 'Precision': 0.0, 'Recall': 0.0, 'F1 Score': 0.0, 'ROC AUC': 0.6734279918864097, 'Confusion Matrix': array([[493,   0],\n",
            "       [  7,   0]])}, 'Decision Tree': {'Accuracy': 0.968, 'Precision': 0.09090909090909091, 'Recall': 0.14285714285714285, 'F1 Score': 0.1111111111111111, 'ROC AUC': 0.5612865835989568, 'Confusion Matrix': array([[483,  10],\n",
            "       [  6,   1]])}}\n"
          ]
        }
      ]
    },
    {
      "cell_type": "markdown",
      "source": [
        "# SDV - Oversampling"
      ],
      "metadata": {
        "id": "_NaC7Ymj90QV"
      }
    },
    {
      "cell_type": "code",
      "source": [
        "def do_sdv(X_train, y_train):\n",
        "  train_df = pd.concat([X_train, y_train], axis=1)\n",
        "  class_counts = y_train.value_counts()\n",
        "\n",
        "  # Find minority class label\n",
        "  minority_class_label = class_counts.idxmin()\n",
        "\n",
        "  # Filter rows with minority class label\n",
        "  minority_df = train_df[train_df.iloc[:, -1] == minority_class_label]\n",
        "\n",
        "  # Calculate counts of majority and minority classes\n",
        "  majority_count = class_counts.max()\n",
        "  minority_count = class_counts.min()\n",
        "\n",
        "  metadata_data = SingleTableMetadata()\n",
        "  metadata_data.detect_from_dataframe(minority_df)\n",
        "  print(metadata_data)\n",
        "  # Generate synthetic data using GaussianCopulaSynthesizer\n",
        "  synthesizer_breast_data = GaussianCopulaSynthesizer(metadata_data)\n",
        "  synthesizer_breast_data.fit(minority_df)\n",
        "\n",
        "  # Print sample synthetic data\n",
        "  synthesizer_breast_data.reset_sampling()\n",
        "  sd1 = synthesizer_breast_data.sample(num_rows=majority_count-minority_count)\n",
        "  return sd1, train_df\n",
        "\n",
        "# Function to add synthetic data to the main DataFrame based on percentage\n",
        "def add_synthetic_data(main_df, synthetic_df, percentage, seed=42):\n",
        "    # Calculate number of rows to sample\n",
        "    num_rows = int(len(synthetic_df) * percentage)\n",
        "\n",
        "    # Sample the specified percentage of synthetic data\n",
        "    sampled_synthetic_data = synthetic_df.sample(n=num_rows, replace=False, random_state=seed)\n",
        "    # print(sampled_synthetic_data)\n",
        "\n",
        "    # Concatenate sampled synthetic data with main DataFrame\n",
        "    combined_df = pd.concat([main_df, sampled_synthetic_data], ignore_index=True)\n",
        "    # print(combined_df)\n",
        "    return combined_df"
      ],
      "metadata": {
        "id": "o9yiYbcN93gn"
      },
      "execution_count": 10,
      "outputs": []
    },
    {
      "cell_type": "markdown",
      "source": [
        "# Random Over-Sampling"
      ],
      "metadata": {
        "id": "A3BmbGRgJ5Ns"
      }
    },
    {
      "cell_type": "code",
      "source": [
        "def find_minority_data(X, y):\n",
        "    labels, counts = np.unique(y, return_counts=True)\n",
        "    min_label = min(zip(counts, labels))[1]\n",
        "    indices_with_min_label = np.where(y == min_label)[0]\n",
        "    X_min, y_min = X[indices_with_min_label], y[indices_with_min_label]\n",
        "\n",
        "    # Other class samples\n",
        "    indices_without_min_label = np.where(y != min_label)[0]\n",
        "    X_remaining, y_remaining = X[indices_without_min_label], y[indices_without_min_label]\n",
        "\n",
        "    return X_min, y_min, X_remaining, y_remaining, min_label\n",
        "\n",
        "def random_oversampling(X_train, y_train, oversampling_ratios, seed=42):\n",
        "\n",
        "  oversampled_X_train_ratios = dict()\n",
        "  oversampled_y_train_ratios = dict()\n",
        "  X_minority, y_minority, X_remaining, y_remaining, min_label = find_minority_data(X_train, y_train)\n",
        "  ideal_samps = len(X_remaining) - len(X_minority)\n",
        "\n",
        "  oversampling_samps = [int(ideal_samps * (oversampling_ratio)) for oversampling_ratio in oversampling_ratios]\n",
        "  for oversampling_samp, oversampling_ratio in zip(oversampling_samps, oversampling_ratios):\n",
        "\n",
        "    sampling_strategy = {min_label: len(X_minority) + oversampling_samp}\n",
        "    X_train_upsampled, y_train_upsampled = RandomOverSampler(sampling_strategy=sampling_strategy, random_state = seed).fit_resample(X_train, y_train)\n",
        "\n",
        "    oversampled_X_train_ratios[oversampling_ratio] = X_train_upsampled\n",
        "    oversampled_y_train_ratios[oversampling_ratio] = y_train_upsampled\n",
        "\n",
        "  return list(oversampled_X_train_ratios.values()), list(oversampled_y_train_ratios.values())\n"
      ],
      "metadata": {
        "id": "bF2pvEGDJ704"
      },
      "execution_count": 11,
      "outputs": []
    },
    {
      "cell_type": "markdown",
      "source": [
        "# SMOTE Over-Sampling"
      ],
      "metadata": {
        "id": "TGGkRAzG15Zy"
      }
    },
    {
      "cell_type": "code",
      "source": [
        "def find_minority_data(X, y):\n",
        "    labels, counts = np.unique(y, return_counts=True)\n",
        "    min_label = min(zip(counts, labels))[1]\n",
        "    indices_with_min_label = np.where(y == min_label)[0]\n",
        "    X_min, y_min = X[indices_with_min_label], y[indices_with_min_label]\n",
        "\n",
        "    # Other class samples\n",
        "    indices_without_min_label = np.where(y != min_label)[0]\n",
        "    X_remaining, y_remaining = X[indices_without_min_label], y[indices_without_min_label]\n",
        "\n",
        "    return X_min, y_min, X_remaining, y_remaining, min_label\n",
        "\n",
        "def smote_oversampling(X_train, y_train, oversampling_ratios, seed=42):\n",
        "\n",
        "  oversampled_X_train_ratios = dict()\n",
        "  oversampled_y_train_ratios = dict()\n",
        "  X_minority, y_minority, X_remaining, y_remaining, min_label = find_minority_data(X_train, y_train)\n",
        "  ideal_samps = len(X_remaining) - len(X_minority)\n",
        "\n",
        "  oversampling_samps = [int(ideal_samps * (oversampling_ratio)) for oversampling_ratio in oversampling_ratios]\n",
        "  for oversampling_samp, oversampling_ratio in zip(oversampling_samps, oversampling_ratios):\n",
        "\n",
        "    sampling_strategy = {min_label: len(X_minority) + oversampling_samp}\n",
        "    X_train_upsampled, y_train_upsampled = SMOTE(sampling_strategy=sampling_strategy, random_state = seed).fit_resample(X_train, y_train)\n",
        "\n",
        "    oversampled_X_train_ratios[oversampling_ratio] = X_train_upsampled\n",
        "    oversampled_y_train_ratios[oversampling_ratio] = y_train_upsampled\n",
        "\n",
        "  return list(oversampled_X_train_ratios.values()), list(oversampled_y_train_ratios.values())\n"
      ],
      "metadata": {
        "id": "cF6biXPn125o"
      },
      "execution_count": 12,
      "outputs": []
    },
    {
      "cell_type": "markdown",
      "source": [
        "# SVM-SMOTE Over-Sampling"
      ],
      "metadata": {
        "id": "QutsbBwdMujq"
      }
    },
    {
      "cell_type": "code",
      "source": [
        "def find_minority_data(X, y):\n",
        "    labels, counts = np.unique(y, return_counts=True)\n",
        "    min_label = min(zip(counts, labels))[1]\n",
        "    indices_with_min_label = np.where(y == min_label)[0]\n",
        "    X_min, y_min = X[indices_with_min_label], y[indices_with_min_label]\n",
        "\n",
        "    # Other class samples\n",
        "    indices_without_min_label = np.where(y != min_label)[0]\n",
        "    X_remaining, y_remaining = X[indices_without_min_label], y[indices_without_min_label]\n",
        "\n",
        "    return X_min, y_min, X_remaining, y_remaining, min_label\n",
        "\n",
        "def svm_smote_oversampling(X_train, y_train, oversampling_ratios, seed=42):\n",
        "\n",
        "  oversampled_X_train_ratios = dict()\n",
        "  oversampled_y_train_ratios = dict()\n",
        "  X_minority, y_minority, X_remaining, y_remaining, min_label = find_minority_data(X_train, y_train)\n",
        "  ideal_samps = len(X_remaining) - len(X_minority)\n",
        "\n",
        "  oversampling_samps = [int(ideal_samps * (oversampling_ratio)) for oversampling_ratio in oversampling_ratios]\n",
        "  for oversampling_samp, oversampling_ratio in zip(oversampling_samps, oversampling_ratios):\n",
        "\n",
        "    sampling_strategy = {min_label: len(X_minority) + oversampling_samp}\n",
        "    X_train_upsampled, y_train_upsampled = SVMSMOTE(sampling_strategy=sampling_strategy, random_state = seed).fit_resample(X_train, y_train)\n",
        "\n",
        "    oversampled_X_train_ratios[oversampling_ratio] = X_train_upsampled\n",
        "    oversampled_y_train_ratios[oversampling_ratio] = y_train_upsampled\n",
        "\n",
        "  return list(oversampled_X_train_ratios.values()), list(oversampled_y_train_ratios.values())\n"
      ],
      "metadata": {
        "id": "XwF74E6XMzG4"
      },
      "execution_count": 13,
      "outputs": []
    },
    {
      "cell_type": "markdown",
      "source": [
        "# Intelligent Pruning"
      ],
      "metadata": {
        "id": "x7qohyP7L0DZ"
      }
    },
    {
      "cell_type": "code",
      "source": [
        "def find_majority_data(X, y):\n",
        "    labels, counts = np.unique(y, return_counts=True)\n",
        "    max_label = max(zip(counts, labels))[1]\n",
        "    indices_with_max_label = np.where(y == max_label)[0]\n",
        "    X_maj, y_maj = X[indices_with_max_label], y[indices_with_max_label]\n",
        "\n",
        "    # Exclude majority class samples\n",
        "    indices_without_max_label = np.where(y != max_label)[0]\n",
        "    X_remaining, y_remaining = X[indices_without_max_label], y[indices_without_max_label]\n",
        "\n",
        "    return X_maj, y_maj, X_remaining, y_remaining, min(counts)\n",
        "\n",
        "def do_clustering(X, y, labels):\n",
        "  clustered_X = defaultdict(list)\n",
        "  clustered_y = defaultdict(list)\n",
        "\n",
        "  for i, label in enumerate(labels):\n",
        "      clustered_X[label].append(X[i])\n",
        "      clustered_y[label].append(y[i])\n",
        "\n",
        "  # Sort clustered_X and clustered_y in descending order based on the length of values in each dictionary\n",
        "  sorted_clustered_X = dict(sorted(clustered_X.items(), key=lambda x: -len(x[1])))\n",
        "  sorted_clustered_y = dict(sorted(clustered_y.items(), key=lambda x: -len(x[1])))\n",
        "\n",
        "  return sorted_clustered_X, sorted_clustered_y\n",
        "\n",
        "\n",
        "def intelligent_prune_data(pruning_samps, pruning_ratios, clustered_X, clustered_y, per_cluster_pruning_ratio=0.7, seed=42):\n",
        "  random.seed(seed)\n",
        "  pruning_ratios_X_maj, pruning_ratios_y_maj = defaultdict(list), defaultdict(list)\n",
        "  for pruning_samp, pruning_ratio in zip(pruning_samps, pruning_ratios):\n",
        "    samps = 0\n",
        "    # print(\"For Pruning samps: \", pruning_samp)\n",
        "    prune_samps = pruning_samp\n",
        "    # print(prune_samps)\n",
        "    clustered_X_new = defaultdict(list)\n",
        "    clustered_y_new = defaultdict(list)\n",
        "    # Iterate over the sorted dictionaries\n",
        "    for label, values_X in clustered_X.items():\n",
        "        # Calculate the number of samples to prune\n",
        "        num_samples_to_prune = int(prune_samps * per_cluster_pruning_ratio)\n",
        "        if(num_samples_to_prune > len(values_X)):\n",
        "          num_samples_to_prune = len(values_X)//2\n",
        "          prune_samps -= num_samples_to_prune\n",
        "        else:\n",
        "          prune_samps -= num_samples_to_prune\n",
        "\n",
        "        # Randomly choose samples to prune\n",
        "        indices_to_prune = random.sample(range(len(values_X)), num_samples_to_prune)\n",
        "\n",
        "        # Prune the samples from clustered_X and clustered_y\n",
        "        clustered_X_new[label] = [values_X[i] for i in range(len(values_X)) if i not in indices_to_prune]\n",
        "        clustered_y_new[label] = [clustered_y[label][i] for i in range(len(clustered_y[label])) if i not in indices_to_prune]\n",
        "\n",
        "    iter = 0\n",
        "    while(prune_samps > 0):\n",
        "        if(iter>=100):\n",
        "          break\n",
        "        for label, values_X in clustered_X_new.items():\n",
        "          if(prune_samps <=0 or len(values_X) <= 0):\n",
        "            break\n",
        "          # print(len(values_X))\n",
        "          index_to_prune = random.sample(range(len(values_X)), 1)\n",
        "          clustered_X_new[label] = [values_X[i] for i in range(len(values_X)) if i not in index_to_prune]\n",
        "          clustered_y_new[label] = [clustered_y_new[label][i] for i in range(len(clustered_y_new[label])) if i not in index_to_prune]\n",
        "\n",
        "          prune_samps -= 1\n",
        "        iter += 1\n",
        "\n",
        "    for label in clustered_X_new:\n",
        "        pruning_ratios_X_maj[pruning_ratio].extend(clustered_X_new[label])\n",
        "        pruning_ratios_y_maj[pruning_ratio].extend(clustered_y_new[label])\n",
        "\n",
        "  return pruning_ratios_X_maj, pruning_ratios_y_maj\n",
        "\n",
        "def combine_data(pruning_ratios, pruning_ratios_X_maj, pruning_ratios_y_maj, X_remaining, y_remaining):\n",
        "\n",
        "  pruning_ratios_X, pruning_ratios_y = defaultdict(list), defaultdict(list)\n",
        "  for pruning_ratio in pruning_ratios:\n",
        "    pruning_ratios_X[pruning_ratio].extend(pruning_ratios_X_maj[pruning_ratio])\n",
        "    pruning_ratios_X[pruning_ratio].extend(X_remaining)\n",
        "\n",
        "    pruning_ratios_y[pruning_ratio].extend(pruning_ratios_y_maj[pruning_ratio])\n",
        "    pruning_ratios_y[pruning_ratio].extend(y_remaining)\n",
        "\n",
        "  return pruning_ratios_X, pruning_ratios_y\n",
        "\n",
        "def do_intelligent_pruning(X, y, ratio, per_cluster_pruning_ratio=0.7, seed=42):\n",
        "\n",
        "  X_maj, y_maj, X_remaining, y_remaining, min_class_samples = find_majority_data(X, y)\n",
        "  kmeans = KMeans(n_clusters=3, random_state = 42)\n",
        "  kmeans.fit(X_maj)\n",
        "  labels = kmeans.labels_\n",
        "  clustered_X, clustered_y = do_clustering(X_maj, y_maj, labels)\n",
        "\n",
        "  pruning_best = len(X_maj)-min_class_samples\n",
        "  pruning_samps = [int(pruning_best * ratio)]\n",
        "  pruning_ratios = [ratio]\n",
        "\n",
        "  pruning_ratios_X_maj, pruning_ratios_y_maj = intelligent_prune_data(pruning_samps, pruning_ratios, clustered_X, clustered_y, \\\n",
        "                                                                      per_cluster_pruning_ratio=per_cluster_pruning_ratio, seed=seed)\n",
        "\n",
        "  pruning_ratios_X, pruning_ratios_y = combine_data(pruning_ratios, pruning_ratios_X_maj, pruning_ratios_y_maj, X_remaining, y_remaining)\n",
        "\n",
        "  return list(pruning_ratios_X.values()), list(pruning_ratios_y.values())"
      ],
      "metadata": {
        "id": "w9_Pj009Lxp9"
      },
      "execution_count": 14,
      "outputs": []
    },
    {
      "cell_type": "markdown",
      "source": [
        "# Random Pruning"
      ],
      "metadata": {
        "id": "yky--qnU6rg6"
      }
    },
    {
      "cell_type": "code",
      "source": [
        "\"\"\"\n",
        "inputs:\n",
        "X: np.array\n",
        "y: np.array\n",
        "percentage: from 0% upto 100%, enter int value\n",
        "\"\"\"\n",
        "def random_prune_data(X, y, ratio, seed = 42):\n",
        "  # preprocessed_X, scaler, imputer = preprocess_data_train(X)\n",
        "  # preprocessed_X_test = preprocess_data_test(X_test, scaler, imputer)\n",
        "\n",
        "  # X_train, y_train = preprocessed_X_train.to_numpy(), y_train.to_numpy()\n",
        "  # X_test, y_test = preprocessed_X_test.to_numpy(), y_test.to_numpy()\n",
        "  np.random.seed(seed)\n",
        "  labels_count = {}\n",
        "  labels = np.unique(y)\n",
        "  for label in labels:\n",
        "    labels_count[label] = np.count_nonzero(y == label)\n",
        "  max_label = min_label = labels[0]\n",
        "  for label in labels_count:\n",
        "    if labels_count[label] > labels_count[max_label]:\n",
        "      max_label = label\n",
        "    if labels_count[label] < labels_count[min_label]:\n",
        "      min_label = label\n",
        "\n",
        "  # print(\"Max\", max_label, labels_count[max_label])\n",
        "  # print(\"Min\", min_label, labels_count[min_label])\n",
        "\n",
        "  prune_counts = {}\n",
        "  prune_indexes = {}\n",
        "  for label in labels_count:\n",
        "    prune_counts[label] = labels_count[label] - labels_count[min_label]\n",
        "    prune_indexes[label] = np.where(y == label)[0]\n",
        "\n",
        "  prune_amount = int(ratio * sum(map(lambda x: x[1], prune_counts.items())))\n",
        "  prune_it = {}\n",
        "\n",
        "  while prune_amount > 0:\n",
        "    for label in labels:\n",
        "      if (len(prune_indexes[label]) - labels_count[min_label]) > 0 and prune_amount > 0:\n",
        "        random_index = np.random.choice(len(prune_indexes[label]))\n",
        "        random_item = prune_indexes[label][random_index]\n",
        "        prune_indexes[label] = np.delete(prune_indexes[label], random_index)\n",
        "        if prune_it.get(label, None) is None:\n",
        "          prune_it[label] = np.array([])\n",
        "        prune_it[label] = np.append(prune_it[label], [random_item])\n",
        "        prune_amount -= 1\n",
        "\n",
        "\n",
        "\n",
        "  formatted_indexes = np.array([])\n",
        "  for label in prune_indexes:\n",
        "    formatted_indexes = np.append(formatted_indexes, prune_indexes[label])\n",
        "  formatted_indexes = np.sort(formatted_indexes)\n",
        "  new_arr = np.array([np.int64(i) for i in formatted_indexes])\n",
        "\n",
        "  return X[new_arr], y[new_arr]"
      ],
      "metadata": {
        "id": "BtB6jqhZtRD0"
      },
      "execution_count": 15,
      "outputs": []
    },
    {
      "cell_type": "code",
      "source": [
        "ratios = [ratio for ratio in np.arange(0.2, 1.1, 0.2)]"
      ],
      "metadata": {
        "id": "z0A-h4iX3J8p"
      },
      "execution_count": 16,
      "outputs": []
    },
    {
      "cell_type": "markdown",
      "source": [
        "# Calling Intelligent Pruning"
      ],
      "metadata": {
        "id": "UY6hAjLw9fy3"
      }
    },
    {
      "cell_type": "code",
      "source": [
        "results_intelligent_pruning = dict()\n",
        "per_cluster_pruning_ratios = [0.5, 0.7, 0.9, 1]\n",
        "\n",
        "for per_cluster_pruning_ratio in per_cluster_pruning_ratios:\n",
        "  print(f'For per-cluster pruning ratio {per_cluster_pruning_ratio}')\n",
        "  for ratio in ratios:\n",
        "    X_train_copy, y_train_copy = X_train.copy(), y_train.copy()\n",
        "\n",
        "    intelligent_pruned_X_train, intelligent_pruned_y_train = do_intelligent_pruning(X_train_copy.to_numpy(), y_train_copy.to_numpy(), ratio, per_cluster_pruning_ratio=per_cluster_pruning_ratio)\n",
        "\n",
        "    preprocessed_intelligent_pruned_X_train, scaler, imputer = preprocess_data_train((np.array(intelligent_pruned_X_train))[0])\n",
        "    preprocessed_X_test = preprocess_data_test(X_test, scaler, imputer)\n",
        "\n",
        "    intelligent_pruned_X_train, intelligent_pruned_y_train = preprocessed_intelligent_pruned_X_train, (np.array(intelligent_pruned_y_train))[0]\n",
        "    intelligent_pruned_X_test, intelligent_pruned_y_test = preprocessed_X_test, y_test.to_numpy()\n",
        "    print(f\"Train data pruned intelligently at {ratio * 100}% :\")\n",
        "    results = evaluate_models(intelligent_pruned_X_train, intelligent_pruned_X_test, intelligent_pruned_y_train, intelligent_pruned_y_test)\n",
        "    print(results)\n",
        "    results_intelligent_pruning[ratio] = results\n",
        "    print(\"_______________________________________________________________________________\")"
      ],
      "metadata": {
        "colab": {
          "base_uri": "https://localhost:8080/"
        },
        "id": "wRV_KrPy9is0",
        "outputId": "02194aad-4255-4abd-d7d2-c89b25ef2b79"
      },
      "execution_count": 17,
      "outputs": [
        {
          "output_type": "stream",
          "name": "stdout",
          "text": [
            "For per-cluster pruning ratio 0.5\n"
          ]
        },
        {
          "output_type": "stream",
          "name": "stderr",
          "text": [
            "/usr/local/lib/python3.10/dist-packages/sklearn/cluster/_kmeans.py:870: FutureWarning: The default value of `n_init` will change from 10 to 'auto' in 1.4. Set the value of `n_init` explicitly to suppress the warning\n",
            "  warnings.warn(\n",
            "/usr/local/lib/python3.10/dist-packages/sklearn/base.py:432: UserWarning: X has feature names, but SimpleImputer was fitted without feature names\n",
            "  warnings.warn(\n"
          ]
        },
        {
          "output_type": "stream",
          "name": "stdout",
          "text": [
            "Train data pruned intelligently at 20.0% :\n"
          ]
        },
        {
          "output_type": "stream",
          "name": "stderr",
          "text": [
            "/usr/local/lib/python3.10/dist-packages/sklearn/metrics/_classification.py:1344: UndefinedMetricWarning: Precision is ill-defined and being set to 0.0 due to no predicted samples. Use `zero_division` parameter to control this behavior.\n",
            "  _warn_prf(average, modifier, msg_start, len(result))\n"
          ]
        },
        {
          "output_type": "stream",
          "name": "stdout",
          "text": [
            "{'Logistic Regression': {'Accuracy': 0.934, 'Precision': 0.03571428571428571, 'Recall': 0.14285714285714285, 'F1 Score': 0.05714285714285715, 'ROC AUC': 0.5818603303390322, 'Confusion Matrix': array([[466,  27],\n",
            "       [  6,   1]])}, 'SVM': {'Accuracy': 0.986, 'Precision': 0.0, 'Recall': 0.0, 'F1 Score': 0.0, 'ROC AUC': 0.4555201390901188, 'Confusion Matrix': array([[493,   0],\n",
            "       [  7,   0]])}, 'Decision Tree': {'Accuracy': 0.964, 'Precision': 0.07692307692307693, 'Recall': 0.14285714285714285, 'F1 Score': 0.1, 'ROC AUC': 0.5592581860330339, 'Confusion Matrix': array([[481,  12],\n",
            "       [  6,   1]])}}\n",
            "_______________________________________________________________________________\n"
          ]
        },
        {
          "output_type": "stream",
          "name": "stderr",
          "text": [
            "/usr/local/lib/python3.10/dist-packages/sklearn/cluster/_kmeans.py:870: FutureWarning: The default value of `n_init` will change from 10 to 'auto' in 1.4. Set the value of `n_init` explicitly to suppress the warning\n",
            "  warnings.warn(\n",
            "/usr/local/lib/python3.10/dist-packages/sklearn/base.py:432: UserWarning: X has feature names, but SimpleImputer was fitted without feature names\n",
            "  warnings.warn(\n"
          ]
        },
        {
          "output_type": "stream",
          "name": "stdout",
          "text": [
            "Train data pruned intelligently at 40.0% :\n"
          ]
        },
        {
          "output_type": "stream",
          "name": "stderr",
          "text": [
            "/usr/local/lib/python3.10/dist-packages/sklearn/metrics/_classification.py:1344: UndefinedMetricWarning: Precision is ill-defined and being set to 0.0 due to no predicted samples. Use `zero_division` parameter to control this behavior.\n",
            "  _warn_prf(average, modifier, msg_start, len(result))\n"
          ]
        },
        {
          "output_type": "stream",
          "name": "stdout",
          "text": [
            "{'Logistic Regression': {'Accuracy': 0.916, 'Precision': 0.02702702702702703, 'Recall': 0.14285714285714285, 'F1 Score': 0.045454545454545456, 'ROC AUC': 0.5940307157345697, 'Confusion Matrix': array([[457,  36],\n",
            "       [  6,   1]])}, 'SVM': {'Accuracy': 0.986, 'Precision': 0.0, 'Recall': 0.0, 'F1 Score': 0.0, 'ROC AUC': 0.4630541871921182, 'Confusion Matrix': array([[493,   0],\n",
            "       [  7,   0]])}, 'Decision Tree': {'Accuracy': 0.952, 'Precision': 0.16, 'Recall': 0.5714285714285714, 'F1 Score': 0.25, 'ROC AUC': 0.764416111272095, 'Confusion Matrix': array([[472,  21],\n",
            "       [  3,   4]])}}\n",
            "_______________________________________________________________________________\n"
          ]
        },
        {
          "output_type": "stream",
          "name": "stderr",
          "text": [
            "/usr/local/lib/python3.10/dist-packages/sklearn/cluster/_kmeans.py:870: FutureWarning: The default value of `n_init` will change from 10 to 'auto' in 1.4. Set the value of `n_init` explicitly to suppress the warning\n",
            "  warnings.warn(\n",
            "/usr/local/lib/python3.10/dist-packages/sklearn/base.py:432: UserWarning: X has feature names, but SimpleImputer was fitted without feature names\n",
            "  warnings.warn(\n"
          ]
        },
        {
          "output_type": "stream",
          "name": "stdout",
          "text": [
            "Train data pruned intelligently at 60.00000000000001% :\n"
          ]
        },
        {
          "output_type": "stream",
          "name": "stderr",
          "text": [
            "/usr/local/lib/python3.10/dist-packages/sklearn/metrics/_classification.py:1344: UndefinedMetricWarning: Precision is ill-defined and being set to 0.0 due to no predicted samples. Use `zero_division` parameter to control this behavior.\n",
            "  _warn_prf(average, modifier, msg_start, len(result))\n"
          ]
        },
        {
          "output_type": "stream",
          "name": "stdout",
          "text": [
            "{'Logistic Regression': {'Accuracy': 0.88, 'Precision': 0.01818181818181818, 'Recall': 0.14285714285714285, 'F1 Score': 0.032258064516129024, 'ROC AUC': 0.5992465951898001, 'Confusion Matrix': array([[439,  54],\n",
            "       [  6,   1]])}, 'SVM': {'Accuracy': 0.986, 'Precision': 0.0, 'Recall': 0.0, 'F1 Score': 0.0, 'ROC AUC': 0.4755143436685018, 'Confusion Matrix': array([[493,   0],\n",
            "       [  7,   0]])}, 'Decision Tree': {'Accuracy': 0.95, 'Precision': 0.15384615384615385, 'Recall': 0.5714285714285714, 'F1 Score': 0.24242424242424246, 'ROC AUC': 0.7634019124891336, 'Confusion Matrix': array([[471,  22],\n",
            "       [  3,   4]])}}\n",
            "_______________________________________________________________________________\n"
          ]
        },
        {
          "output_type": "stream",
          "name": "stderr",
          "text": [
            "/usr/local/lib/python3.10/dist-packages/sklearn/cluster/_kmeans.py:870: FutureWarning: The default value of `n_init` will change from 10 to 'auto' in 1.4. Set the value of `n_init` explicitly to suppress the warning\n",
            "  warnings.warn(\n",
            "/usr/local/lib/python3.10/dist-packages/sklearn/base.py:432: UserWarning: X has feature names, but SimpleImputer was fitted without feature names\n",
            "  warnings.warn(\n"
          ]
        },
        {
          "output_type": "stream",
          "name": "stdout",
          "text": [
            "Train data pruned intelligently at 80.0% :\n",
            "{'Logistic Regression': {'Accuracy': 0.606, 'Precision': 0.020202020202020204, 'Recall': 0.5714285714285714, 'F1 Score': 0.03902439024390244, 'ROC AUC': 0.5722978846711098, 'Confusion Matrix': array([[299, 194],\n",
            "       [  3,   4]])}, 'SVM': {'Accuracy': 0.862, 'Precision': 0.030303030303030304, 'Recall': 0.2857142857142857, 'F1 Score': 0.054794520547945216, 'ROC AUC': 0.486815415821501, 'Confusion Matrix': array([[429,  64],\n",
            "       [  5,   2]])}, 'Decision Tree': {'Accuracy': 0.014, 'Precision': 0.014, 'Recall': 1.0, 'F1 Score': 0.027613412228796843, 'ROC AUC': 0.5, 'Confusion Matrix': array([[  0, 493],\n",
            "       [  0,   7]])}}\n",
            "_______________________________________________________________________________\n"
          ]
        },
        {
          "output_type": "stream",
          "name": "stderr",
          "text": [
            "/usr/local/lib/python3.10/dist-packages/sklearn/cluster/_kmeans.py:870: FutureWarning: The default value of `n_init` will change from 10 to 'auto' in 1.4. Set the value of `n_init` explicitly to suppress the warning\n",
            "  warnings.warn(\n",
            "/usr/local/lib/python3.10/dist-packages/sklearn/base.py:432: UserWarning: X has feature names, but SimpleImputer was fitted without feature names\n",
            "  warnings.warn(\n"
          ]
        },
        {
          "output_type": "stream",
          "name": "stdout",
          "text": [
            "Train data pruned intelligently at 100.0% :\n",
            "{'Logistic Regression': {'Accuracy': 0.848, 'Precision': 0.014084507042253521, 'Recall': 0.14285714285714285, 'F1 Score': 0.025641025641025637, 'ROC AUC': 0.6186612576064909, 'Confusion Matrix': array([[423,  70],\n",
            "       [  6,   1]])}, 'SVM': {'Accuracy': 0.544, 'Precision': 0.008888888888888889, 'Recall': 0.2857142857142857, 'F1 Score': 0.017241379310344827, 'ROC AUC': 0.3819182845552014, 'Confusion Matrix': array([[270, 223],\n",
            "       [  5,   2]])}, 'Decision Tree': {'Accuracy': 0.736, 'Precision': 0.03007518796992481, 'Recall': 0.5714285714285714, 'F1 Score': 0.05714285714285714, 'ROC AUC': 0.6548826427122573, 'Confusion Matrix': array([[364, 129],\n",
            "       [  3,   4]])}}\n",
            "_______________________________________________________________________________\n",
            "For per-cluster pruning ratio 0.7\n"
          ]
        },
        {
          "output_type": "stream",
          "name": "stderr",
          "text": [
            "/usr/local/lib/python3.10/dist-packages/sklearn/cluster/_kmeans.py:870: FutureWarning: The default value of `n_init` will change from 10 to 'auto' in 1.4. Set the value of `n_init` explicitly to suppress the warning\n",
            "  warnings.warn(\n",
            "/usr/local/lib/python3.10/dist-packages/sklearn/base.py:432: UserWarning: X has feature names, but SimpleImputer was fitted without feature names\n",
            "  warnings.warn(\n"
          ]
        },
        {
          "output_type": "stream",
          "name": "stdout",
          "text": [
            "Train data pruned intelligently at 20.0% :\n"
          ]
        },
        {
          "output_type": "stream",
          "name": "stderr",
          "text": [
            "/usr/local/lib/python3.10/dist-packages/sklearn/metrics/_classification.py:1344: UndefinedMetricWarning: Precision is ill-defined and being set to 0.0 due to no predicted samples. Use `zero_division` parameter to control this behavior.\n",
            "  _warn_prf(average, modifier, msg_start, len(result))\n"
          ]
        },
        {
          "output_type": "stream",
          "name": "stdout",
          "text": [
            "{'Logistic Regression': {'Accuracy': 0.934, 'Precision': 0.03571428571428571, 'Recall': 0.14285714285714285, 'F1 Score': 0.05714285714285715, 'ROC AUC': 0.5957693422196464, 'Confusion Matrix': array([[466,  27],\n",
            "       [  6,   1]])}, 'SVM': {'Accuracy': 0.986, 'Precision': 0.0, 'Recall': 0.0, 'F1 Score': 0.0, 'ROC AUC': 0.4555201390901188, 'Confusion Matrix': array([[493,   0],\n",
            "       [  7,   0]])}, 'Decision Tree': {'Accuracy': 0.966, 'Precision': 0.08333333333333333, 'Recall': 0.14285714285714285, 'F1 Score': 0.10526315789473685, 'ROC AUC': 0.5602723848159953, 'Confusion Matrix': array([[482,  11],\n",
            "       [  6,   1]])}}\n",
            "_______________________________________________________________________________\n"
          ]
        },
        {
          "output_type": "stream",
          "name": "stderr",
          "text": [
            "/usr/local/lib/python3.10/dist-packages/sklearn/cluster/_kmeans.py:870: FutureWarning: The default value of `n_init` will change from 10 to 'auto' in 1.4. Set the value of `n_init` explicitly to suppress the warning\n",
            "  warnings.warn(\n",
            "/usr/local/lib/python3.10/dist-packages/sklearn/base.py:432: UserWarning: X has feature names, but SimpleImputer was fitted without feature names\n",
            "  warnings.warn(\n"
          ]
        },
        {
          "output_type": "stream",
          "name": "stdout",
          "text": [
            "Train data pruned intelligently at 40.0% :\n"
          ]
        },
        {
          "output_type": "stream",
          "name": "stderr",
          "text": [
            "/usr/local/lib/python3.10/dist-packages/sklearn/metrics/_classification.py:1344: UndefinedMetricWarning: Precision is ill-defined and being set to 0.0 due to no predicted samples. Use `zero_division` parameter to control this behavior.\n",
            "  _warn_prf(average, modifier, msg_start, len(result))\n"
          ]
        },
        {
          "output_type": "stream",
          "name": "stdout",
          "text": [
            "{'Logistic Regression': {'Accuracy': 0.904, 'Precision': 0.023255813953488372, 'Recall': 0.14285714285714285, 'F1 Score': 0.04, 'ROC AUC': 0.5917125470878006, 'Confusion Matrix': array([[451,  42],\n",
            "       [  6,   1]])}, 'SVM': {'Accuracy': 0.986, 'Precision': 0.0, 'Recall': 0.0, 'F1 Score': 0.0, 'ROC AUC': 0.4329179947841205, 'Confusion Matrix': array([[493,   0],\n",
            "       [  7,   0]])}, 'Decision Tree': {'Accuracy': 0.96, 'Precision': 0.19047619047619047, 'Recall': 0.5714285714285714, 'F1 Score': 0.2857142857142857, 'ROC AUC': 0.768472906403941, 'Confusion Matrix': array([[476,  17],\n",
            "       [  3,   4]])}}\n",
            "_______________________________________________________________________________\n"
          ]
        },
        {
          "output_type": "stream",
          "name": "stderr",
          "text": [
            "/usr/local/lib/python3.10/dist-packages/sklearn/cluster/_kmeans.py:870: FutureWarning: The default value of `n_init` will change from 10 to 'auto' in 1.4. Set the value of `n_init` explicitly to suppress the warning\n",
            "  warnings.warn(\n",
            "/usr/local/lib/python3.10/dist-packages/sklearn/base.py:432: UserWarning: X has feature names, but SimpleImputer was fitted without feature names\n",
            "  warnings.warn(\n"
          ]
        },
        {
          "output_type": "stream",
          "name": "stdout",
          "text": [
            "Train data pruned intelligently at 60.00000000000001% :\n"
          ]
        },
        {
          "output_type": "stream",
          "name": "stderr",
          "text": [
            "/usr/local/lib/python3.10/dist-packages/sklearn/metrics/_classification.py:1344: UndefinedMetricWarning: Precision is ill-defined and being set to 0.0 due to no predicted samples. Use `zero_division` parameter to control this behavior.\n",
            "  _warn_prf(average, modifier, msg_start, len(result))\n"
          ]
        },
        {
          "output_type": "stream",
          "name": "stdout",
          "text": [
            "{'Logistic Regression': {'Accuracy': 0.916, 'Precision': 0.02702702702702703, 'Recall': 0.14285714285714285, 'F1 Score': 0.045454545454545456, 'ROC AUC': 0.5783830773688785, 'Confusion Matrix': array([[457,  36],\n",
            "       [  6,   1]])}, 'SVM': {'Accuracy': 0.986, 'Precision': 0.0, 'Recall': 0.0, 'F1 Score': 0.0, 'ROC AUC': 0.4419008982903506, 'Confusion Matrix': array([[493,   0],\n",
            "       [  7,   0]])}, 'Decision Tree': {'Accuracy': 0.914, 'Precision': 0.09090909090909091, 'Recall': 0.5714285714285714, 'F1 Score': 0.1568627450980392, 'ROC AUC': 0.7451463343958272, 'Confusion Matrix': array([[453,  40],\n",
            "       [  3,   4]])}}\n",
            "_______________________________________________________________________________\n"
          ]
        },
        {
          "output_type": "stream",
          "name": "stderr",
          "text": [
            "/usr/local/lib/python3.10/dist-packages/sklearn/cluster/_kmeans.py:870: FutureWarning: The default value of `n_init` will change from 10 to 'auto' in 1.4. Set the value of `n_init` explicitly to suppress the warning\n",
            "  warnings.warn(\n",
            "/usr/local/lib/python3.10/dist-packages/sklearn/base.py:432: UserWarning: X has feature names, but SimpleImputer was fitted without feature names\n",
            "  warnings.warn(\n"
          ]
        },
        {
          "output_type": "stream",
          "name": "stdout",
          "text": [
            "Train data pruned intelligently at 80.0% :\n",
            "{'Logistic Regression': {'Accuracy': 0.936, 'Precision': 0.0, 'Recall': 0.0, 'F1 Score': 0.0, 'ROC AUC': 0.5838887279049552, 'Confusion Matrix': array([[468,  25],\n",
            "       [  7,   0]])}, 'SVM': {'Accuracy': 0.88, 'Precision': 0.01818181818181818, 'Recall': 0.14285714285714285, 'F1 Score': 0.032258064516129024, 'ROC AUC': 0.4149521877716604, 'Confusion Matrix': array([[439,  54],\n",
            "       [  6,   1]])}, 'Decision Tree': {'Accuracy': 0.952, 'Precision': 0.16, 'Recall': 0.5714285714285714, 'F1 Score': 0.25, 'ROC AUC': 0.764416111272095, 'Confusion Matrix': array([[472,  21],\n",
            "       [  3,   4]])}}\n",
            "_______________________________________________________________________________\n"
          ]
        },
        {
          "output_type": "stream",
          "name": "stderr",
          "text": [
            "/usr/local/lib/python3.10/dist-packages/sklearn/cluster/_kmeans.py:870: FutureWarning: The default value of `n_init` will change from 10 to 'auto' in 1.4. Set the value of `n_init` explicitly to suppress the warning\n",
            "  warnings.warn(\n",
            "/usr/local/lib/python3.10/dist-packages/sklearn/base.py:432: UserWarning: X has feature names, but SimpleImputer was fitted without feature names\n",
            "  warnings.warn(\n"
          ]
        },
        {
          "output_type": "stream",
          "name": "stdout",
          "text": [
            "Train data pruned intelligently at 100.0% :\n",
            "{'Logistic Regression': {'Accuracy': 0.848, 'Precision': 0.014084507042253521, 'Recall': 0.14285714285714285, 'F1 Score': 0.025641025641025637, 'ROC AUC': 0.6186612576064909, 'Confusion Matrix': array([[423,  70],\n",
            "       [  6,   1]])}, 'SVM': {'Accuracy': 0.544, 'Precision': 0.008888888888888889, 'Recall': 0.2857142857142857, 'F1 Score': 0.017241379310344827, 'ROC AUC': 0.3819182845552014, 'Confusion Matrix': array([[270, 223],\n",
            "       [  5,   2]])}, 'Decision Tree': {'Accuracy': 0.736, 'Precision': 0.03007518796992481, 'Recall': 0.5714285714285714, 'F1 Score': 0.05714285714285714, 'ROC AUC': 0.6548826427122573, 'Confusion Matrix': array([[364, 129],\n",
            "       [  3,   4]])}}\n",
            "_______________________________________________________________________________\n",
            "For per-cluster pruning ratio 0.9\n"
          ]
        },
        {
          "output_type": "stream",
          "name": "stderr",
          "text": [
            "/usr/local/lib/python3.10/dist-packages/sklearn/cluster/_kmeans.py:870: FutureWarning: The default value of `n_init` will change from 10 to 'auto' in 1.4. Set the value of `n_init` explicitly to suppress the warning\n",
            "  warnings.warn(\n",
            "/usr/local/lib/python3.10/dist-packages/sklearn/base.py:432: UserWarning: X has feature names, but SimpleImputer was fitted without feature names\n",
            "  warnings.warn(\n"
          ]
        },
        {
          "output_type": "stream",
          "name": "stdout",
          "text": [
            "Train data pruned intelligently at 20.0% :\n"
          ]
        },
        {
          "output_type": "stream",
          "name": "stderr",
          "text": [
            "/usr/local/lib/python3.10/dist-packages/sklearn/metrics/_classification.py:1344: UndefinedMetricWarning: Precision is ill-defined and being set to 0.0 due to no predicted samples. Use `zero_division` parameter to control this behavior.\n",
            "  _warn_prf(average, modifier, msg_start, len(result))\n"
          ]
        },
        {
          "output_type": "stream",
          "name": "stdout",
          "text": [
            "{'Logistic Regression': {'Accuracy': 0.932, 'Precision': 0.034482758620689655, 'Recall': 0.14285714285714285, 'F1 Score': 0.05555555555555555, 'ROC AUC': 0.5830194146624166, 'Confusion Matrix': array([[465,  28],\n",
            "       [  6,   1]])}, 'SVM': {'Accuracy': 0.986, 'Precision': 0.0, 'Recall': 0.0, 'F1 Score': 0.0, 'ROC AUC': 0.44798609098811937, 'Confusion Matrix': array([[493,   0],\n",
            "       [  7,   0]])}, 'Decision Tree': {'Accuracy': 0.968, 'Precision': 0.09090909090909091, 'Recall': 0.14285714285714285, 'F1 Score': 0.1111111111111111, 'ROC AUC': 0.5612865835989568, 'Confusion Matrix': array([[483,  10],\n",
            "       [  6,   1]])}}\n",
            "_______________________________________________________________________________\n"
          ]
        },
        {
          "output_type": "stream",
          "name": "stderr",
          "text": [
            "/usr/local/lib/python3.10/dist-packages/sklearn/cluster/_kmeans.py:870: FutureWarning: The default value of `n_init` will change from 10 to 'auto' in 1.4. Set the value of `n_init` explicitly to suppress the warning\n",
            "  warnings.warn(\n",
            "/usr/local/lib/python3.10/dist-packages/sklearn/base.py:432: UserWarning: X has feature names, but SimpleImputer was fitted without feature names\n",
            "  warnings.warn(\n"
          ]
        },
        {
          "output_type": "stream",
          "name": "stdout",
          "text": [
            "Train data pruned intelligently at 40.0% :\n"
          ]
        },
        {
          "output_type": "stream",
          "name": "stderr",
          "text": [
            "/usr/local/lib/python3.10/dist-packages/sklearn/metrics/_classification.py:1344: UndefinedMetricWarning: Precision is ill-defined and being set to 0.0 due to no predicted samples. Use `zero_division` parameter to control this behavior.\n",
            "  _warn_prf(average, modifier, msg_start, len(result))\n"
          ]
        },
        {
          "output_type": "stream",
          "name": "stdout",
          "text": [
            "{'Logistic Regression': {'Accuracy': 0.862, 'Precision': 0.0, 'Recall': 0.0, 'F1 Score': 0.0, 'ROC AUC': 0.5525934511735728, 'Confusion Matrix': array([[431,  62],\n",
            "       [  7,   0]])}, 'SVM': {'Accuracy': 0.986, 'Precision': 0.0, 'Recall': 0.0, 'F1 Score': 0.0, 'ROC AUC': 0.4398725007244277, 'Confusion Matrix': array([[493,   0],\n",
            "       [  7,   0]])}, 'Decision Tree': {'Accuracy': 0.966, 'Precision': 0.2222222222222222, 'Recall': 0.5714285714285714, 'F1 Score': 0.32, 'ROC AUC': 0.7715155027528253, 'Confusion Matrix': array([[479,  14],\n",
            "       [  3,   4]])}}\n",
            "_______________________________________________________________________________\n"
          ]
        },
        {
          "output_type": "stream",
          "name": "stderr",
          "text": [
            "/usr/local/lib/python3.10/dist-packages/sklearn/cluster/_kmeans.py:870: FutureWarning: The default value of `n_init` will change from 10 to 'auto' in 1.4. Set the value of `n_init` explicitly to suppress the warning\n",
            "  warnings.warn(\n",
            "/usr/local/lib/python3.10/dist-packages/sklearn/base.py:432: UserWarning: X has feature names, but SimpleImputer was fitted without feature names\n",
            "  warnings.warn(\n"
          ]
        },
        {
          "output_type": "stream",
          "name": "stdout",
          "text": [
            "Train data pruned intelligently at 60.00000000000001% :\n"
          ]
        },
        {
          "output_type": "stream",
          "name": "stderr",
          "text": [
            "/usr/local/lib/python3.10/dist-packages/sklearn/metrics/_classification.py:1344: UndefinedMetricWarning: Precision is ill-defined and being set to 0.0 due to no predicted samples. Use `zero_division` parameter to control this behavior.\n",
            "  _warn_prf(average, modifier, msg_start, len(result))\n"
          ]
        },
        {
          "output_type": "stream",
          "name": "stdout",
          "text": [
            "{'Logistic Regression': {'Accuracy': 0.924, 'Precision': 0.030303030303030304, 'Recall': 0.14285714285714285, 'F1 Score': 0.05, 'ROC AUC': 0.55056505360765, 'Confusion Matrix': array([[461,  32],\n",
            "       [  6,   1]])}, 'SVM': {'Accuracy': 0.986, 'Precision': 0.0, 'Recall': 0.0, 'F1 Score': 0.0, 'ROC AUC': 0.44045204288611994, 'Confusion Matrix': array([[493,   0],\n",
            "       [  7,   0]])}, 'Decision Tree': {'Accuracy': 0.928, 'Precision': 0.10810810810810811, 'Recall': 0.5714285714285714, 'F1 Score': 0.18181818181818182, 'ROC AUC': 0.7522457258765576, 'Confusion Matrix': array([[460,  33],\n",
            "       [  3,   4]])}}\n",
            "_______________________________________________________________________________\n",
            "Train data pruned intelligently at 80.0% :\n"
          ]
        },
        {
          "output_type": "stream",
          "name": "stderr",
          "text": [
            "/usr/local/lib/python3.10/dist-packages/sklearn/cluster/_kmeans.py:870: FutureWarning: The default value of `n_init` will change from 10 to 'auto' in 1.4. Set the value of `n_init` explicitly to suppress the warning\n",
            "  warnings.warn(\n",
            "/usr/local/lib/python3.10/dist-packages/sklearn/base.py:432: UserWarning: X has feature names, but SimpleImputer was fitted without feature names\n",
            "  warnings.warn(\n"
          ]
        },
        {
          "output_type": "stream",
          "name": "stdout",
          "text": [
            "{'Logistic Regression': {'Accuracy': 0.936, 'Precision': 0.0, 'Recall': 0.0, 'F1 Score': 0.0, 'ROC AUC': 0.5838887279049552, 'Confusion Matrix': array([[468,  25],\n",
            "       [  7,   0]])}, 'SVM': {'Accuracy': 0.88, 'Precision': 0.01818181818181818, 'Recall': 0.14285714285714285, 'F1 Score': 0.032258064516129024, 'ROC AUC': 0.4149521877716604, 'Confusion Matrix': array([[439,  54],\n",
            "       [  6,   1]])}, 'Decision Tree': {'Accuracy': 0.952, 'Precision': 0.16, 'Recall': 0.5714285714285714, 'F1 Score': 0.25, 'ROC AUC': 0.764416111272095, 'Confusion Matrix': array([[472,  21],\n",
            "       [  3,   4]])}}\n",
            "_______________________________________________________________________________\n"
          ]
        },
        {
          "output_type": "stream",
          "name": "stderr",
          "text": [
            "/usr/local/lib/python3.10/dist-packages/sklearn/cluster/_kmeans.py:870: FutureWarning: The default value of `n_init` will change from 10 to 'auto' in 1.4. Set the value of `n_init` explicitly to suppress the warning\n",
            "  warnings.warn(\n",
            "/usr/local/lib/python3.10/dist-packages/sklearn/base.py:432: UserWarning: X has feature names, but SimpleImputer was fitted without feature names\n",
            "  warnings.warn(\n"
          ]
        },
        {
          "output_type": "stream",
          "name": "stdout",
          "text": [
            "Train data pruned intelligently at 100.0% :\n",
            "{'Logistic Regression': {'Accuracy': 0.848, 'Precision': 0.014084507042253521, 'Recall': 0.14285714285714285, 'F1 Score': 0.025641025641025637, 'ROC AUC': 0.6186612576064909, 'Confusion Matrix': array([[423,  70],\n",
            "       [  6,   1]])}, 'SVM': {'Accuracy': 0.544, 'Precision': 0.008888888888888889, 'Recall': 0.2857142857142857, 'F1 Score': 0.017241379310344827, 'ROC AUC': 0.3819182845552014, 'Confusion Matrix': array([[270, 223],\n",
            "       [  5,   2]])}, 'Decision Tree': {'Accuracy': 0.736, 'Precision': 0.03007518796992481, 'Recall': 0.5714285714285714, 'F1 Score': 0.05714285714285714, 'ROC AUC': 0.6548826427122573, 'Confusion Matrix': array([[364, 129],\n",
            "       [  3,   4]])}}\n",
            "_______________________________________________________________________________\n",
            "For per-cluster pruning ratio 1\n"
          ]
        },
        {
          "output_type": "stream",
          "name": "stderr",
          "text": [
            "/usr/local/lib/python3.10/dist-packages/sklearn/cluster/_kmeans.py:870: FutureWarning: The default value of `n_init` will change from 10 to 'auto' in 1.4. Set the value of `n_init` explicitly to suppress the warning\n",
            "  warnings.warn(\n",
            "/usr/local/lib/python3.10/dist-packages/sklearn/base.py:432: UserWarning: X has feature names, but SimpleImputer was fitted without feature names\n",
            "  warnings.warn(\n"
          ]
        },
        {
          "output_type": "stream",
          "name": "stdout",
          "text": [
            "Train data pruned intelligently at 20.0% :\n"
          ]
        },
        {
          "output_type": "stream",
          "name": "stderr",
          "text": [
            "/usr/local/lib/python3.10/dist-packages/sklearn/metrics/_classification.py:1344: UndefinedMetricWarning: Precision is ill-defined and being set to 0.0 due to no predicted samples. Use `zero_division` parameter to control this behavior.\n",
            "  _warn_prf(average, modifier, msg_start, len(result))\n"
          ]
        },
        {
          "output_type": "stream",
          "name": "stdout",
          "text": [
            "{'Logistic Regression': {'Accuracy': 0.926, 'Precision': 0.03125, 'Recall': 0.14285714285714285, 'F1 Score': 0.05128205128205128, 'ROC AUC': 0.6163430889597217, 'Confusion Matrix': array([[462,  31],\n",
            "       [  6,   1]])}, 'SVM': {'Accuracy': 0.986, 'Precision': 0.0, 'Recall': 0.0, 'F1 Score': 0.0, 'ROC AUC': 0.47174731961750216, 'Confusion Matrix': array([[493,   0],\n",
            "       [  7,   0]])}, 'Decision Tree': {'Accuracy': 0.954, 'Precision': 0.16666666666666666, 'Recall': 0.5714285714285714, 'F1 Score': 0.25806451612903225, 'ROC AUC': 0.7654303100550565, 'Confusion Matrix': array([[473,  20],\n",
            "       [  3,   4]])}}\n",
            "_______________________________________________________________________________\n"
          ]
        },
        {
          "output_type": "stream",
          "name": "stderr",
          "text": [
            "/usr/local/lib/python3.10/dist-packages/sklearn/cluster/_kmeans.py:870: FutureWarning: The default value of `n_init` will change from 10 to 'auto' in 1.4. Set the value of `n_init` explicitly to suppress the warning\n",
            "  warnings.warn(\n",
            "/usr/local/lib/python3.10/dist-packages/sklearn/base.py:432: UserWarning: X has feature names, but SimpleImputer was fitted without feature names\n",
            "  warnings.warn(\n"
          ]
        },
        {
          "output_type": "stream",
          "name": "stdout",
          "text": [
            "Train data pruned intelligently at 40.0% :\n"
          ]
        },
        {
          "output_type": "stream",
          "name": "stderr",
          "text": [
            "/usr/local/lib/python3.10/dist-packages/sklearn/metrics/_classification.py:1344: UndefinedMetricWarning: Precision is ill-defined and being set to 0.0 due to no predicted samples. Use `zero_division` parameter to control this behavior.\n",
            "  _warn_prf(average, modifier, msg_start, len(result))\n"
          ]
        },
        {
          "output_type": "stream",
          "name": "stdout",
          "text": [
            "{'Logistic Regression': {'Accuracy': 0.71, 'Precision': 0.0273972602739726, 'Recall': 0.5714285714285714, 'F1 Score': 0.05228758169934641, 'ROC AUC': 0.6027238481599536, 'Confusion Matrix': array([[351, 142],\n",
            "       [  3,   4]])}, 'SVM': {'Accuracy': 0.986, 'Precision': 0.0, 'Recall': 0.0, 'F1 Score': 0.0, 'ROC AUC': 0.5065198493190379, 'Confusion Matrix': array([[493,   0],\n",
            "       [  7,   0]])}, 'Decision Tree': {'Accuracy': 0.014, 'Precision': 0.014, 'Recall': 1.0, 'F1 Score': 0.027613412228796843, 'ROC AUC': 0.5, 'Confusion Matrix': array([[  0, 493],\n",
            "       [  0,   7]])}}\n",
            "_______________________________________________________________________________\n"
          ]
        },
        {
          "output_type": "stream",
          "name": "stderr",
          "text": [
            "/usr/local/lib/python3.10/dist-packages/sklearn/cluster/_kmeans.py:870: FutureWarning: The default value of `n_init` will change from 10 to 'auto' in 1.4. Set the value of `n_init` explicitly to suppress the warning\n",
            "  warnings.warn(\n",
            "/usr/local/lib/python3.10/dist-packages/sklearn/base.py:432: UserWarning: X has feature names, but SimpleImputer was fitted without feature names\n",
            "  warnings.warn(\n"
          ]
        },
        {
          "output_type": "stream",
          "name": "stdout",
          "text": [
            "Train data pruned intelligently at 60.00000000000001% :\n"
          ]
        },
        {
          "output_type": "stream",
          "name": "stderr",
          "text": [
            "/usr/local/lib/python3.10/dist-packages/sklearn/metrics/_classification.py:1344: UndefinedMetricWarning: Precision is ill-defined and being set to 0.0 due to no predicted samples. Use `zero_division` parameter to control this behavior.\n",
            "  _warn_prf(average, modifier, msg_start, len(result))\n"
          ]
        },
        {
          "output_type": "stream",
          "name": "stdout",
          "text": [
            "{'Logistic Regression': {'Accuracy': 0.932, 'Precision': 0.034482758620689655, 'Recall': 0.14285714285714285, 'F1 Score': 0.05555555555555555, 'ROC AUC': 0.6354679802955665, 'Confusion Matrix': array([[465,  28],\n",
            "       [  6,   1]])}, 'SVM': {'Accuracy': 0.986, 'Precision': 0.0, 'Recall': 0.0, 'F1 Score': 0.0, 'ROC AUC': 0.43465662126919735, 'Confusion Matrix': array([[493,   0],\n",
            "       [  7,   0]])}, 'Decision Tree': {'Accuracy': 0.958, 'Precision': 0.18181818181818182, 'Recall': 0.5714285714285714, 'F1 Score': 0.27586206896551724, 'ROC AUC': 0.7674587076209795, 'Confusion Matrix': array([[475,  18],\n",
            "       [  3,   4]])}}\n",
            "_______________________________________________________________________________\n"
          ]
        },
        {
          "output_type": "stream",
          "name": "stderr",
          "text": [
            "/usr/local/lib/python3.10/dist-packages/sklearn/cluster/_kmeans.py:870: FutureWarning: The default value of `n_init` will change from 10 to 'auto' in 1.4. Set the value of `n_init` explicitly to suppress the warning\n",
            "  warnings.warn(\n",
            "/usr/local/lib/python3.10/dist-packages/sklearn/base.py:432: UserWarning: X has feature names, but SimpleImputer was fitted without feature names\n",
            "  warnings.warn(\n"
          ]
        },
        {
          "output_type": "stream",
          "name": "stdout",
          "text": [
            "Train data pruned intelligently at 80.0% :\n",
            "{'Logistic Regression': {'Accuracy': 0.936, 'Precision': 0.0, 'Recall': 0.0, 'F1 Score': 0.0, 'ROC AUC': 0.5838887279049552, 'Confusion Matrix': array([[468,  25],\n",
            "       [  7,   0]])}, 'SVM': {'Accuracy': 0.88, 'Precision': 0.01818181818181818, 'Recall': 0.14285714285714285, 'F1 Score': 0.032258064516129024, 'ROC AUC': 0.4149521877716604, 'Confusion Matrix': array([[439,  54],\n",
            "       [  6,   1]])}, 'Decision Tree': {'Accuracy': 0.952, 'Precision': 0.16, 'Recall': 0.5714285714285714, 'F1 Score': 0.25, 'ROC AUC': 0.764416111272095, 'Confusion Matrix': array([[472,  21],\n",
            "       [  3,   4]])}}\n",
            "_______________________________________________________________________________\n"
          ]
        },
        {
          "output_type": "stream",
          "name": "stderr",
          "text": [
            "/usr/local/lib/python3.10/dist-packages/sklearn/cluster/_kmeans.py:870: FutureWarning: The default value of `n_init` will change from 10 to 'auto' in 1.4. Set the value of `n_init` explicitly to suppress the warning\n",
            "  warnings.warn(\n",
            "/usr/local/lib/python3.10/dist-packages/sklearn/base.py:432: UserWarning: X has feature names, but SimpleImputer was fitted without feature names\n",
            "  warnings.warn(\n"
          ]
        },
        {
          "output_type": "stream",
          "name": "stdout",
          "text": [
            "Train data pruned intelligently at 100.0% :\n",
            "{'Logistic Regression': {'Accuracy': 0.848, 'Precision': 0.014084507042253521, 'Recall': 0.14285714285714285, 'F1 Score': 0.025641025641025637, 'ROC AUC': 0.6186612576064909, 'Confusion Matrix': array([[423,  70],\n",
            "       [  6,   1]])}, 'SVM': {'Accuracy': 0.544, 'Precision': 0.008888888888888889, 'Recall': 0.2857142857142857, 'F1 Score': 0.017241379310344827, 'ROC AUC': 0.3819182845552014, 'Confusion Matrix': array([[270, 223],\n",
            "       [  5,   2]])}, 'Decision Tree': {'Accuracy': 0.736, 'Precision': 0.03007518796992481, 'Recall': 0.5714285714285714, 'F1 Score': 0.05714285714285714, 'ROC AUC': 0.6548826427122573, 'Confusion Matrix': array([[364, 129],\n",
            "       [  3,   4]])}}\n",
            "_______________________________________________________________________________\n"
          ]
        }
      ]
    },
    {
      "cell_type": "markdown",
      "source": [
        "#Calling Random Pruning"
      ],
      "metadata": {
        "id": "uGrS3yXb-RYZ"
      }
    },
    {
      "cell_type": "code",
      "source": [
        "results_random_pruning = dict()\n",
        "for ratio in ratios:\n",
        "  random_pruned_X_train, random_pruned_y_train = random_prune_data(X_train.to_numpy(), y_train.to_numpy(), ratio)\n",
        "  preprocessed_random_pruned_X_train, scaler, imputer = preprocess_data_train(random_pruned_X_train)\n",
        "  preprocessed_X_test = preprocess_data_test(X_test, scaler, imputer)\n",
        "\n",
        "  random_pruned_X_train, random_pruned_y_train = preprocessed_random_pruned_X_train, random_pruned_y_train\n",
        "  random_pruned_X_test, random_pruned_y_test = preprocessed_X_test, y_test.to_numpy()\n",
        "\n",
        "  print(f\"Train data pruned randomly at {ratio * 100}% :\")\n",
        "  results = evaluate_models(random_pruned_X_train, random_pruned_X_test, random_pruned_y_train, random_pruned_y_test)\n",
        "  print(results)\n",
        "  results_random_pruning[ratio] = results\n",
        "  print(\"_______________________________________________________________________________\")"
      ],
      "metadata": {
        "id": "4od9tUcU-QI1",
        "colab": {
          "base_uri": "https://localhost:8080/"
        },
        "outputId": "3e2d0598-89c2-45e1-a146-9876ca6cc393"
      },
      "execution_count": 18,
      "outputs": [
        {
          "output_type": "stream",
          "name": "stderr",
          "text": [
            "/usr/local/lib/python3.10/dist-packages/sklearn/base.py:432: UserWarning: X has feature names, but SimpleImputer was fitted without feature names\n",
            "  warnings.warn(\n"
          ]
        },
        {
          "output_type": "stream",
          "name": "stdout",
          "text": [
            "Train data pruned randomly at 20.0% :\n"
          ]
        },
        {
          "output_type": "stream",
          "name": "stderr",
          "text": [
            "/usr/local/lib/python3.10/dist-packages/sklearn/metrics/_classification.py:1344: UndefinedMetricWarning: Precision is ill-defined and being set to 0.0 due to no predicted samples. Use `zero_division` parameter to control this behavior.\n",
            "  _warn_prf(average, modifier, msg_start, len(result))\n"
          ]
        },
        {
          "output_type": "stream",
          "name": "stdout",
          "text": [
            "{'Logistic Regression': {'Accuracy': 0.952, 'Precision': 0.05263157894736842, 'Recall': 0.14285714285714285, 'F1 Score': 0.07692307692307693, 'ROC AUC': 0.6111272095044914, 'Confusion Matrix': array([[475,  18],\n",
            "       [  6,   1]])}, 'SVM': {'Accuracy': 0.986, 'Precision': 0.0, 'Recall': 0.0, 'F1 Score': 0.0, 'ROC AUC': 0.45523036800927263, 'Confusion Matrix': array([[493,   0],\n",
            "       [  7,   0]])}, 'Decision Tree': {'Accuracy': 0.97, 'Precision': 0.1, 'Recall': 0.14285714285714285, 'F1 Score': 0.11764705882352941, 'ROC AUC': 0.5623007823819183, 'Confusion Matrix': array([[484,   9],\n",
            "       [  6,   1]])}}\n",
            "_______________________________________________________________________________\n",
            "Train data pruned randomly at 40.0% :\n"
          ]
        },
        {
          "output_type": "stream",
          "name": "stderr",
          "text": [
            "/usr/local/lib/python3.10/dist-packages/sklearn/base.py:432: UserWarning: X has feature names, but SimpleImputer was fitted without feature names\n",
            "  warnings.warn(\n",
            "/usr/local/lib/python3.10/dist-packages/sklearn/metrics/_classification.py:1344: UndefinedMetricWarning: Precision is ill-defined and being set to 0.0 due to no predicted samples. Use `zero_division` parameter to control this behavior.\n",
            "  _warn_prf(average, modifier, msg_start, len(result))\n"
          ]
        },
        {
          "output_type": "stream",
          "name": "stdout",
          "text": [
            "{'Logistic Regression': {'Accuracy': 0.912, 'Precision': 0.02564102564102564, 'Recall': 0.14285714285714285, 'F1 Score': 0.043478260869565216, 'ROC AUC': 0.6673427991886409, 'Confusion Matrix': array([[455,  38],\n",
            "       [  6,   1]])}, 'SVM': {'Accuracy': 0.986, 'Precision': 0.0, 'Recall': 0.0, 'F1 Score': 0.0, 'ROC AUC': 0.4827586206896552, 'Confusion Matrix': array([[493,   0],\n",
            "       [  7,   0]])}, 'Decision Tree': {'Accuracy': 0.958, 'Precision': 0.18181818181818182, 'Recall': 0.5714285714285714, 'F1 Score': 0.27586206896551724, 'ROC AUC': 0.7674587076209795, 'Confusion Matrix': array([[475,  18],\n",
            "       [  3,   4]])}}\n",
            "_______________________________________________________________________________\n",
            "Train data pruned randomly at 60.00000000000001% :\n"
          ]
        },
        {
          "output_type": "stream",
          "name": "stderr",
          "text": [
            "/usr/local/lib/python3.10/dist-packages/sklearn/base.py:432: UserWarning: X has feature names, but SimpleImputer was fitted without feature names\n",
            "  warnings.warn(\n",
            "/usr/local/lib/python3.10/dist-packages/sklearn/metrics/_classification.py:1344: UndefinedMetricWarning: Precision is ill-defined and being set to 0.0 due to no predicted samples. Use `zero_division` parameter to control this behavior.\n",
            "  _warn_prf(average, modifier, msg_start, len(result))\n"
          ]
        },
        {
          "output_type": "stream",
          "name": "stdout",
          "text": [
            "{'Logistic Regression': {'Accuracy': 0.904, 'Precision': 0.023255813953488372, 'Recall': 0.14285714285714285, 'F1 Score': 0.04, 'ROC AUC': 0.7174731961750217, 'Confusion Matrix': array([[451,  42],\n",
            "       [  6,   1]])}, 'SVM': {'Accuracy': 0.986, 'Precision': 0.0, 'Recall': 0.0, 'F1 Score': 0.0, 'ROC AUC': 0.508838017965807, 'Confusion Matrix': array([[493,   0],\n",
            "       [  7,   0]])}, 'Decision Tree': {'Accuracy': 0.926, 'Precision': 0.10526315789473684, 'Recall': 0.5714285714285714, 'F1 Score': 0.17777777777777778, 'ROC AUC': 0.751231527093596, 'Confusion Matrix': array([[459,  34],\n",
            "       [  3,   4]])}}\n",
            "_______________________________________________________________________________\n",
            "Train data pruned randomly at 80.0% :\n"
          ]
        },
        {
          "output_type": "stream",
          "name": "stderr",
          "text": [
            "/usr/local/lib/python3.10/dist-packages/sklearn/base.py:432: UserWarning: X has feature names, but SimpleImputer was fitted without feature names\n",
            "  warnings.warn(\n"
          ]
        },
        {
          "output_type": "stream",
          "name": "stdout",
          "text": [
            "{'Logistic Regression': {'Accuracy': 0.856, 'Precision': 0.0, 'Recall': 0.0, 'F1 Score': 0.0, 'ROC AUC': 0.65169516082295, 'Confusion Matrix': array([[428,  65],\n",
            "       [  7,   0]])}, 'SVM': {'Accuracy': 0.91, 'Precision': 0.025, 'Recall': 0.14285714285714285, 'F1 Score': 0.0425531914893617, 'ROC AUC': 0.45696899449434947, 'Confusion Matrix': array([[454,  39],\n",
            "       [  6,   1]])}, 'Decision Tree': {'Accuracy': 0.906, 'Precision': 0.08333333333333333, 'Recall': 0.5714285714285714, 'F1 Score': 0.14545454545454545, 'ROC AUC': 0.7410895392639816, 'Confusion Matrix': array([[449,  44],\n",
            "       [  3,   4]])}}\n",
            "_______________________________________________________________________________\n",
            "Train data pruned randomly at 100.0% :\n"
          ]
        },
        {
          "output_type": "stream",
          "name": "stderr",
          "text": [
            "/usr/local/lib/python3.10/dist-packages/sklearn/base.py:432: UserWarning: X has feature names, but SimpleImputer was fitted without feature names\n",
            "  warnings.warn(\n"
          ]
        },
        {
          "output_type": "stream",
          "name": "stdout",
          "text": [
            "{'Logistic Regression': {'Accuracy': 0.538, 'Precision': 0.013043478260869565, 'Recall': 0.42857142857142855, 'F1 Score': 0.02531645569620253, 'ROC AUC': 0.5491161982034193, 'Confusion Matrix': array([[266, 227],\n",
            "       [  4,   3]])}, 'SVM': {'Accuracy': 0.606, 'Precision': 0.010309278350515464, 'Recall': 0.2857142857142857, 'F1 Score': 0.01990049751243781, 'ROC AUC': 0.44537815126050423, 'Confusion Matrix': array([[301, 192],\n",
            "       [  5,   2]])}, 'Decision Tree': {'Accuracy': 0.854, 'Precision': 0.05405405405405406, 'Recall': 0.5714285714285714, 'F1 Score': 0.09876543209876544, 'ROC AUC': 0.7147203709069836, 'Confusion Matrix': array([[423,  70],\n",
            "       [  3,   4]])}}\n",
            "_______________________________________________________________________________\n"
          ]
        }
      ]
    },
    {
      "cell_type": "markdown",
      "source": [
        "# Calling SDV-Oversampling"
      ],
      "metadata": {
        "id": "f_VUTRHBBVDY"
      }
    },
    {
      "cell_type": "code",
      "source": [
        "sd1, train_df = do_sdv(X_train.drop(columns=['state']), y_train)\n",
        "results_syn_sdv = dict()\n",
        "\n",
        "# Add synthetic data at different percentages to the main DataFrame\n",
        "for ratio in ratios:\n",
        "    combined_df = add_synthetic_data(train_df, sd1, ratio)\n",
        "    y_train_sdv = combined_df.iloc[:, -1]\n",
        "    X_train_sdv = combined_df.iloc[:, :-1]\n",
        "\n",
        "    preprocessed_X_train_sdv, scaler, imputer = preprocess_data_train(X_train_sdv)\n",
        "    preprocessed_X_test_sdv = preprocess_data_test(X_test.drop(columns=['state']), scaler, imputer)\n",
        "\n",
        "    X_train_sdv, y_train_sdv = preprocessed_X_train_sdv, y_train_sdv.to_numpy()\n",
        "    X_test_sdv, y_test_sdv = preprocessed_X_test_sdv, y_test.to_numpy()\n",
        "\n",
        "    print(f\"Train data combined with {ratio * 100}% synthetic data of minority class:\")\n",
        "    results = evaluate_models(X_train_sdv, X_test_sdv, y_train_sdv, y_test_sdv)\n",
        "    results_syn_sdv[ratio] = results\n",
        "    print(results)\n",
        "    print(\"_______________________________________________________________________________\")"
      ],
      "metadata": {
        "id": "g4V6WxpY9kbd",
        "outputId": "32c1215e-8f6f-40ed-a4d5-ba97d6278be6",
        "colab": {
          "base_uri": "https://localhost:8080/"
        }
      },
      "execution_count": 23,
      "outputs": [
        {
          "output_type": "stream",
          "name": "stdout",
          "text": [
            "{\n",
            "    \"METADATA_SPEC_VERSION\": \"SINGLE_TABLE_V1\",\n",
            "    \"columns\": {\n",
            "        \"id\": {\n",
            "            \"sdtype\": \"id\"\n",
            "        },\n",
            "        \"security\": {\n",
            "            \"sdtype\": \"numerical\"\n",
            "        },\n",
            "        \"wizard\": {\n",
            "            \"sdtype\": \"categorical\"\n",
            "        },\n",
            "        \"service\": {\n",
            "            \"sdtype\": \"categorical\"\n",
            "        },\n",
            "        \"secure\": {\n",
            "            \"sdtype\": \"categorical\"\n",
            "        },\n",
            "        \"fails\": {\n",
            "            \"sdtype\": \"numerical\"\n",
            "        },\n",
            "        \"permissions\": {\n",
            "            \"sdtype\": \"numerical\"\n",
            "        },\n",
            "        \"allow\": {\n",
            "            \"sdtype\": \"numerical\"\n",
            "        },\n",
            "        \"start\": {\n",
            "            \"sdtype\": \"numerical\"\n",
            "        },\n",
            "        \"validation\": {\n",
            "            \"sdtype\": \"numerical\"\n",
            "        },\n",
            "        \"user\": {\n",
            "            \"sdtype\": \"numerical\"\n",
            "        },\n",
            "        \"cluster\": {\n",
            "            \"sdtype\": \"numerical\"\n",
            "        },\n",
            "        \"cannot\": {\n",
            "            \"sdtype\": \"categorical\"\n",
            "        },\n",
            "        \"set\": {\n",
            "            \"sdtype\": \"categorical\"\n",
            "        },\n",
            "        \"make\": {\n",
            "            \"sdtype\": \"categorical\"\n",
            "        },\n",
            "        \"page\": {\n",
            "            \"sdtype\": \"numerical\"\n",
            "        },\n",
            "        \"configs\": {\n",
            "            \"sdtype\": \"categorical\"\n",
            "        },\n",
            "        \"datanode\": {\n",
            "            \"sdtype\": \"numerical\"\n",
            "        },\n",
            "        \"add\": {\n",
            "            \"sdtype\": \"categorical\"\n",
            "        },\n",
            "        \"use\": {\n",
            "            \"sdtype\": \"numerical\"\n",
            "        },\n",
            "        \"default\": {\n",
            "            \"sdtype\": \"categorical\"\n",
            "        },\n",
            "        \"property\": {\n",
            "            \"sdtype\": \"categorical\"\n",
            "        },\n",
            "        \"name\": {\n",
            "            \"sdtype\": \"categorical\"\n",
            "        },\n",
            "        \"request\": {\n",
            "            \"sdtype\": \"numerical\"\n",
            "        },\n",
            "        \"instead\": {\n",
            "            \"sdtype\": \"categorical\"\n",
            "        },\n",
            "        \"enable\": {\n",
            "            \"sdtype\": \"categorical\"\n",
            "        },\n",
            "        \"web\": {\n",
            "            \"sdtype\": \"numerical\"\n",
            "        },\n",
            "        \"ssl\": {\n",
            "            \"sdtype\": \"numerical\"\n",
            "        },\n",
            "        \"password\": {\n",
            "            \"sdtype\": \"categorical\"\n",
            "        },\n",
            "        \"used\": {\n",
            "            \"sdtype\": \"categorical\"\n",
            "        },\n",
            "        \"services\": {\n",
            "            \"sdtype\": \"categorical\"\n",
            "        },\n",
            "        \"error\": {\n",
            "            \"sdtype\": \"numerical\"\n",
            "        },\n",
            "        \"disable\": {\n",
            "            \"sdtype\": \"categorical\"\n",
            "        },\n",
            "        \"fix\": {\n",
            "            \"sdtype\": \"categorical\"\n",
            "        },\n",
            "        \"permission\": {\n",
            "            \"sdtype\": \"numerical\"\n",
            "        },\n",
            "        \"options\": {\n",
            "            \"sdtype\": \"numerical\"\n",
            "        },\n",
            "        \"executed\": {\n",
            "            \"sdtype\": \"categorical\"\n",
            "        },\n",
            "        \"setup\": {\n",
            "            \"sdtype\": \"numerical\"\n",
            "        },\n",
            "        \"http\": {\n",
            "            \"sdtype\": \"numerical\"\n",
            "        },\n",
            "        \"nagios\": {\n",
            "            \"sdtype\": \"numerical\"\n",
            "        },\n",
            "        \"registration\": {\n",
            "            \"sdtype\": \"numerical\"\n",
            "        },\n",
            "        \"hosts\": {\n",
            "            \"sdtype\": \"numerical\"\n",
            "        },\n",
            "        \"also\": {\n",
            "            \"sdtype\": \"numerical\"\n",
            "        },\n",
            "        \"change\": {\n",
            "            \"sdtype\": \"numerical\"\n",
            "        },\n",
            "        \"url\": {\n",
            "            \"sdtype\": \"categorical\"\n",
            "        },\n",
            "        \"configuration\": {\n",
            "            \"sdtype\": \"categorical\"\n",
            "        },\n",
            "        \"try\": {\n",
            "            \"sdtype\": \"categorical\"\n",
            "        },\n",
            "        \"enabling\": {\n",
            "            \"sdtype\": \"categorical\"\n",
            "        },\n",
            "        \"check\": {\n",
            "            \"sdtype\": \"numerical\"\n",
            "        },\n",
            "        \"disabled\": {\n",
            "            \"sdtype\": \"categorical\"\n",
            "        },\n",
            "        \"host\": {\n",
            "            \"sdtype\": \"categorical\"\n",
            "        },\n",
            "        \"install\": {\n",
            "            \"sdtype\": \"categorical\"\n",
            "        },\n",
            "        \"time\": {\n",
            "            \"sdtype\": \"categorical\"\n",
            "        },\n",
            "        \"return\": {\n",
            "            \"sdtype\": \"categorical\"\n",
            "        },\n",
            "        \"provide\": {\n",
            "            \"sdtype\": \"numerical\"\n",
            "        },\n",
            "        \"call\": {\n",
            "            \"sdtype\": \"categorical\"\n",
            "        },\n",
            "        \"script\": {\n",
            "            \"sdtype\": \"categorical\"\n",
            "        },\n",
            "        \"issue\": {\n",
            "            \"sdtype\": \"numerical\"\n",
            "        },\n",
            "        \"file\": {\n",
            "            \"sdtype\": \"numerical\"\n",
            "        },\n",
            "        \"failures\": {\n",
            "            \"sdtype\": \"categorical\"\n",
            "        },\n",
            "        \"principal\": {\n",
            "            \"sdtype\": \"categorical\"\n",
            "        },\n",
            "        \"touched\": {\n",
            "            \"sdtype\": \"categorical\"\n",
            "        },\n",
            "        \"incorrect\": {\n",
            "            \"sdtype\": \"categorical\"\n",
            "        },\n",
            "        \"artifacts\": {\n",
            "            \"sdtype\": \"categorical\"\n",
            "        },\n",
            "        \"assignments\": {\n",
            "            \"sdtype\": \"categorical\"\n",
            "        },\n",
            "        \"slaves\": {\n",
            "            \"sdtype\": \"categorical\"\n",
            "        },\n",
            "        \"side\": {\n",
            "            \"sdtype\": \"categorical\"\n",
            "        },\n",
            "        \"username\": {\n",
            "            \"sdtype\": \"categorical\"\n",
            "        },\n",
            "        \"directory\": {\n",
            "            \"sdtype\": \"categorical\"\n",
            "        },\n",
            "        \"path\": {\n",
            "            \"sdtype\": \"categorical\"\n",
            "        },\n",
            "        \"customized\": {\n",
            "            \"sdtype\": \"categorical\"\n",
            "        },\n",
            "        \"effects\": {\n",
            "            \"sdtype\": \"categorical\"\n",
            "        },\n",
            "        \"mode\": {\n",
            "            \"sdtype\": \"categorical\"\n",
            "        },\n",
            "        \"unwanted\": {\n",
            "            \"sdtype\": \"categorical\"\n",
            "        },\n",
            "        \"false\": {\n",
            "            \"sdtype\": \"categorical\"\n",
            "        },\n",
            "        \"causes\": {\n",
            "            \"sdtype\": \"categorical\"\n",
            "        },\n",
            "        \"broken\": {\n",
            "            \"sdtype\": \"categorical\"\n",
            "        },\n",
            "        \"primary\": {\n",
            "            \"sdtype\": \"categorical\"\n",
            "        },\n",
            "        \"testmode\": {\n",
            "            \"sdtype\": \"categorical\"\n",
            "        },\n",
            "        \"mapred\": {\n",
            "            \"sdtype\": \"categorical\"\n",
            "        },\n",
            "        \"names\": {\n",
            "            \"sdtype\": \"categorical\"\n",
            "        },\n",
            "        \"working\": {\n",
            "            \"sdtype\": \"categorical\"\n",
            "        },\n",
            "        \"httpd\": {\n",
            "            \"sdtype\": \"categorical\"\n",
            "        },\n",
            "        \"missing\": {\n",
            "            \"sdtype\": \"categorical\"\n",
            "        },\n",
            "        \"navigation\": {\n",
            "            \"sdtype\": \"categorical\"\n",
            "        },\n",
            "        \"ganglia\": {\n",
            "            \"sdtype\": \"categorical\"\n",
            "        },\n",
            "        \"prepare\": {\n",
            "            \"sdtype\": \"categorical\"\n",
            "        },\n",
            "        \"locked\": {\n",
            "            \"sdtype\": \"categorical\"\n",
            "        },\n",
            "        \"master\": {\n",
            "            \"sdtype\": \"categorical\"\n",
            "        },\n",
            "        \"ambari\": {\n",
            "            \"sdtype\": \"categorical\"\n",
            "        },\n",
            "        \"smoke\": {\n",
            "            \"sdtype\": \"categorical\"\n",
            "        },\n",
            "        \"wrong\": {\n",
            "            \"sdtype\": \"categorical\"\n",
            "        },\n",
            "        \"hbase\": {\n",
            "            \"sdtype\": \"categorical\"\n",
            "        },\n",
            "        \"node\": {\n",
            "            \"sdtype\": \"categorical\"\n",
            "        },\n",
            "        \"test\": {\n",
            "            \"sdtype\": \"categorical\"\n",
            "        },\n",
            "        \"zookeeper\": {\n",
            "            \"sdtype\": \"categorical\"\n",
            "        },\n",
            "        \"back\": {\n",
            "            \"sdtype\": \"categorical\"\n",
            "        },\n",
            "        \"need\": {\n",
            "            \"sdtype\": \"categorical\"\n",
            "        },\n",
            "        \"either\": {\n",
            "            \"sdtype\": \"categorical\"\n",
            "        },\n",
            "        \"true\": {\n",
            "            \"sdtype\": \"categorical\"\n",
            "        },\n",
            "        \"label\": {\n",
            "            \"sdtype\": \"categorical\"\n",
            "        }\n",
            "    },\n",
            "    \"primary_key\": \"id\"\n",
            "}\n"
          ]
        },
        {
          "output_type": "stream",
          "name": "stderr",
          "text": [
            "/usr/local/lib/python3.10/dist-packages/sdv/single_table/base.py:80: UserWarning: We strongly recommend saving the metadata using 'save_to_json' for replicability in future SDV versions.\n",
            "  warnings.warn(\n"
          ]
        },
        {
          "output_type": "stream",
          "name": "stdout",
          "text": [
            "Train data combined with 20.0% synthetic data of minority class:\n"
          ]
        },
        {
          "output_type": "stream",
          "name": "stderr",
          "text": [
            "/usr/local/lib/python3.10/dist-packages/sklearn/metrics/_classification.py:1344: UndefinedMetricWarning: Precision is ill-defined and being set to 0.0 due to no predicted samples. Use `zero_division` parameter to control this behavior.\n",
            "  _warn_prf(average, modifier, msg_start, len(result))\n"
          ]
        },
        {
          "output_type": "stream",
          "name": "stdout",
          "text": [
            "{'Logistic Regression': {'Accuracy': 0.944, 'Precision': 0.0, 'Recall': 0.0, 'F1 Score': 0.0, 'ROC AUC': 0.5160822949869602, 'Confusion Matrix': array([[472,  21],\n",
            "       [  7,   0]])}, 'SVM': {'Accuracy': 0.986, 'Precision': 0.0, 'Recall': 0.0, 'F1 Score': 0.0, 'ROC AUC': 0.42683280208635177, 'Confusion Matrix': array([[493,   0],\n",
            "       [  7,   0]])}, 'Decision Tree': {'Accuracy': 0.968, 'Precision': 0.09090909090909091, 'Recall': 0.14285714285714285, 'F1 Score': 0.1111111111111111, 'ROC AUC': 0.5612865835989568, 'Confusion Matrix': array([[483,  10],\n",
            "       [  6,   1]])}}\n",
            "_______________________________________________________________________________\n",
            "Train data combined with 40.0% synthetic data of minority class:\n"
          ]
        },
        {
          "output_type": "stream",
          "name": "stderr",
          "text": [
            "/usr/local/lib/python3.10/dist-packages/sklearn/metrics/_classification.py:1344: UndefinedMetricWarning: Precision is ill-defined and being set to 0.0 due to no predicted samples. Use `zero_division` parameter to control this behavior.\n",
            "  _warn_prf(average, modifier, msg_start, len(result))\n"
          ]
        },
        {
          "output_type": "stream",
          "name": "stdout",
          "text": [
            "{'Logistic Regression': {'Accuracy': 0.948, 'Precision': 0.0, 'Recall': 0.0, 'F1 Score': 0.0, 'ROC AUC': 0.5076789336424224, 'Confusion Matrix': array([[474,  19],\n",
            "       [  7,   0]])}, 'SVM': {'Accuracy': 0.986, 'Precision': 0.0, 'Recall': 0.0, 'F1 Score': 0.0, 'ROC AUC': 0.4546508258475804, 'Confusion Matrix': array([[493,   0],\n",
            "       [  7,   0]])}, 'Decision Tree': {'Accuracy': 0.972, 'Precision': 0.1111111111111111, 'Recall': 0.14285714285714285, 'F1 Score': 0.125, 'ROC AUC': 0.5633149811648797, 'Confusion Matrix': array([[485,   8],\n",
            "       [  6,   1]])}}\n",
            "_______________________________________________________________________________\n",
            "Train data combined with 60.00000000000001% synthetic data of minority class:\n"
          ]
        },
        {
          "output_type": "stream",
          "name": "stderr",
          "text": [
            "/usr/local/lib/python3.10/dist-packages/sklearn/metrics/_classification.py:1344: UndefinedMetricWarning: Precision is ill-defined and being set to 0.0 due to no predicted samples. Use `zero_division` parameter to control this behavior.\n",
            "  _warn_prf(average, modifier, msg_start, len(result))\n"
          ]
        },
        {
          "output_type": "stream",
          "name": "stdout",
          "text": [
            "{'Logistic Regression': {'Accuracy': 0.948, 'Precision': 0.0, 'Recall': 0.0, 'F1 Score': 0.0, 'ROC AUC': 0.5024630541871922, 'Confusion Matrix': array([[474,  19],\n",
            "       [  7,   0]])}, 'SVM': {'Accuracy': 0.986, 'Precision': 0.0, 'Recall': 0.0, 'F1 Score': 0.0, 'ROC AUC': 0.4697189220515793, 'Confusion Matrix': array([[493,   0],\n",
            "       [  7,   0]])}, 'Decision Tree': {'Accuracy': 0.972, 'Precision': 0.1111111111111111, 'Recall': 0.14285714285714285, 'F1 Score': 0.125, 'ROC AUC': 0.5633149811648797, 'Confusion Matrix': array([[485,   8],\n",
            "       [  6,   1]])}}\n",
            "_______________________________________________________________________________\n",
            "Train data combined with 80.0% synthetic data of minority class:\n"
          ]
        },
        {
          "output_type": "stream",
          "name": "stderr",
          "text": [
            "/usr/local/lib/python3.10/dist-packages/sklearn/metrics/_classification.py:1344: UndefinedMetricWarning: Precision is ill-defined and being set to 0.0 due to no predicted samples. Use `zero_division` parameter to control this behavior.\n",
            "  _warn_prf(average, modifier, msg_start, len(result))\n"
          ]
        },
        {
          "output_type": "stream",
          "name": "stdout",
          "text": [
            "{'Logistic Regression': {'Accuracy': 0.948, 'Precision': 0.0, 'Recall': 0.0, 'F1 Score': 0.0, 'ROC AUC': 0.49492900608519264, 'Confusion Matrix': array([[474,  19],\n",
            "       [  7,   0]])}, 'SVM': {'Accuracy': 0.986, 'Precision': 0.0, 'Recall': 0.0, 'F1 Score': 0.0, 'ROC AUC': 0.482468849608809, 'Confusion Matrix': array([[493,   0],\n",
            "       [  7,   0]])}, 'Decision Tree': {'Accuracy': 0.972, 'Precision': 0.1111111111111111, 'Recall': 0.14285714285714285, 'F1 Score': 0.125, 'ROC AUC': 0.5633149811648797, 'Confusion Matrix': array([[485,   8],\n",
            "       [  6,   1]])}}\n",
            "_______________________________________________________________________________\n",
            "Train data combined with 100.0% synthetic data of minority class:\n"
          ]
        },
        {
          "output_type": "stream",
          "name": "stderr",
          "text": [
            "/usr/local/lib/python3.10/dist-packages/sklearn/metrics/_classification.py:1344: UndefinedMetricWarning: Precision is ill-defined and being set to 0.0 due to no predicted samples. Use `zero_division` parameter to control this behavior.\n",
            "  _warn_prf(average, modifier, msg_start, len(result))\n"
          ]
        },
        {
          "output_type": "stream",
          "name": "stdout",
          "text": [
            "{'Logistic Regression': {'Accuracy': 0.948, 'Precision': 0.0, 'Recall': 0.0, 'F1 Score': 0.0, 'ROC AUC': 0.5004346566212692, 'Confusion Matrix': array([[474,  19],\n",
            "       [  7,   0]])}, 'SVM': {'Accuracy': 0.986, 'Precision': 0.0, 'Recall': 0.0, 'F1 Score': 0.0, 'ROC AUC': 0.4914517531150391, 'Confusion Matrix': array([[493,   0],\n",
            "       [  7,   0]])}, 'Decision Tree': {'Accuracy': 0.972, 'Precision': 0.1111111111111111, 'Recall': 0.14285714285714285, 'F1 Score': 0.125, 'ROC AUC': 0.5633149811648797, 'Confusion Matrix': array([[485,   8],\n",
            "       [  6,   1]])}}\n",
            "_______________________________________________________________________________\n"
          ]
        }
      ]
    },
    {
      "cell_type": "markdown",
      "source": [
        "# Calling SMOTE-Oversampling"
      ],
      "metadata": {
        "id": "l78jR_BuCw1o"
      }
    },
    {
      "cell_type": "code",
      "source": [
        "results_smote = dict()\n",
        "\n",
        "for ratio in ratios:\n",
        "\n",
        "    X_train_smote, y_train_smote = smote_oversampling(X_train.to_numpy(), y_train.to_numpy(), [ratio])\n",
        "    preprocessed_X_train_smote, scaler, imputer = preprocess_data_train((np.array(X_train_smote))[0])\n",
        "    preprocessed_X_test_smote = preprocess_data_test(X_test, scaler, imputer)\n",
        "\n",
        "    X_train_smote, y_train_smote = preprocessed_X_train_smote, (np.array(y_train_smote))[0]\n",
        "    X_test_smote, y_test_smote = preprocessed_X_test_smote, y_test.to_numpy()\n",
        "\n",
        "    print(f\"Train data combined with {ratio * 100}% synthetic data of minority class:\")\n",
        "    print(len(X_train_smote), len(y_train_smote))\n",
        "    results = evaluate_models(X_train_smote, X_test_smote, y_train_smote, y_test_smote)\n",
        "    results_smote[ratio] = results\n",
        "    print(results)\n",
        "    print(\"_______________________________________________________________________________\")"
      ],
      "metadata": {
        "id": "X7S78dnHC0bw",
        "colab": {
          "base_uri": "https://localhost:8080/"
        },
        "outputId": "8b48125f-9691-4775-d904-95cb80112719"
      },
      "execution_count": 24,
      "outputs": [
        {
          "output_type": "stream",
          "name": "stderr",
          "text": [
            "/usr/local/lib/python3.10/dist-packages/sklearn/base.py:432: UserWarning: X has feature names, but SimpleImputer was fitted without feature names\n",
            "  warnings.warn(\n"
          ]
        },
        {
          "output_type": "stream",
          "name": "stdout",
          "text": [
            "Train data combined with 20.0% synthetic data of minority class:\n",
            "591 591\n",
            "{'Logistic Regression': {'Accuracy': 0.714, 'Precision': 0.014285714285714285, 'Recall': 0.2857142857142857, 'F1 Score': 0.027210884353741496, 'ROC AUC': 0.6374963778614893, 'Confusion Matrix': array([[355, 138],\n",
            "       [  5,   2]])}, 'SVM': {'Accuracy': 0.978, 'Precision': 0.0, 'Recall': 0.0, 'F1 Score': 0.0, 'ROC AUC': 0.6308316430020284, 'Confusion Matrix': array([[489,   4],\n",
            "       [  7,   0]])}, 'Decision Tree': {'Accuracy': 0.956, 'Precision': 0.17391304347826086, 'Recall': 0.5714285714285714, 'F1 Score': 0.26666666666666666, 'ROC AUC': 0.766444508838018, 'Confusion Matrix': array([[474,  19],\n",
            "       [  3,   4]])}}\n",
            "_______________________________________________________________________________\n",
            "Train data combined with 40.0% synthetic data of minority class:\n",
            "682 682\n"
          ]
        },
        {
          "output_type": "stream",
          "name": "stderr",
          "text": [
            "/usr/local/lib/python3.10/dist-packages/sklearn/base.py:432: UserWarning: X has feature names, but SimpleImputer was fitted without feature names\n",
            "  warnings.warn(\n"
          ]
        },
        {
          "output_type": "stream",
          "name": "stdout",
          "text": [
            "{'Logistic Regression': {'Accuracy': 0.672, 'Precision': 0.024242424242424242, 'Recall': 0.5714285714285714, 'F1 Score': 0.046511627906976744, 'ROC AUC': 0.651984931903796, 'Confusion Matrix': array([[332, 161],\n",
            "       [  3,   4]])}, 'SVM': {'Accuracy': 0.816, 'Precision': 0.03296703296703297, 'Recall': 0.42857142857142855, 'F1 Score': 0.061224489795918366, 'ROC AUC': 0.6528542451463344, 'Confusion Matrix': array([[405,  88],\n",
            "       [  4,   3]])}, 'Decision Tree': {'Accuracy': 0.964, 'Precision': 0.21052631578947367, 'Recall': 0.5714285714285714, 'F1 Score': 0.3076923076923077, 'ROC AUC': 0.7705013039698637, 'Confusion Matrix': array([[478,  15],\n",
            "       [  3,   4]])}}\n",
            "_______________________________________________________________________________\n",
            "Train data combined with 60.00000000000001% synthetic data of minority class:\n",
            "773 773\n"
          ]
        },
        {
          "output_type": "stream",
          "name": "stderr",
          "text": [
            "/usr/local/lib/python3.10/dist-packages/sklearn/base.py:432: UserWarning: X has feature names, but SimpleImputer was fitted without feature names\n",
            "  warnings.warn(\n"
          ]
        },
        {
          "output_type": "stream",
          "name": "stdout",
          "text": [
            "{'Logistic Regression': {'Accuracy': 0.668, 'Precision': 0.01818181818181818, 'Recall': 0.42857142857142855, 'F1 Score': 0.03488372093023256, 'ROC AUC': 0.6528542451463344, 'Confusion Matrix': array([[331, 162],\n",
            "       [  4,   3]])}, 'SVM': {'Accuracy': 0.628, 'Precision': 0.016216216216216217, 'Recall': 0.42857142857142855, 'F1 Score': 0.03125, 'ROC AUC': 0.6035931614024921, 'Confusion Matrix': array([[311, 182],\n",
            "       [  4,   3]])}, 'Decision Tree': {'Accuracy': 0.932, 'Precision': 0.11428571428571428, 'Recall': 0.5714285714285714, 'F1 Score': 0.19047619047619044, 'ROC AUC': 0.7542741234424805, 'Confusion Matrix': array([[462,  31],\n",
            "       [  3,   4]])}}\n",
            "_______________________________________________________________________________\n",
            "Train data combined with 80.0% synthetic data of minority class:\n",
            "864 864\n"
          ]
        },
        {
          "output_type": "stream",
          "name": "stderr",
          "text": [
            "/usr/local/lib/python3.10/dist-packages/sklearn/base.py:432: UserWarning: X has feature names, but SimpleImputer was fitted without feature names\n",
            "  warnings.warn(\n"
          ]
        },
        {
          "output_type": "stream",
          "name": "stdout",
          "text": [
            "{'Logistic Regression': {'Accuracy': 0.668, 'Precision': 0.023952095808383235, 'Recall': 0.5714285714285714, 'F1 Score': 0.04597701149425287, 'ROC AUC': 0.6792234135033324, 'Confusion Matrix': array([[330, 163],\n",
            "       [  3,   4]])}, 'SVM': {'Accuracy': 0.604, 'Precision': 0.015228426395939087, 'Recall': 0.42857142857142855, 'F1 Score': 0.029411764705882356, 'ROC AUC': 0.596638655462185, 'Confusion Matrix': array([[299, 194],\n",
            "       [  4,   3]])}, 'Decision Tree': {'Accuracy': 0.966, 'Precision': 0.2222222222222222, 'Recall': 0.5714285714285714, 'F1 Score': 0.32, 'ROC AUC': 0.7715155027528253, 'Confusion Matrix': array([[479,  14],\n",
            "       [  3,   4]])}}\n",
            "_______________________________________________________________________________\n",
            "Train data combined with 100.0% synthetic data of minority class:\n",
            "956 956\n"
          ]
        },
        {
          "output_type": "stream",
          "name": "stderr",
          "text": [
            "/usr/local/lib/python3.10/dist-packages/sklearn/base.py:432: UserWarning: X has feature names, but SimpleImputer was fitted without feature names\n",
            "  warnings.warn(\n"
          ]
        },
        {
          "output_type": "stream",
          "name": "stdout",
          "text": [
            "{'Logistic Regression': {'Accuracy': 0.648, 'Precision': 0.022598870056497175, 'Recall': 0.5714285714285714, 'F1 Score': 0.043478260869565216, 'ROC AUC': 0.6337293538104898, 'Confusion Matrix': array([[320, 173],\n",
            "       [  3,   4]])}, 'SVM': {'Accuracy': 0.616, 'Precision': 0.015706806282722512, 'Recall': 0.42857142857142855, 'F1 Score': 0.0303030303030303, 'ROC AUC': 0.5804114749348015, 'Confusion Matrix': array([[305, 188],\n",
            "       [  4,   3]])}, 'Decision Tree': {'Accuracy': 0.974, 'Precision': 0.2857142857142857, 'Recall': 0.5714285714285714, 'F1 Score': 0.38095238095238093, 'ROC AUC': 0.7755722978846711, 'Confusion Matrix': array([[483,  10],\n",
            "       [  3,   4]])}}\n",
            "_______________________________________________________________________________\n"
          ]
        }
      ]
    },
    {
      "cell_type": "markdown",
      "source": [
        "# Calling Random-Oversampling"
      ],
      "metadata": {
        "id": "KKwGBPjpKrJt"
      }
    },
    {
      "cell_type": "code",
      "source": [
        "results_random = dict()\n",
        "\n",
        "for ratio in ratios:\n",
        "\n",
        "    X_train_random, y_train_random = random_oversampling(X_train.to_numpy(), y_train.to_numpy(), [ratio])\n",
        "\n",
        "    preprocessed_X_train_random, scaler, imputer = preprocess_data_train((np.array(X_train_random)[0]))\n",
        "    preprocessed_X_test_random = preprocess_data_test(X_test, scaler, imputer)\n",
        "\n",
        "    X_train_random, y_train_random = preprocessed_X_train_random, (np.array(y_train_random))[0]\n",
        "    X_test_random, y_test_random = preprocessed_X_test_random, y_test.to_numpy()\n",
        "\n",
        "    print(f\"Train data combined with {ratio * 100}% synthetic data of minority class:\")\n",
        "    print(len(X_train_random), len(y_train_random))\n",
        "    results = evaluate_models(X_train_random, X_test_random, y_train_random, y_test_random)\n",
        "    results_random[ratio] = results\n",
        "    print(results)\n",
        "    print(\"_______________________________________________________________________________\")"
      ],
      "metadata": {
        "id": "LC2kVR1tKtFn",
        "colab": {
          "base_uri": "https://localhost:8080/"
        },
        "outputId": "fa8ae3a3-ea6e-44a2-a66a-b758fb22aeac"
      },
      "execution_count": 25,
      "outputs": [
        {
          "output_type": "stream",
          "name": "stderr",
          "text": [
            "/usr/local/lib/python3.10/dist-packages/sklearn/base.py:432: UserWarning: X has feature names, but SimpleImputer was fitted without feature names\n",
            "  warnings.warn(\n"
          ]
        },
        {
          "output_type": "stream",
          "name": "stdout",
          "text": [
            "Train data combined with 20.0% synthetic data of minority class:\n",
            "591 591\n",
            "{'Logistic Regression': {'Accuracy': 0.936, 'Precision': 0.037037037037037035, 'Recall': 0.14285714285714285, 'F1 Score': 0.058823529411764705, 'ROC AUC': 0.6006954505940307, 'Confusion Matrix': array([[467,  26],\n",
            "       [  6,   1]])}, 'SVM': {'Accuracy': 0.984, 'Precision': 0.0, 'Recall': 0.0, 'F1 Score': 0.0, 'ROC AUC': 0.47551434366850187, 'Confusion Matrix': array([[492,   1],\n",
            "       [  7,   0]])}, 'Decision Tree': {'Accuracy': 0.946, 'Precision': 0.14285714285714285, 'Recall': 0.5714285714285714, 'F1 Score': 0.2285714285714286, 'ROC AUC': 0.7613735149232107, 'Confusion Matrix': array([[469,  24],\n",
            "       [  3,   4]])}}\n",
            "_______________________________________________________________________________\n",
            "Train data combined with 40.0% synthetic data of minority class:\n",
            "682 682\n"
          ]
        },
        {
          "output_type": "stream",
          "name": "stderr",
          "text": [
            "/usr/local/lib/python3.10/dist-packages/sklearn/base.py:432: UserWarning: X has feature names, but SimpleImputer was fitted without feature names\n",
            "  warnings.warn(\n"
          ]
        },
        {
          "output_type": "stream",
          "name": "stdout",
          "text": [
            "{'Logistic Regression': {'Accuracy': 0.932, 'Precision': 0.034482758620689655, 'Recall': 0.14285714285714285, 'F1 Score': 0.05555555555555555, 'ROC AUC': 0.6024340770791075, 'Confusion Matrix': array([[465,  28],\n",
            "       [  6,   1]])}, 'SVM': {'Accuracy': 0.982, 'Precision': 0.0, 'Recall': 0.0, 'F1 Score': 0.0, 'ROC AUC': 0.4746450304259635, 'Confusion Matrix': array([[491,   2],\n",
            "       [  7,   0]])}, 'Decision Tree': {'Accuracy': 0.954, 'Precision': 0.16666666666666666, 'Recall': 0.5714285714285714, 'F1 Score': 0.25806451612903225, 'ROC AUC': 0.7654303100550565, 'Confusion Matrix': array([[473,  20],\n",
            "       [  3,   4]])}}\n",
            "_______________________________________________________________________________\n",
            "Train data combined with 60.00000000000001% synthetic data of minority class:\n",
            "773 773\n"
          ]
        },
        {
          "output_type": "stream",
          "name": "stderr",
          "text": [
            "/usr/local/lib/python3.10/dist-packages/sklearn/base.py:432: UserWarning: X has feature names, but SimpleImputer was fitted without feature names\n",
            "  warnings.warn(\n"
          ]
        },
        {
          "output_type": "stream",
          "name": "stdout",
          "text": [
            "{'Logistic Regression': {'Accuracy': 0.93, 'Precision': 0.03333333333333333, 'Recall': 0.14285714285714285, 'F1 Score': 0.05405405405405406, 'ROC AUC': 0.6073601854534917, 'Confusion Matrix': array([[464,  29],\n",
            "       [  6,   1]])}, 'SVM': {'Accuracy': 0.982, 'Precision': 0.0, 'Recall': 0.0, 'F1 Score': 0.0, 'ROC AUC': 0.4804404520428861, 'Confusion Matrix': array([[491,   2],\n",
            "       [  7,   0]])}, 'Decision Tree': {'Accuracy': 0.956, 'Precision': 0.17391304347826086, 'Recall': 0.5714285714285714, 'F1 Score': 0.26666666666666666, 'ROC AUC': 0.766444508838018, 'Confusion Matrix': array([[474,  19],\n",
            "       [  3,   4]])}}\n",
            "_______________________________________________________________________________\n",
            "Train data combined with 80.0% synthetic data of minority class:\n",
            "864 864\n"
          ]
        },
        {
          "output_type": "stream",
          "name": "stderr",
          "text": [
            "/usr/local/lib/python3.10/dist-packages/sklearn/base.py:432: UserWarning: X has feature names, but SimpleImputer was fitted without feature names\n",
            "  warnings.warn(\n"
          ]
        },
        {
          "output_type": "stream",
          "name": "stdout",
          "text": [
            "{'Logistic Regression': {'Accuracy': 0.926, 'Precision': 0.03125, 'Recall': 0.14285714285714285, 'F1 Score': 0.05128205128205128, 'ROC AUC': 0.598956824108954, 'Confusion Matrix': array([[462,  31],\n",
            "       [  6,   1]])}, 'SVM': {'Accuracy': 0.982, 'Precision': 0.0, 'Recall': 0.0, 'F1 Score': 0.0, 'ROC AUC': 0.4986960301361924, 'Confusion Matrix': array([[491,   2],\n",
            "       [  7,   0]])}, 'Decision Tree': {'Accuracy': 0.956, 'Precision': 0.17391304347826086, 'Recall': 0.5714285714285714, 'F1 Score': 0.26666666666666666, 'ROC AUC': 0.766444508838018, 'Confusion Matrix': array([[474,  19],\n",
            "       [  3,   4]])}}\n",
            "_______________________________________________________________________________\n",
            "Train data combined with 100.0% synthetic data of minority class:\n",
            "956 956\n"
          ]
        },
        {
          "output_type": "stream",
          "name": "stderr",
          "text": [
            "/usr/local/lib/python3.10/dist-packages/sklearn/base.py:432: UserWarning: X has feature names, but SimpleImputer was fitted without feature names\n",
            "  warnings.warn(\n"
          ]
        },
        {
          "output_type": "stream",
          "name": "stdout",
          "text": [
            "{'Logistic Regression': {'Accuracy': 0.918, 'Precision': 0.027777777777777776, 'Recall': 0.14285714285714285, 'F1 Score': 0.046511627906976744, 'ROC AUC': 0.5882352941176471, 'Confusion Matrix': array([[458,  35],\n",
            "       [  6,   1]])}, 'SVM': {'Accuracy': 0.98, 'Precision': 0.0, 'Recall': 0.0, 'F1 Score': 0.0, 'ROC AUC': 0.486815415821501, 'Confusion Matrix': array([[490,   3],\n",
            "       [  7,   0]])}, 'Decision Tree': {'Accuracy': 0.956, 'Precision': 0.17391304347826086, 'Recall': 0.5714285714285714, 'F1 Score': 0.26666666666666666, 'ROC AUC': 0.766444508838018, 'Confusion Matrix': array([[474,  19],\n",
            "       [  3,   4]])}}\n",
            "_______________________________________________________________________________\n"
          ]
        }
      ]
    },
    {
      "cell_type": "markdown",
      "source": [
        "# Calling SVM-SMOTE Over-Sampling"
      ],
      "metadata": {
        "id": "28Pi8n0HM4vr"
      }
    },
    {
      "cell_type": "code",
      "source": [
        "results_svm_smote = dict()\n",
        "\n",
        "for ratio in ratios:\n",
        "\n",
        "    X_train_svm_smote, y_train_svm_smote = svm_smote_oversampling(X_train.to_numpy(), y_train.to_numpy(), [ratio])\n",
        "\n",
        "    preprocessed_X_train_svm_smote, scaler, imputer = preprocess_data_train((np.array(X_train_svm_smote))[0])\n",
        "    preprocessed_X_test_svm_smote = preprocess_data_test(X_test, scaler, imputer)\n",
        "\n",
        "    X_train_svm_smote, y_train_svm_smote = preprocessed_X_train_svm_smote, (np.array(y_train_svm_smote))[0]\n",
        "    X_test_svm_smote, y_test_svm_smote = preprocessed_X_test_svm_smote, y_test.to_numpy()\n",
        "\n",
        "    print(f\"Train data combined with {ratio * 100}% synthetic data of minority class:\")\n",
        "    print(len(X_train_svm_smote), len(y_train_svm_smote))\n",
        "    results = evaluate_models(X_train_svm_smote, X_test_svm_smote, y_train_svm_smote, y_test_svm_smote)\n",
        "    results_svm_smote[ratio] = results\n",
        "    print(results)\n",
        "    print(\"_______________________________________________________________________________\")"
      ],
      "metadata": {
        "id": "8vkEOubrM81F",
        "colab": {
          "base_uri": "https://localhost:8080/"
        },
        "outputId": "f5a3443f-efc9-4ede-85c7-d84b00132ff3"
      },
      "execution_count": 26,
      "outputs": [
        {
          "output_type": "stream",
          "name": "stderr",
          "text": [
            "/usr/local/lib/python3.10/dist-packages/sklearn/base.py:432: UserWarning: X has feature names, but SimpleImputer was fitted without feature names\n",
            "  warnings.warn(\n"
          ]
        },
        {
          "output_type": "stream",
          "name": "stdout",
          "text": [
            "Train data combined with 20.0% synthetic data of minority class:\n",
            "550 550\n",
            "{'Logistic Regression': {'Accuracy': 0.582, 'Precision': 0.02358490566037736, 'Recall': 0.7142857142857143, 'F1 Score': 0.04566210045662101, 'ROC AUC': 0.6627064618951028, 'Confusion Matrix': array([[286, 207],\n",
            "       [  2,   5]])}, 'SVM': {'Accuracy': 0.982, 'Precision': 0.0, 'Recall': 0.0, 'F1 Score': 0.0, 'ROC AUC': 0.6548826427122573, 'Confusion Matrix': array([[491,   2],\n",
            "       [  7,   0]])}, 'Decision Tree': {'Accuracy': 0.968, 'Precision': 0.2, 'Recall': 0.42857142857142855, 'F1 Score': 0.27272727272727276, 'ROC AUC': 0.7021153288901768, 'Confusion Matrix': array([[481,  12],\n",
            "       [  4,   3]])}}\n",
            "_______________________________________________________________________________\n",
            "Train data combined with 40.0% synthetic data of minority class:\n",
            "600 600\n"
          ]
        },
        {
          "output_type": "stream",
          "name": "stderr",
          "text": [
            "/usr/local/lib/python3.10/dist-packages/sklearn/base.py:432: UserWarning: X has feature names, but SimpleImputer was fitted without feature names\n",
            "  warnings.warn(\n"
          ]
        },
        {
          "output_type": "stream",
          "name": "stdout",
          "text": [
            "{'Logistic Regression': {'Accuracy': 0.544, 'Precision': 0.021645021645021644, 'Recall': 0.7142857142857143, 'F1 Score': 0.04201680672268907, 'ROC AUC': 0.632280498406259, 'Confusion Matrix': array([[267, 226],\n",
            "       [  2,   5]])}, 'SVM': {'Accuracy': 0.928, 'Precision': 0.08571428571428572, 'Recall': 0.42857142857142855, 'F1 Score': 0.14285714285714285, 'ROC AUC': 0.6841495218777165, 'Confusion Matrix': array([[461,  32],\n",
            "       [  4,   3]])}, 'Decision Tree': {'Accuracy': 0.97, 'Precision': 0.0, 'Recall': 0.0, 'F1 Score': 0.0, 'ROC AUC': 0.4918864097363083, 'Confusion Matrix': array([[485,   8],\n",
            "       [  7,   0]])}}\n",
            "_______________________________________________________________________________\n",
            "Train data combined with 60.00000000000001% synthetic data of minority class:\n",
            "650 650\n"
          ]
        },
        {
          "output_type": "stream",
          "name": "stderr",
          "text": [
            "/usr/local/lib/python3.10/dist-packages/sklearn/base.py:432: UserWarning: X has feature names, but SimpleImputer was fitted without feature names\n",
            "  warnings.warn(\n"
          ]
        },
        {
          "output_type": "stream",
          "name": "stdout",
          "text": [
            "{'Logistic Regression': {'Accuracy': 0.544, 'Precision': 0.021645021645021644, 'Recall': 0.7142857142857143, 'F1 Score': 0.04201680672268907, 'ROC AUC': 0.6409736308316429, 'Confusion Matrix': array([[267, 226],\n",
            "       [  2,   5]])}, 'SVM': {'Accuracy': 0.792, 'Precision': 0.02912621359223301, 'Recall': 0.42857142857142855, 'F1 Score': 0.05454545454545455, 'ROC AUC': 0.6731382208055636, 'Confusion Matrix': array([[393, 100],\n",
            "       [  4,   3]])}, 'Decision Tree': {'Accuracy': 0.958, 'Precision': 0.0, 'Recall': 0.0, 'F1 Score': 0.0, 'ROC AUC': 0.48580121703853957, 'Confusion Matrix': array([[479,  14],\n",
            "       [  7,   0]])}}\n",
            "_______________________________________________________________________________\n",
            "Train data combined with 80.0% synthetic data of minority class:\n",
            "700 700\n"
          ]
        },
        {
          "output_type": "stream",
          "name": "stderr",
          "text": [
            "/usr/local/lib/python3.10/dist-packages/sklearn/base.py:432: UserWarning: X has feature names, but SimpleImputer was fitted without feature names\n",
            "  warnings.warn(\n"
          ]
        },
        {
          "output_type": "stream",
          "name": "stdout",
          "text": [
            "{'Logistic Regression': {'Accuracy': 0.536, 'Precision': 0.02127659574468085, 'Recall': 0.7142857142857143, 'F1 Score': 0.04132231404958678, 'ROC AUC': 0.6424224862358736, 'Confusion Matrix': array([[263, 230],\n",
            "       [  2,   5]])}, 'SVM': {'Accuracy': 0.65, 'Precision': 0.022727272727272728, 'Recall': 0.5714285714285714, 'F1 Score': 0.04371584699453552, 'ROC AUC': 0.6363372935381049, 'Confusion Matrix': array([[321, 172],\n",
            "       [  3,   4]])}, 'Decision Tree': {'Accuracy': 0.958, 'Precision': 0.0, 'Recall': 0.0, 'F1 Score': 0.0, 'ROC AUC': 0.48580121703853957, 'Confusion Matrix': array([[479,  14],\n",
            "       [  7,   0]])}}\n",
            "_______________________________________________________________________________\n",
            "Train data combined with 100.0% synthetic data of minority class:\n",
            "751 751\n"
          ]
        },
        {
          "output_type": "stream",
          "name": "stderr",
          "text": [
            "/usr/local/lib/python3.10/dist-packages/sklearn/base.py:432: UserWarning: X has feature names, but SimpleImputer was fitted without feature names\n",
            "  warnings.warn(\n"
          ]
        },
        {
          "output_type": "stream",
          "name": "stdout",
          "text": [
            "{'Logistic Regression': {'Accuracy': 0.528, 'Precision': 0.02092050209205021, 'Recall': 0.7142857142857143, 'F1 Score': 0.04065040650406504, 'ROC AUC': 0.6557519559547956, 'Confusion Matrix': array([[259, 234],\n",
            "       [  2,   5]])}, 'SVM': {'Accuracy': 0.624, 'Precision': 0.021164021164021163, 'Recall': 0.5714285714285714, 'F1 Score': 0.04081632653061224, 'ROC AUC': 0.6114169805853376, 'Confusion Matrix': array([[308, 185],\n",
            "       [  3,   4]])}, 'Decision Tree': {'Accuracy': 0.964, 'Precision': 0.0, 'Recall': 0.0, 'F1 Score': 0.0, 'ROC AUC': 0.48884381338742394, 'Confusion Matrix': array([[482,  11],\n",
            "       [  7,   0]])}}\n",
            "_______________________________________________________________________________\n"
          ]
        }
      ]
    },
    {
      "cell_type": "markdown",
      "source": [
        "# No-Sampling Results"
      ],
      "metadata": {
        "id": "v7igNZJnja1m"
      }
    },
    {
      "cell_type": "code",
      "source": [
        "results_no_sampling = dict()\n",
        "\n",
        "for ratio in ratios:\n",
        "\n",
        "    X_train_no_sampling, y_train_no_sampling = X_train.to_numpy(), y_train.to_numpy()\n",
        "\n",
        "    preprocessed_X_train_no_sampling, scaler, imputer = preprocess_data_train(X_train_no_sampling)\n",
        "    preprocessed_X_test_no_sampling = preprocess_data_test(X_test, scaler, imputer)\n",
        "\n",
        "    X_train_no_sampling, y_train_no_sampling = preprocessed_X_train_no_sampling, y_train_no_sampling\n",
        "    X_test_no_sampling, y_test_no_sampling = preprocessed_X_test_no_sampling, y_test.to_numpy()\n",
        "\n",
        "    print(f\"Train data combined with {ratio * 100}% synthetic data of minority class:\")\n",
        "    print(len(X_train_no_sampling), len(y_train_no_sampling))\n",
        "    results = evaluate_models(X_train_no_sampling, X_test_no_sampling, y_train_no_sampling, y_test_no_sampling)\n",
        "    results_no_sampling[ratio] = results\n",
        "    print(results)\n",
        "    print(\"_______________________________________________________________________________\")"
      ],
      "metadata": {
        "id": "pkbztvKijXEH",
        "colab": {
          "base_uri": "https://localhost:8080/"
        },
        "outputId": "c0d806f3-0977-4e89-b8b0-fdf6966020e7"
      },
      "execution_count": 27,
      "outputs": [
        {
          "output_type": "stream",
          "name": "stderr",
          "text": [
            "/usr/local/lib/python3.10/dist-packages/sklearn/base.py:432: UserWarning: X has feature names, but SimpleImputer was fitted without feature names\n",
            "  warnings.warn(\n"
          ]
        },
        {
          "output_type": "stream",
          "name": "stdout",
          "text": [
            "Train data combined with 20.0% synthetic data of minority class:\n",
            "500 500\n"
          ]
        },
        {
          "output_type": "stream",
          "name": "stderr",
          "text": [
            "/usr/local/lib/python3.10/dist-packages/sklearn/metrics/_classification.py:1344: UndefinedMetricWarning: Precision is ill-defined and being set to 0.0 due to no predicted samples. Use `zero_division` parameter to control this behavior.\n",
            "  _warn_prf(average, modifier, msg_start, len(result))\n"
          ]
        },
        {
          "output_type": "stream",
          "name": "stdout",
          "text": [
            "{'Logistic Regression': {'Accuracy': 0.952, 'Precision': 0.05263157894736842, 'Recall': 0.14285714285714285, 'F1 Score': 0.07692307692307693, 'ROC AUC': 0.6146044624746451, 'Confusion Matrix': array([[475,  18],\n",
            "       [  6,   1]])}, 'SVM': {'Accuracy': 0.986, 'Precision': 0.0, 'Recall': 0.0, 'F1 Score': 0.0, 'ROC AUC': 0.46276441611127206, 'Confusion Matrix': array([[493,   0],\n",
            "       [  7,   0]])}, 'Decision Tree': {'Accuracy': 0.968, 'Precision': 0.09090909090909091, 'Recall': 0.14285714285714285, 'F1 Score': 0.1111111111111111, 'ROC AUC': 0.5612865835989568, 'Confusion Matrix': array([[483,  10],\n",
            "       [  6,   1]])}}\n",
            "_______________________________________________________________________________\n",
            "Train data combined with 40.0% synthetic data of minority class:\n",
            "500 500\n"
          ]
        },
        {
          "output_type": "stream",
          "name": "stderr",
          "text": [
            "/usr/local/lib/python3.10/dist-packages/sklearn/base.py:432: UserWarning: X has feature names, but SimpleImputer was fitted without feature names\n",
            "  warnings.warn(\n",
            "/usr/local/lib/python3.10/dist-packages/sklearn/metrics/_classification.py:1344: UndefinedMetricWarning: Precision is ill-defined and being set to 0.0 due to no predicted samples. Use `zero_division` parameter to control this behavior.\n",
            "  _warn_prf(average, modifier, msg_start, len(result))\n"
          ]
        },
        {
          "output_type": "stream",
          "name": "stdout",
          "text": [
            "{'Logistic Regression': {'Accuracy': 0.952, 'Precision': 0.05263157894736842, 'Recall': 0.14285714285714285, 'F1 Score': 0.07692307692307693, 'ROC AUC': 0.6146044624746451, 'Confusion Matrix': array([[475,  18],\n",
            "       [  6,   1]])}, 'SVM': {'Accuracy': 0.986, 'Precision': 0.0, 'Recall': 0.0, 'F1 Score': 0.0, 'ROC AUC': 0.46276441611127206, 'Confusion Matrix': array([[493,   0],\n",
            "       [  7,   0]])}, 'Decision Tree': {'Accuracy': 0.968, 'Precision': 0.09090909090909091, 'Recall': 0.14285714285714285, 'F1 Score': 0.1111111111111111, 'ROC AUC': 0.5612865835989568, 'Confusion Matrix': array([[483,  10],\n",
            "       [  6,   1]])}}\n",
            "_______________________________________________________________________________\n",
            "Train data combined with 60.00000000000001% synthetic data of minority class:\n",
            "500 500\n"
          ]
        },
        {
          "output_type": "stream",
          "name": "stderr",
          "text": [
            "/usr/local/lib/python3.10/dist-packages/sklearn/base.py:432: UserWarning: X has feature names, but SimpleImputer was fitted without feature names\n",
            "  warnings.warn(\n",
            "/usr/local/lib/python3.10/dist-packages/sklearn/metrics/_classification.py:1344: UndefinedMetricWarning: Precision is ill-defined and being set to 0.0 due to no predicted samples. Use `zero_division` parameter to control this behavior.\n",
            "  _warn_prf(average, modifier, msg_start, len(result))\n"
          ]
        },
        {
          "output_type": "stream",
          "name": "stdout",
          "text": [
            "{'Logistic Regression': {'Accuracy': 0.952, 'Precision': 0.05263157894736842, 'Recall': 0.14285714285714285, 'F1 Score': 0.07692307692307693, 'ROC AUC': 0.6146044624746451, 'Confusion Matrix': array([[475,  18],\n",
            "       [  6,   1]])}, 'SVM': {'Accuracy': 0.986, 'Precision': 0.0, 'Recall': 0.0, 'F1 Score': 0.0, 'ROC AUC': 0.46276441611127206, 'Confusion Matrix': array([[493,   0],\n",
            "       [  7,   0]])}, 'Decision Tree': {'Accuracy': 0.968, 'Precision': 0.09090909090909091, 'Recall': 0.14285714285714285, 'F1 Score': 0.1111111111111111, 'ROC AUC': 0.5612865835989568, 'Confusion Matrix': array([[483,  10],\n",
            "       [  6,   1]])}}\n",
            "_______________________________________________________________________________\n",
            "Train data combined with 80.0% synthetic data of minority class:\n",
            "500 500\n"
          ]
        },
        {
          "output_type": "stream",
          "name": "stderr",
          "text": [
            "/usr/local/lib/python3.10/dist-packages/sklearn/base.py:432: UserWarning: X has feature names, but SimpleImputer was fitted without feature names\n",
            "  warnings.warn(\n",
            "/usr/local/lib/python3.10/dist-packages/sklearn/metrics/_classification.py:1344: UndefinedMetricWarning: Precision is ill-defined and being set to 0.0 due to no predicted samples. Use `zero_division` parameter to control this behavior.\n",
            "  _warn_prf(average, modifier, msg_start, len(result))\n"
          ]
        },
        {
          "output_type": "stream",
          "name": "stdout",
          "text": [
            "{'Logistic Regression': {'Accuracy': 0.952, 'Precision': 0.05263157894736842, 'Recall': 0.14285714285714285, 'F1 Score': 0.07692307692307693, 'ROC AUC': 0.6146044624746451, 'Confusion Matrix': array([[475,  18],\n",
            "       [  6,   1]])}, 'SVM': {'Accuracy': 0.986, 'Precision': 0.0, 'Recall': 0.0, 'F1 Score': 0.0, 'ROC AUC': 0.46276441611127206, 'Confusion Matrix': array([[493,   0],\n",
            "       [  7,   0]])}, 'Decision Tree': {'Accuracy': 0.968, 'Precision': 0.09090909090909091, 'Recall': 0.14285714285714285, 'F1 Score': 0.1111111111111111, 'ROC AUC': 0.5612865835989568, 'Confusion Matrix': array([[483,  10],\n",
            "       [  6,   1]])}}\n",
            "_______________________________________________________________________________\n",
            "Train data combined with 100.0% synthetic data of minority class:\n",
            "500 500\n"
          ]
        },
        {
          "output_type": "stream",
          "name": "stderr",
          "text": [
            "/usr/local/lib/python3.10/dist-packages/sklearn/base.py:432: UserWarning: X has feature names, but SimpleImputer was fitted without feature names\n",
            "  warnings.warn(\n",
            "/usr/local/lib/python3.10/dist-packages/sklearn/metrics/_classification.py:1344: UndefinedMetricWarning: Precision is ill-defined and being set to 0.0 due to no predicted samples. Use `zero_division` parameter to control this behavior.\n",
            "  _warn_prf(average, modifier, msg_start, len(result))\n"
          ]
        },
        {
          "output_type": "stream",
          "name": "stdout",
          "text": [
            "{'Logistic Regression': {'Accuracy': 0.952, 'Precision': 0.05263157894736842, 'Recall': 0.14285714285714285, 'F1 Score': 0.07692307692307693, 'ROC AUC': 0.6146044624746451, 'Confusion Matrix': array([[475,  18],\n",
            "       [  6,   1]])}, 'SVM': {'Accuracy': 0.986, 'Precision': 0.0, 'Recall': 0.0, 'F1 Score': 0.0, 'ROC AUC': 0.46276441611127206, 'Confusion Matrix': array([[493,   0],\n",
            "       [  7,   0]])}, 'Decision Tree': {'Accuracy': 0.968, 'Precision': 0.09090909090909091, 'Recall': 0.14285714285714285, 'F1 Score': 0.1111111111111111, 'ROC AUC': 0.5612865835989568, 'Confusion Matrix': array([[483,  10],\n",
            "       [  6,   1]])}}\n",
            "_______________________________________________________________________________\n"
          ]
        }
      ]
    }
  ]
}